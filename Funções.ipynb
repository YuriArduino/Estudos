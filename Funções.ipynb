{
  "nbformat": 4,
  "nbformat_minor": 0,
  "metadata": {
    "colab": {
      "provenance": [],
      "authorship_tag": "ABX9TyMHCjGJ+gsdNCrMqdW8fe3e"
    },
    "kernelspec": {
      "name": "python3",
      "display_name": "Python 3"
    },
    "language_info": {
      "name": "python"
    }
  },
  "cells": [
    {
      "cell_type": "markdown",
      "source": [
        "#Funções:"
      ],
      "metadata": {
        "id": "4tCneW4k2zBU"
      }
    },
    {
      "cell_type": "markdown",
      "source": [
        "`Built-in functions:`"
      ],
      "metadata": {
        "id": "nhL9Udwn5QHA"
      }
    },
    {
      "cell_type": "code",
      "execution_count": 1,
      "metadata": {
        "colab": {
          "base_uri": "https://localhost:8080/"
        },
        "id": "h4OWtfnq2e3H",
        "outputId": "fae8baa3-534d-45b5-cce3-c4139b97d8fc"
      },
      "outputs": [
        {
          "output_type": "execute_result",
          "data": {
            "text/plain": [
              "{'1º Trimestre': 8.5, '2º Trimestre': 9.5, '3º Trimestre': 7}"
            ]
          },
          "metadata": {},
          "execution_count": 1
        }
      ],
      "source": [
        "#Nota do(a) estudante\n",
        "notas = {'1º Trimestre': 8.5, '2º Trimestre': 9.5,'3º Trimestre': 7}\n",
        "notas"
      ]
    },
    {
      "cell_type": "code",
      "source": [
        "#Calculando a soma\n",
        "soma = 0\n",
        "\n",
        "for nota in notas.values():\n",
        "  soma += nota\n",
        "\n",
        "soma"
      ],
      "metadata": {
        "colab": {
          "base_uri": "https://localhost:8080/"
        },
        "id": "Bre6HtnF3o41",
        "outputId": "d9d4f303-b301-4bca-de88-bf1ef540cd7a"
      },
      "execution_count": 2,
      "outputs": [
        {
          "output_type": "execute_result",
          "data": {
            "text/plain": [
              "25.0"
            ]
          },
          "metadata": {},
          "execution_count": 2
        }
      ]
    },
    {
      "cell_type": "code",
      "source": [
        "somatoria = sum(notas.values())\n",
        "somatoria"
      ],
      "metadata": {
        "colab": {
          "base_uri": "https://localhost:8080/"
        },
        "id": "iI1dXj3K4C1C",
        "outputId": "dab8bc4c-6333-409d-e385-f4ae34859999"
      },
      "execution_count": 3,
      "outputs": [
        {
          "output_type": "execute_result",
          "data": {
            "text/plain": [
              "25.0"
            ]
          },
          "metadata": {},
          "execution_count": 3
        }
      ]
    },
    {
      "cell_type": "code",
      "source": [
        "# Usando a função len()\n",
        "qtd_notas = len(notas)\n",
        "qtd_notas"
      ],
      "metadata": {
        "colab": {
          "base_uri": "https://localhost:8080/"
        },
        "id": "GOP95kDi4Kf_",
        "outputId": "357ddf8b-5902-495c-8f4a-f39d184c414d"
      },
      "execution_count": 4,
      "outputs": [
        {
          "output_type": "execute_result",
          "data": {
            "text/plain": [
              "3"
            ]
          },
          "metadata": {},
          "execution_count": 4
        }
      ]
    },
    {
      "cell_type": "code",
      "source": [
        "#Calculando a média\n",
        "\n",
        "media = somatoria / qtd_notas\n",
        "media"
      ],
      "metadata": {
        "colab": {
          "base_uri": "https://localhost:8080/"
        },
        "id": "2HApoSZn4aba",
        "outputId": "b764616d-ea94-4786-9192-dd446a9f269f"
      },
      "execution_count": 5,
      "outputs": [
        {
          "output_type": "execute_result",
          "data": {
            "text/plain": [
              "8.333333333333334"
            ]
          },
          "metadata": {},
          "execution_count": 5
        }
      ]
    },
    {
      "cell_type": "code",
      "source": [
        "#códigos para chamar ajuda\n",
        "#Entender melhor uma função, seu funcionamento\n",
        "help(round)\n",
        "round?"
      ],
      "metadata": {
        "colab": {
          "base_uri": "https://localhost:8080/"
        },
        "id": "rN8ICyDW4nK_",
        "outputId": "91911939-dd0e-4d55-e501-c53a4dfa526e"
      },
      "execution_count": 6,
      "outputs": [
        {
          "output_type": "stream",
          "name": "stdout",
          "text": [
            "Help on built-in function round in module builtins:\n",
            "\n",
            "round(number, ndigits=None)\n",
            "    Round a number to a given precision in decimal digits.\n",
            "    \n",
            "    The return value is an integer if ndigits is omitted or None.  Otherwise\n",
            "    the return value has the same type as the number.  ndigits may be negative.\n",
            "\n"
          ]
        }
      ]
    },
    {
      "cell_type": "code",
      "source": [
        "media = somatoria / qtd_notas\n",
        "media = round(media, 1) #O número aqui define a quantidade de decimais\n",
        "media"
      ],
      "metadata": {
        "colab": {
          "base_uri": "https://localhost:8080/"
        },
        "id": "AbIgezGx42uH",
        "outputId": "64b53712-f065-431b-a66c-e46456206510"
      },
      "execution_count": 7,
      "outputs": [
        {
          "output_type": "execute_result",
          "data": {
            "text/plain": [
              "8.3"
            ]
          },
          "metadata": {},
          "execution_count": 7
        }
      ]
    },
    {
      "cell_type": "markdown",
      "metadata": {
        "id": "8c9fb376"
      },
      "source": [
        "**Funções que definem o tipo de uma variável:**\n",
        "\n",
        "Algumas **built-in functions** (funções integradas do Python) são frequentemente usadas para converter valores e, assim, definir ou alterar o tipo de uma variável. Exemplos comuns incluem:\n",
        "\n",
        "*   `int()`: Converte para número inteiro.\n",
        "*   `float()`: Converte para número de ponto flutuante.\n",
        "*   `str()`: Converte para string (texto)."
      ]
    },
    {
      "cell_type": "markdown",
      "source": [
        "`Funçoes sem parâmetros:`"
      ],
      "metadata": {
        "id": "16cAkJI265u7"
      }
    },
    {
      "cell_type": "code",
      "source": [
        "#Formato padrão\n",
        "\n",
        "#def é a palavra-chave para criar uma função.\n",
        "#def <nome>():\n",
        "#    <instruções>"
      ],
      "metadata": {
        "id": "_cW8l0ms-Knq"
      },
      "execution_count": 16,
      "outputs": []
    },
    {
      "cell_type": "code",
      "source": [
        "def media():\n",
        "    calculo = (10 + 9 + 8) / 3\n",
        "    print(calculo)"
      ],
      "metadata": {
        "id": "3wmcaX2863q1"
      },
      "execution_count": 21,
      "outputs": []
    },
    {
      "cell_type": "code",
      "source": [
        "media ()"
      ],
      "metadata": {
        "colab": {
          "base_uri": "https://localhost:8080/"
        },
        "id": "p8mFCYUc7yaA",
        "outputId": "5245af77-c235-44ac-f0c2-6b2f5b44a832"
      },
      "execution_count": 18,
      "outputs": [
        {
          "output_type": "stream",
          "name": "stdout",
          "text": [
            "9.0\n"
          ]
        }
      ]
    },
    {
      "cell_type": "code",
      "source": [
        "resultado_media = media() + media()\n",
        "print(resultado_media)"
      ],
      "metadata": {
        "colab": {
          "base_uri": "https://localhost:8080/"
        },
        "id": "-sUvp7az745a",
        "outputId": "2c7f6aea-c2b6-46a9-e05c-2647746d4441"
      },
      "execution_count": 10,
      "outputs": [
        {
          "output_type": "stream",
          "name": "stdout",
          "text": [
            "18.0\n"
          ]
        }
      ]
    },
    {
      "cell_type": "code",
      "source": [
        "resultados_das_medias = [media(), media(), media()] # Uma lista com os resultados de media()\n",
        "soma_dos_resultados = sum(resultados_das_medias) # Agora sum() pode somar os itens desta lista\n",
        "print(soma_dos_resultados)"
      ],
      "metadata": {
        "colab": {
          "base_uri": "https://localhost:8080/"
        },
        "id": "V0VTSfVZ8LnG",
        "outputId": "a8ee9824-57d6-4422-f22d-80699f66a19c"
      },
      "execution_count": 11,
      "outputs": [
        {
          "output_type": "stream",
          "name": "stdout",
          "text": [
            "27.0\n"
          ]
        }
      ]
    },
    {
      "cell_type": "markdown",
      "source": [
        "`Funções com parâmetros:`\n",
        "\n",
        "\n",
        "A diferença entre a estrutura das funções com e sem parâmetros é que eles são passados entre parênteses e separados por vírgulas"
      ],
      "metadata": {
        "id": "Ts0iIsKL-fqv"
      }
    },
    {
      "cell_type": "code",
      "source": [
        "#Formato padrão\n",
        "\n",
        "#def <nome>(<param_1>, <param_2>, ..., >param_n>):\n",
        "#    <instruções>"
      ],
      "metadata": {
        "id": "PNfuIzwq-tyT"
      },
      "execution_count": 19,
      "outputs": []
    },
    {
      "cell_type": "code",
      "source": [
        "def media(nota_1, nota_2, nota_3):\n",
        "    calculo = (nota_1 + nota_2 + nota_3)/3\n",
        "    print(calculo)"
      ],
      "metadata": {
        "id": "oytLbrKT9HJp"
      },
      "execution_count": 23,
      "outputs": []
    },
    {
      "cell_type": "code",
      "source": [
        "media(3,6,9)"
      ],
      "metadata": {
        "colab": {
          "base_uri": "https://localhost:8080/"
        },
        "id": "2SH2QR3p9oZz",
        "outputId": "8c019d9a-2907-40d1-8c26-a199b6cbf032"
      },
      "execution_count": 24,
      "outputs": [
        {
          "output_type": "stream",
          "name": "stdout",
          "text": [
            "6.0\n"
          ]
        }
      ]
    },
    {
      "cell_type": "markdown",
      "source": [
        "Vale ressaltar que os **parâmetros** correspondem ao que passamos entre parênteses no momento de definir (criar) a **função**, por exemplo (nota_1 + nota_2 + nota_3). Os valores que passamos para substituir esses **parâmetros** no momento de executar a função passam a ser chamados de **argumentos**, por exemplo (3, 6, 9).\n",
        "\n",
        "Ou seja, o **argumento** não precisa necessariamente ser igual ao **parâmetro**. Mas quando criamos um **parâmetro** dentro dos parênteses da função, precisamos utilizar o mesmo nome para utilizá-lo nas instruções desta função."
      ],
      "metadata": {
        "id": "VgoWcNrl-5qy"
      }
    },
    {
      "cell_type": "code",
      "source": [
        "#Exemplo:\n",
        "\n",
        "\n",
        "nota1 = 3\n",
        "nota2 = 6\n",
        "nota3 = 9\n",
        "media(nota1, nota2, nota3)"
      ],
      "metadata": {
        "colab": {
          "base_uri": "https://localhost:8080/"
        },
        "id": "J9eCL2W6_Q6Y",
        "outputId": "30a1cf44-81fd-4dfb-e88f-11466548bede"
      },
      "execution_count": 26,
      "outputs": [
        {
          "output_type": "stream",
          "name": "stdout",
          "text": [
            "6.0\n"
          ]
        }
      ]
    },
    {
      "cell_type": "code",
      "source": [
        "#Notas dos estudantes\n",
        "notas = [8.5, 9.0, 6.0,10.0]"
      ],
      "metadata": {
        "id": "QmrSvR2tBOk1"
      },
      "execution_count": 32,
      "outputs": []
    },
    {
      "cell_type": "code",
      "source": [
        "def media(lista):\n",
        "  calculo = sum(lista) / len(lista)\n",
        "  print(calculo)"
      ],
      "metadata": {
        "id": "fjoSeeMGBfNu"
      },
      "execution_count": 33,
      "outputs": []
    },
    {
      "cell_type": "code",
      "source": [
        "media(notas)"
      ],
      "metadata": {
        "colab": {
          "base_uri": "https://localhost:8080/"
        },
        "id": "2fh5_wRABmdX",
        "outputId": "dfe10b0e-bf29-462e-a74a-a83b5bf6d177"
      },
      "execution_count": 34,
      "outputs": [
        {
          "output_type": "stream",
          "name": "stdout",
          "text": [
            "8.375\n"
          ]
        }
      ]
    },
    {
      "cell_type": "code",
      "source": [
        "resultado = media(notas)"
      ],
      "metadata": {
        "colab": {
          "base_uri": "https://localhost:8080/"
        },
        "id": "YivUqKbGB2E5",
        "outputId": "56243de2-e148-4540-a24e-b1d29323e0f7"
      },
      "execution_count": 35,
      "outputs": [
        {
          "output_type": "stream",
          "name": "stdout",
          "text": [
            "8.375\n"
          ]
        }
      ]
    },
    {
      "cell_type": "code",
      "source": [
        "resultado"
      ],
      "metadata": {
        "id": "w61x9pWmCBB3"
      },
      "execution_count": 36,
      "outputs": []
    },
    {
      "cell_type": "code",
      "source": [
        "type(resultado)"
      ],
      "metadata": {
        "colab": {
          "base_uri": "https://localhost:8080/"
        },
        "id": "ck9h3-QhCPo-",
        "outputId": "fd0b646f-af5a-49f6-a9a0-71b1b273030c"
      },
      "execution_count": 37,
      "outputs": [
        {
          "output_type": "execute_result",
          "data": {
            "text/plain": [
              "NoneType"
            ]
          },
          "metadata": {},
          "execution_count": 37
        }
      ]
    },
    {
      "cell_type": "code",
      "source": [
        "calculo"
      ],
      "metadata": {
        "colab": {
          "base_uri": "https://localhost:8080/",
          "height": 141
        },
        "id": "6Lo6zYruCWgv",
        "outputId": "0672d910-b407-438a-fd0e-3786500a6244"
      },
      "execution_count": 38,
      "outputs": [
        {
          "output_type": "error",
          "ename": "NameError",
          "evalue": "name 'calculo' is not defined",
          "traceback": [
            "\u001b[0;31m---------------------------------------------------------------------------\u001b[0m",
            "\u001b[0;31mNameError\u001b[0m                                 Traceback (most recent call last)",
            "\u001b[0;32m/tmp/ipython-input-1498647408.py\u001b[0m in \u001b[0;36m<cell line: 0>\u001b[0;34m()\u001b[0m\n\u001b[0;32m----> 1\u001b[0;31m \u001b[0mcalculo\u001b[0m\u001b[0;34m\u001b[0m\u001b[0;34m\u001b[0m\u001b[0m\n\u001b[0m",
            "\u001b[0;31mNameError\u001b[0m: name 'calculo' is not defined"
          ]
        }
      ]
    },
    {
      "cell_type": "markdown",
      "source": [
        "`Escopo de função`\n",
        "\n",
        "Determina que uma variável que nasce dentro de uma função, também morre dentro desta função. Ou seja, existe apenas dentro da função, então não conseguimos utilizar este valor."
      ],
      "metadata": {
        "id": "wCuauuOxCfKS"
      }
    },
    {
      "cell_type": "markdown",
      "metadata": {
        "id": "34d0264f"
      },
      "source": [
        "## Escopo de Variáveis em Python\n",
        "\n",
        "O **escopo** de uma variável em Python determina a região do código onde ela pode ser acessada. No contexto de funções, o escopo é dividido principalmente em duas categorias:\n",
        "\n",
        "*   **Escopo Global:** Variáveis definidas no escopo global podem ser acessadas por qualquer função ou código em execução no programa.\n",
        "*   **Escopo Local:** Variáveis definidas dentro de uma função existem apenas dentro dessa função e só podem ser acessadas por ela.\n",
        "\n",
        "### O Problema de Escopo (NameError)\n",
        "\n",
        "Um problema comum de escopo ocorre quando você tenta acessar uma variável definida no **escopo local** (dentro de uma função) a partir do **escopo global** (fora da função). Nesses casos, o Python gera um erro `NameError`, indicando que a variável não foi definida nesse escopo.\n",
        "\n",
        "### Exemplo Ilustrativo\n",
        "\n",
        "Vamos ver um exemplo para entender melhor:\n",
        "\n",
        "Primeiro, definimos uma variável `x` no escopo global e uma função `soma()` que define uma variável `y` no escopo local e tenta somar `x` e `y`."
      ]
    },
    {
      "cell_type": "code",
      "source": [
        "x = 7\n",
        "\n",
        "def soma():\n",
        "  y = 9\n",
        "  print(x + y)"
      ],
      "metadata": {
        "id": "dVacPqUvD1-u"
      },
      "execution_count": 44,
      "outputs": []
    },
    {
      "cell_type": "code",
      "metadata": {
        "colab": {
          "base_uri": "https://localhost:8080/"
        },
        "id": "9de640a7",
        "outputId": "4c857cab-fea1-441e-dbd7-7651666b4211"
      },
      "source": [
        "soma()"
      ],
      "execution_count": 45,
      "outputs": [
        {
          "output_type": "stream",
          "name": "stdout",
          "text": [
            "16\n"
          ]
        }
      ]
    },
    {
      "cell_type": "markdown",
      "source": [
        "No entanto, o Python gera um erro quando tentamos imprimir a soma de x e y fora do escopo da função, pois a variável y existe apenas dentro da função soma()."
      ],
      "metadata": {
        "id": "09gry0bRD9UP"
      }
    },
    {
      "cell_type": "code",
      "metadata": {
        "colab": {
          "base_uri": "https://localhost:8080/",
          "height": 141
        },
        "id": "16347529",
        "outputId": "a55eadab-e1d6-4c0d-9ce6-7a952f8f43ad"
      },
      "source": [
        "print(x + y)"
      ],
      "execution_count": 46,
      "outputs": [
        {
          "output_type": "error",
          "ename": "NameError",
          "evalue": "name 'y' is not defined",
          "traceback": [
            "\u001b[0;31m---------------------------------------------------------------------------\u001b[0m",
            "\u001b[0;31mNameError\u001b[0m                                 Traceback (most recent call last)",
            "\u001b[0;32m/tmp/ipython-input-3598954175.py\u001b[0m in \u001b[0;36m<cell line: 0>\u001b[0;34m()\u001b[0m\n\u001b[0;32m----> 1\u001b[0;31m \u001b[0mprint\u001b[0m\u001b[0;34m(\u001b[0m\u001b[0mx\u001b[0m \u001b[0;34m+\u001b[0m \u001b[0my\u001b[0m\u001b[0;34m)\u001b[0m\u001b[0;34m\u001b[0m\u001b[0;34m\u001b[0m\u001b[0m\n\u001b[0m",
            "\u001b[0;31mNameError\u001b[0m: name 'y' is not defined"
          ]
        }
      ]
    },
    {
      "cell_type": "markdown",
      "source": [
        "Para corrigir esse erro, podemos tornar y uma variável global ou retornar seu valor na função e atribuí-lo a uma variável externa."
      ],
      "metadata": {
        "id": "wFxzjRSWEAQH"
      }
    },
    {
      "cell_type": "markdown",
      "source": [
        "`Funções que retornam valores:`"
      ],
      "metadata": {
        "id": "sixrn9fdEhNl"
      }
    },
    {
      "cell_type": "code",
      "source": [
        "#Formato padrão\n",
        "\n",
        "#def <nome>(<param_1>, <param_2>, ..., >param_n>):\n",
        "#    <instruções>\n",
        "#    return resultado"
      ],
      "metadata": {
        "id": "5tWRhdHaEB9J"
      },
      "execution_count": 51,
      "outputs": []
    },
    {
      "cell_type": "code",
      "source": [
        "# Notas do(a) estudante\n",
        "notas = [8.5, 9.0, 6.0, 10.0]"
      ],
      "metadata": {
        "id": "nPwnLxmoEtew"
      },
      "execution_count": 47,
      "outputs": []
    },
    {
      "cell_type": "code",
      "source": [
        "def media(lista):\n",
        "    calculo = sum(lista) / len(lista)\n",
        "    return calculo"
      ],
      "metadata": {
        "id": "7afagvEEEvbE"
      },
      "execution_count": 48,
      "outputs": []
    },
    {
      "cell_type": "code",
      "source": [
        "resultado = media(notas)"
      ],
      "metadata": {
        "id": "_eR3qYn9Ew7w"
      },
      "execution_count": 49,
      "outputs": []
    },
    {
      "cell_type": "code",
      "source": [
        "resultado"
      ],
      "metadata": {
        "colab": {
          "base_uri": "https://localhost:8080/"
        },
        "id": "WkT-XQGcEx-6",
        "outputId": "9b0ab815-db72-4344-a1cb-e6f8a2ed9f18"
      },
      "execution_count": 50,
      "outputs": [
        {
          "output_type": "execute_result",
          "data": {
            "text/plain": [
              "8.375"
            ]
          },
          "metadata": {},
          "execution_count": 50
        }
      ]
    },
    {
      "cell_type": "code",
      "source": [
        "#Notas do(a) estudante\n",
        "notas = [6.0, 7.0, 9.0, 5.0]"
      ],
      "metadata": {
        "id": "sqw-w7UJE_3m"
      },
      "execution_count": 52,
      "outputs": []
    },
    {
      "cell_type": "code",
      "source": [
        "def boletim(lista):\n",
        "  media = sum(lista) / len(lista)\n",
        "\n",
        "  if media >= 6:\n",
        "    situacao = 'Aprovado(a)'\n",
        "  else:\n",
        "    situacao = 'Reprovado'\n",
        "\n",
        "  # Retorna a média e a situação do estudante como uma tupla\n",
        "  return (media,situacao)"
      ],
      "metadata": {
        "id": "3UXRV7Y5FKzQ"
      },
      "execution_count": 60,
      "outputs": []
    },
    {
      "cell_type": "code",
      "source": [
        "boletim(notas)"
      ],
      "metadata": {
        "colab": {
          "base_uri": "https://localhost:8080/"
        },
        "id": "94v3279BF-L0",
        "outputId": "9f6b9e17-5ca1-42a5-a32b-a703936d9d3d"
      },
      "execution_count": 55,
      "outputs": [
        {
          "output_type": "execute_result",
          "data": {
            "text/plain": [
              "(6.75, 'Aprovado(a)')"
            ]
          },
          "metadata": {},
          "execution_count": 55
        }
      ]
    },
    {
      "cell_type": "code",
      "source": [
        "media, situacao = boletim(notas)\n",
        "# Desempacota a tupla\n",
        "# retornada pela função boletim em duas variáveis"
      ],
      "metadata": {
        "id": "QFco6_k8GQDi"
      },
      "execution_count": 62,
      "outputs": []
    },
    {
      "cell_type": "code",
      "source": [
        "media"
      ],
      "metadata": {
        "colab": {
          "base_uri": "https://localhost:8080/"
        },
        "id": "Oj7kvJGtGWxs",
        "outputId": "2fb811e9-1b53-40c4-a397-638eb414e62a"
      },
      "execution_count": 57,
      "outputs": [
        {
          "output_type": "execute_result",
          "data": {
            "text/plain": [
              "6.75"
            ]
          },
          "metadata": {},
          "execution_count": 57
        }
      ]
    },
    {
      "cell_type": "code",
      "source": [
        "situacao"
      ],
      "metadata": {
        "colab": {
          "base_uri": "https://localhost:8080/",
          "height": 35
        },
        "id": "1ACwTiXGGYRE",
        "outputId": "c85f11ed-edf4-4d8d-b726-e1f27d629612"
      },
      "execution_count": 58,
      "outputs": [
        {
          "output_type": "execute_result",
          "data": {
            "text/plain": [
              "'Aprovado(a)'"
            ],
            "application/vnd.google.colaboratory.intrinsic+json": {
              "type": "string"
            }
          },
          "metadata": {},
          "execution_count": 58
        }
      ]
    },
    {
      "cell_type": "code",
      "source": [
        "print(f'O estudante atingiu uma média de {media} e foi {situacao}.' )"
      ],
      "metadata": {
        "colab": {
          "base_uri": "https://localhost:8080/"
        },
        "id": "eJtOtYErGbzY",
        "outputId": "00cfaa98-4613-4c14-fb47-032b8578f433"
      },
      "execution_count": 59,
      "outputs": [
        {
          "output_type": "stream",
          "name": "stdout",
          "text": [
            "O estudante atingiu uma média de 6.75 e foi Aprovado(a).\n"
          ]
        }
      ]
    },
    {
      "cell_type": "markdown",
      "source": [
        "`Type Hint:`\n",
        "\n",
        "O Type Hint é uma sintaxe utilizada no Python para indicar o tipo de dado esperado de um parâmetro ou retorno de função, auxiliando na legibilidade e manutenção do código. Podemos dizer, em poucas palavras, que ela é a dica de tipagem dos dados."
      ],
      "metadata": {
        "id": "BFtvNgg8m2Hg"
      }
    },
    {
      "cell_type": "code",
      "source": [
        "#Formato de código:\n",
        "#def <nome>(<param>: <tipo_param>) -> <tipo_retorno>:\n",
        "#  <instruções>\n",
        "#  return resultado\n",
        "\n"
      ],
      "metadata": {
        "id": "Aze74xtLm7XO"
      },
      "execution_count": null,
      "outputs": []
    },
    {
      "cell_type": "code",
      "source": [
        "# a nossa função recebe uma lista do tipo list e retorna uma variável do tipo float\n",
        "def media(lista: list) -> float:\n",
        "  calculo = sum(lista) / len(lista)\n",
        "  return calculo"
      ],
      "metadata": {
        "id": "XxwWklmNnE0C"
      },
      "execution_count": 1,
      "outputs": []
    },
    {
      "cell_type": "markdown",
      "source": [
        "Se escrevermos a função media() em outra célula e passarmos o mouse por cima, podemos observar a seguinte imagem apontando as dicas de tipagem dos parâmetros de entrada e retorno da função:"
      ],
      "metadata": {
        "id": "9WVyoKD9nXn4"
      }
    },
    {
      "cell_type": "code",
      "source": [
        "media()"
      ],
      "metadata": {
        "colab": {
          "base_uri": "https://localhost:8080/",
          "height": 141
        },
        "id": "6kGApOLinLJw",
        "outputId": "b04f2092-cfa4-414a-b41c-e671860711e2"
      },
      "execution_count": 2,
      "outputs": [
        {
          "output_type": "error",
          "ename": "TypeError",
          "evalue": "media() missing 1 required positional argument: 'lista'",
          "traceback": [
            "\u001b[0;31m---------------------------------------------------------------------------\u001b[0m",
            "\u001b[0;31mTypeError\u001b[0m                                 Traceback (most recent call last)",
            "\u001b[0;32m/tmp/ipython-input-1187343183.py\u001b[0m in \u001b[0;36m<cell line: 0>\u001b[0;34m()\u001b[0m\n\u001b[0;32m----> 1\u001b[0;31m \u001b[0mmedia\u001b[0m\u001b[0;34m(\u001b[0m\u001b[0;34m)\u001b[0m\u001b[0;34m\u001b[0m\u001b[0;34m\u001b[0m\u001b[0m\n\u001b[0m",
            "\u001b[0;31mTypeError\u001b[0m: media() missing 1 required positional argument: 'lista'"
          ]
        }
      ]
    },
    {
      "cell_type": "markdown",
      "source": [
        "`Default value:`\n",
        "\n",
        "No Python, o Default Value é um valor padrão atribuído a um argumento de função que é utilizado caso nenhum valor seja passado pelo usuário."
      ],
      "metadata": {
        "id": "NwVKHM_Pnam2"
      }
    },
    {
      "cell_type": "code",
      "source": [
        "#Formato padrão\n",
        " # <nome_variavel>: <tipo_variavel> = <valor_variavel>"
      ],
      "metadata": {
        "id": "O6V0epYcnfgc"
      },
      "execution_count": null,
      "outputs": []
    },
    {
      "cell_type": "code",
      "source": [
        "# a nossa função recebe uma lista do tipo list e retorna uma variável do tipo float\n",
        "# caso não recebe nenhum valor de parâmetro será passada uma lista com um único\n",
        "# elemento sendo ele zero\n",
        "def media(lista: list=[0]) -> float:\n",
        "  calculo = sum(lista) / len(lista)\n",
        "  return calculo"
      ],
      "metadata": {
        "id": "et6YMmJ2nlHa"
      },
      "execution_count": 3,
      "outputs": []
    },
    {
      "cell_type": "code",
      "source": [
        "media()"
      ],
      "metadata": {
        "colab": {
          "base_uri": "https://localhost:8080/"
        },
        "id": "3MUiS2zPnorK",
        "outputId": "90643f10-4e65-4677-ffa5-9ca2bba82078"
      },
      "execution_count": 4,
      "outputs": [
        {
          "output_type": "execute_result",
          "data": {
            "text/plain": [
              "0.0"
            ]
          },
          "metadata": {},
          "execution_count": 4
        }
      ]
    },
    {
      "cell_type": "markdown",
      "source": [
        "`Docstring:`\n",
        "\n",
        "Por fim, temos o Docstring que é uma string literal usada para documentar módulo, função, classe ou método em Python. Ela é colocada como o primeiro item de definição e pode ser acessada usando a função help().\n",
        "\n",
        "O Docstring deve descrever propósito, parâmetros, tipo de retorno e exceções levantadas pela função. É uma boa prática de programação utilizar Docstrings em seu código para facilitar a leitura, manutenção e compartilhamento do código com outras pessoas desenvolvedoras."
      ],
      "metadata": {
        "id": "EzvZQKurnuAk"
      }
    },
    {
      "cell_type": "code",
      "source": [
        "#Formato padrão\n",
        "\n",
        "#def <nome>(<param_1>, <param_2>, ..., <param_n>):\n",
        "#    ''' Texto documentando sua função...\n",
        "#    '''\n",
        "#  <instruções>\n",
        "#  return resultado"
      ],
      "metadata": {
        "id": "gLM0qjVhny96"
      },
      "execution_count": null,
      "outputs": []
    },
    {
      "cell_type": "code",
      "source": [
        "def media(lista: list=[0]) -> float:\n",
        "  ''' Função para calcular a média de notas passadas por uma lista\n",
        "\n",
        "  lista: list, default [0]\n",
        "    Lista com as notas para calcular a média\n",
        "  return = calculo: float\n",
        "    Média calculada\n",
        "  '''\n",
        "  calculo = sum(lista) / len(lista)\n",
        "  return calculo"
      ],
      "metadata": {
        "id": "32-IGUKun6ZS"
      },
      "execution_count": 5,
      "outputs": []
    },
    {
      "cell_type": "code",
      "source": [
        "help(media)"
      ],
      "metadata": {
        "colab": {
          "base_uri": "https://localhost:8080/"
        },
        "id": "qFAJBsGNn-QA",
        "outputId": "8485880a-3198-4ca5-88ce-ad99f74173b6"
      },
      "execution_count": 6,
      "outputs": [
        {
          "output_type": "stream",
          "name": "stdout",
          "text": [
            "Help on function media in module __main__:\n",
            "\n",
            "media(lista: list = [0]) -> float\n",
            "    Função para calcular a média de notas passadas por uma lista\n",
            "    \n",
            "    lista: list, default [0]\n",
            "      Lista com as notas para calcular a média\n",
            "    return = calculo: float\n",
            "      Média calculada\n",
            "\n"
          ]
        }
      ]
    },
    {
      "cell_type": "markdown",
      "source": [
        "#Funções Lambda"
      ],
      "metadata": {
        "id": "13FC9t6MqBrw"
      }
    },
    {
      "cell_type": "markdown",
      "source": [
        "Uma função lambda, também chamada de função anônima, não precisa ser definida, ou seja, não possui um nome. Além disso, pode ser descrita uma única linha."
      ],
      "metadata": {
        "id": "S3BzCRI2qGFj"
      }
    },
    {
      "cell_type": "code",
      "source": [
        "#Formato padrão\n",
        "#lambda <variavel>: <expressao>"
      ],
      "metadata": {
        "id": "1OiSEihPvSkf"
      },
      "execution_count": null,
      "outputs": []
    },
    {
      "cell_type": "code",
      "source": [
        "# Comparando uma função de qualitativo no formato de função para função anônima\n",
        "nota = float(input('Digite a nota do(a) estudante: '))\n",
        "\n",
        "def qualitativo(x):\n",
        "\n",
        "  return x + 0.5\n",
        "\n",
        "qualitativo(nota)"
      ],
      "metadata": {
        "colab": {
          "base_uri": "https://localhost:8080/"
        },
        "id": "EUV9bZOevezk",
        "outputId": "ddc299bf-68a9-478d-c3f3-e81fdf225c04"
      },
      "execution_count": 7,
      "outputs": [
        {
          "name": "stdout",
          "output_type": "stream",
          "text": [
            "Digite a nota do(a) estudante: 8\n"
          ]
        },
        {
          "output_type": "execute_result",
          "data": {
            "text/plain": [
              "8.5"
            ]
          },
          "metadata": {},
          "execution_count": 7
        }
      ]
    },
    {
      "cell_type": "code",
      "source": [
        "#Testando a mesma função para a função lambda\n",
        "nota = float(input('Digite a nota do(a) estudante: '))\n",
        "\n",
        "qualitativo = lambda x: x + 0.5\n",
        "\n",
        "qualitativo(nota)"
      ],
      "metadata": {
        "colab": {
          "base_uri": "https://localhost:8080/"
        },
        "id": "lgfGxkaQwMPj",
        "outputId": "0b57723f-6d78-4e49-cd57-ce790ea84f80"
      },
      "execution_count": 8,
      "outputs": [
        {
          "name": "stdout",
          "output_type": "stream",
          "text": [
            "Digite a nota do(a) estudante: 8\n"
          ]
        },
        {
          "output_type": "execute_result",
          "data": {
            "text/plain": [
              "8.5"
            ]
          },
          "metadata": {},
          "execution_count": 8
        }
      ]
    },
    {
      "cell_type": "code",
      "source": [
        "# Recebendo as notas e calculando a média ponderável\n",
        "N1 = float(input(\"Digite a 1ª nota do(a) estudante: \"))\n",
        "N2 = float(input(\"Digite a 2ª nota do(a) estudante: \"))\n",
        "N3 = float(input(\"Digite a 3ª nota do(a) estudante: \"))\n",
        "\n",
        "media_podenrada = lambda x, y, z: (x * 3 + y * 2 + z * 5) / 10\n",
        "media_estudante = media_podenrada(N1, N2, N3)\n",
        "media_estudante"
      ],
      "metadata": {
        "colab": {
          "base_uri": "https://localhost:8080/"
        },
        "id": "W5MkXD5awpI-",
        "outputId": "dfc33584-ac0a-4250-a883-f3cfdc913ef1"
      },
      "execution_count": 9,
      "outputs": [
        {
          "name": "stdout",
          "output_type": "stream",
          "text": [
            "Digite a 1ª nota do(a) estudante: 8\n",
            "Digite a 2ª nota do(a) estudante: 5\n",
            "Digite a 3ª nota do(a) estudante: 9\n"
          ]
        },
        {
          "output_type": "execute_result",
          "data": {
            "text/plain": [
              "7.9"
            ]
          },
          "metadata": {},
          "execution_count": 9
        }
      ]
    },
    {
      "cell_type": "code",
      "source": [
        "# Exibindo a média\n",
        "print(f'O(A) estudante atingiu uma media de {media_estudante}')"
      ],
      "metadata": {
        "colab": {
          "base_uri": "https://localhost:8080/"
        },
        "id": "FO_A1JFgxRou",
        "outputId": "c7954af6-2711-45db-a9e6-a80b64d8d4b0"
      },
      "execution_count": 10,
      "outputs": [
        {
          "output_type": "stream",
          "name": "stdout",
          "text": [
            "O(A) estudante atingiu uma media de 7.9\n"
          ]
        }
      ]
    },
    {
      "cell_type": "markdown",
      "source": [
        "`Função MAP`"
      ],
      "metadata": {
        "id": "mbZC6CyKxqhg"
      }
    },
    {
      "cell_type": "markdown",
      "source": [
        "O map é uma _BUILT-IN FUNCTIONS que mapeia valores. Quando usado junto à lambda, conseguimos realizar funções simples e rápidas que nos permitem alterar valores de variáveis, listas e até dicionários."
      ],
      "metadata": {
        "id": "FYgrj1tXxxfm"
      }
    },
    {
      "cell_type": "code",
      "source": [
        "#Formato padrão\n",
        "#map(<lambda function>, <iterador>)"
      ],
      "metadata": {
        "id": "TCNefMKqx5Qf"
      },
      "execution_count": null,
      "outputs": []
    },
    {
      "cell_type": "code",
      "source": [
        "# Notas do(a) estudante\n",
        "notas = [6.0, 7.0, 9.0, 5.5, 8.0]\n",
        "qualitativo = 0.5"
      ],
      "metadata": {
        "id": "smiUe_V7yF8r"
      },
      "execution_count": 11,
      "outputs": []
    },
    {
      "cell_type": "code",
      "source": [
        "# notas_atualizadas = lambda x: x + qualitativo\n",
        "# notas_atualizadas(notas)\n",
        "\n",
        "# O lambda é ideal para expressões simples com um único valor.\n",
        "# Para aplicar uma função a cada item de uma estrutura de dados (lista, dict, etc.), usamos 'map'.\n",
        "\n",
        "\n",
        "notas_atualizadas = map(lambda x: x + qualitativo, notas)\n",
        "notas_atualizadas"
      ],
      "metadata": {
        "colab": {
          "base_uri": "https://localhost:8080/"
        },
        "id": "wQSAmt3XyOXr",
        "outputId": "f566d353-525f-4619-860e-6e3d20115079"
      },
      "execution_count": 14,
      "outputs": [
        {
          "output_type": "execute_result",
          "data": {
            "text/plain": [
              "<map at 0x7b8e011d3e80>"
            ]
          },
          "metadata": {},
          "execution_count": 14
        }
      ]
    },
    {
      "cell_type": "code",
      "source": [
        "notas_atualizadas = list(notas_atualizadas)"
      ],
      "metadata": {
        "id": "s-5Tcgt_zlPV"
      },
      "execution_count": 15,
      "outputs": []
    },
    {
      "cell_type": "code",
      "source": [
        "notas_atualizadas"
      ],
      "metadata": {
        "colab": {
          "base_uri": "https://localhost:8080/"
        },
        "id": "77lwmuhcztlE",
        "outputId": "4b59542d-8167-4745-cc9e-0a0ff30ab6ae"
      },
      "execution_count": 16,
      "outputs": [
        {
          "output_type": "execute_result",
          "data": {
            "text/plain": [
              "[6.5, 7.5, 9.5, 6.0, 8.5]"
            ]
          },
          "metadata": {},
          "execution_count": 16
        }
      ]
    },
    {
      "cell_type": "code",
      "source": [
        "notas"
      ],
      "metadata": {
        "colab": {
          "base_uri": "https://localhost:8080/"
        },
        "id": "zsmDuGiZzxCq",
        "outputId": "d347bdaa-3b16-4118-c004-09161d37dfba"
      },
      "execution_count": 17,
      "outputs": [
        {
          "output_type": "execute_result",
          "data": {
            "text/plain": [
              "[6.0, 7.0, 9.0, 5.5, 8.0]"
            ]
          },
          "metadata": {},
          "execution_count": 17
        }
      ]
    },
    {
      "cell_type": "code",
      "source": [
        "# Gerando uma lista com a diferença entre notas_atualizadas e notas\n",
        "diferenca_notas = list(map(lambda x, y: x - y, notas_atualizadas, notas))\n",
        "diferenca_notas"
      ],
      "metadata": {
        "colab": {
          "base_uri": "https://localhost:8080/"
        },
        "id": "mBgjTjOSz4kQ",
        "outputId": "fc31823e-7c82-46e2-8d0c-61d35bfca4c5"
      },
      "execution_count": 19,
      "outputs": [
        {
          "output_type": "execute_result",
          "data": {
            "text/plain": [
              "[0.5, 0.5, 0.5, 0.5, 0.5]"
            ]
          },
          "metadata": {},
          "execution_count": 19
        }
      ]
    }
  ]
}