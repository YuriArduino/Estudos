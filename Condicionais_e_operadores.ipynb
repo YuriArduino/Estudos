{
  "nbformat": 4,
  "nbformat_minor": 0,
  "metadata": {
    "colab": {
      "provenance": [],
      "authorship_tag": "ABX9TyM3LX7Po34gdteFqOjlkfbC"
    },
    "kernelspec": {
      "name": "python3",
      "display_name": "Python 3"
    },
    "language_info": {
      "name": "python"
    }
  },
  "cells": [
    {
      "cell_type": "markdown",
      "source": [
        "**If**  e **Else**"
      ],
      "metadata": {
        "id": "LK20GhRCvFHV"
      }
    },
    {
      "cell_type": "code",
      "execution_count": 8,
      "metadata": {
        "colab": {
          "base_uri": "https://localhost:8080/"
        },
        "id": "F6XPWQJ9uaUn",
        "outputId": "a0e4fcc1-b9df-4bdd-cc17-43f9827940b9"
      },
      "outputs": [
        {
          "output_type": "stream",
          "name": "stdout",
          "text": [
            "condição verdadeira\n"
          ]
        }
      ],
      "source": [
        "if 2<7:\n",
        "   print('condição verdadeira')\n",
        "else:\n",
        "  print('fora do bloco')"
      ]
    },
    {
      "cell_type": "code",
      "source": [
        "if 2>7:\n",
        "   print('condição verdadeira')\n",
        "else:\n",
        "  print('fora do bloco')"
      ],
      "metadata": {
        "colab": {
          "base_uri": "https://localhost:8080/"
        },
        "id": "enfXZB5A4Wn4",
        "outputId": "ccfd7645-d19c-47dc-8235-9de5a1cfe9dd"
      },
      "execution_count": 9,
      "outputs": [
        {
          "output_type": "stream",
          "name": "stdout",
          "text": [
            "fora do bloco\n"
          ]
        }
      ]
    },
    {
      "cell_type": "code",
      "source": [
        "idade_maria = int(input('Digite a idade da Maria: '))\n",
        "idade_beatriz = int(input('Digite a idade da Beatriz: '))\n",
        "\n",
        "# Se a idade de Maria for maior que a de Beatriz, executa este bloco.\n",
        "if idade_maria > idade_beatriz:\n",
        "  print('Maria é mais velha que Beatriz.')\n",
        "\n",
        "# Senão, se a idade de Maria for igual à de Beatriz, executa este bloco.\n",
        "elif idade_maria == idade_beatriz:\n",
        "  print('Maria e Beatriz tem a mesma idade.')\n",
        "\n",
        "# Senão (se nenhuma das condições acima for verdadeira), executa este bloco.\n",
        "else:\n",
        "  print('Beatriz é mais velha que Maria.')"
      ],
      "metadata": {
        "colab": {
          "base_uri": "https://localhost:8080/"
        },
        "id": "Ju_ennNf4rvz",
        "outputId": "3e259153-f9db-4d28-b676-d4a0f1ee479e"
      },
      "execution_count": 14,
      "outputs": [
        {
          "output_type": "stream",
          "name": "stdout",
          "text": [
            "Digite a idade da Maria: 70\n",
            "Digite a idade da Beatriz: 50\n",
            "Maria é mais velha que Beatriz.\n"
          ]
        }
      ]
    },
    {
      "cell_type": "code",
      "metadata": {
        "colab": {
          "base_uri": "https://localhost:8080/"
        },
        "id": "28ff857f",
        "outputId": "297efc1c-16ff-4721-e2f5-311011fa6422"
      },
      "source": [
        "# Exemplo de uso do operador != (diferente de)\n",
        "\n",
        "numero1 = 10\n",
        "numero2 = 5\n",
        "numero3 = 10\n",
        "\n",
        "# Verifica se numero1 é diferente de numero2\n",
        "if numero1 != numero2:\n",
        "  print(f'{numero1} é diferente de {numero2}')\n",
        "\n",
        "# Verifica se numero1 é diferente de numero3\n",
        "if numero1 != numero3:\n",
        "  print(f'{numero1} é diferente de {numero3}')\n",
        "else:\n",
        "  print(f'{numero1} é igual a {numero3}')"
      ],
      "execution_count": 15,
      "outputs": [
        {
          "output_type": "stream",
          "name": "stdout",
          "text": [
            "10 é diferente de 5\n",
            "10 é igual a 10\n"
          ]
        }
      ]
    },
    {
      "cell_type": "code",
      "source": [
        "media = float(input('Digite a média: '))\n",
        "\n",
        "if media >= 6.0:\n",
        "  print('Aprovado(a)')\n",
        "else:\n",
        "  print('Reprovado(a)')"
      ],
      "metadata": {
        "colab": {
          "base_uri": "https://localhost:8080/"
        },
        "id": "kKR_r3_E6KtP",
        "outputId": "7b021c35-49cb-41a0-f728-7f0f32575633"
      },
      "execution_count": 17,
      "outputs": [
        {
          "output_type": "stream",
          "name": "stdout",
          "text": [
            "Digite a média: 8\n",
            "Aprovado(a)\n"
          ]
        }
      ]
    },
    {
      "cell_type": "code",
      "source": [
        "#Exemplo de um código redundante devido a quantidade de If\n",
        "\n",
        "media = float(input('Digite a média: '))\n",
        "\n",
        "if media >= 8.0:\n",
        "  print('Parabéns')\n",
        "if media >= 6.0:\n",
        "  print('Aprovado(a)')\n",
        "if 6.0 > media >= 4.0:\n",
        "  print('Recuperação')\n",
        "if media < 4.0:\n",
        "  print('Reprovado(a)')"
      ],
      "metadata": {
        "colab": {
          "base_uri": "https://localhost:8080/"
        },
        "id": "8eHsEH4g6hJB",
        "outputId": "5113881a-b07d-4d1b-a334-89aaad4af669"
      },
      "execution_count": 24,
      "outputs": [
        {
          "output_type": "stream",
          "name": "stdout",
          "text": [
            "Digite a média: 10\n",
            "Parabéns\n",
            "Aprovado(a)\n"
          ]
        }
      ]
    },
    {
      "cell_type": "markdown",
      "source": [
        "Vários **if**  repetidos: Quando você usa vários if independentes, o Python verifica a condição de cada if, mesmo que uma condição anterior já tenha sido verdadeira. Isso pode levar à execução de múltiplos blocos de código se mais de uma condição for atendida. Levando a mais tempo de processamento."
      ],
      "metadata": {
        "id": "t8yTFiCY9RV-"
      }
    },
    {
      "cell_type": "code",
      "source": [
        "# Exemplo de código refatorado usando if, elif e else para evitar redundância\n",
        "media = float(input('Digite a média: '))\n",
        "\n",
        "if media >= 8.0:\n",
        "  print('Parabéns')\n",
        "elif media >= 6.0:\n",
        "  print('Aprovado(a)')\n",
        "elif 6.0 > media >= 4.0:\n",
        "  print('Recuperação')\n",
        "else: # media < 4.0\n",
        "  print('Reprovado(a)')"
      ],
      "metadata": {
        "colab": {
          "base_uri": "https://localhost:8080/"
        },
        "id": "bZZeDjSq64XS",
        "outputId": "4ce2c2ed-7ce2-42e7-897a-3662daa4af25"
      },
      "execution_count": 25,
      "outputs": [
        {
          "output_type": "stream",
          "name": "stdout",
          "text": [
            "Digite a média: 10\n",
            "Parabéns\n"
          ]
        }
      ]
    },
    {
      "cell_type": "markdown",
      "source": [
        "Usando **elif**: Quando você usa elif após um if, o Python verifica as condições em sequência. Assim que encontra a primeira condição verdadeira, ele executa o bloco de código correspondente e ignora todas as elif e o else restantes naquela estrutura condicional. Isso garante que apenas um bloco de código seja executado dentro daquela estrutura if-elif-else."
      ],
      "metadata": {
        "id": "POcN3GLC9iFR"
      }
    },
    {
      "cell_type": "code",
      "metadata": {
        "colab": {
          "base_uri": "https://localhost:8080/"
        },
        "id": "7b1c7f36",
        "outputId": "c1ecc873-a367-4176-dfab-fcc3cb412ce4"
      },
      "source": [
        "#Exemplo do mesmo código usando tuplas e break\n",
        "\n",
        "media = float(input('Digite a média: '))\n",
        "\n",
        "resultados = [\n",
        "    (8.0, 'Parabéns'),\n",
        "    (6.0, 'Aprovado(a)'),\n",
        "    (4.0, 'Recuperação')\n",
        "]\n",
        "\n",
        "mensagem = 'Reprovado(a)' # Mensagem padrão se nenhuma condição for atendida\n",
        "\n",
        "for limite, resultado in resultados:\n",
        "  if media >= limite:\n",
        "    mensagem = resultado\n",
        "    break # Para assim que encontrar a primeira condição verdadeira\n",
        "\n",
        "print(mensagem)"
      ],
      "execution_count": 26,
      "outputs": [
        {
          "output_type": "stream",
          "name": "stdout",
          "text": [
            "Digite a média: 10\n",
            "Parabéns\n"
          ]
        }
      ]
    },
    {
      "cell_type": "markdown",
      "source": [
        "Em resumo, usar **tuplas** (em estruturas de dados como listas) para representar conjuntos de dados relacionados a condições pode melhorar a organização, a manutenibilidade e a flexibilidade do seu código, tornando-o mais robusto para futuras alterações."
      ],
      "metadata": {
        "id": "1bN8JUv_-GlF"
      }
    },
    {
      "cell_type": "markdown",
      "source": [
        "# **OPERADORES LÓGICOS**"
      ],
      "metadata": {
        "id": "b3gg9TJDAV-Q"
      }
    },
    {
      "cell_type": "code",
      "source": [
        "t1 = t2 = True\n",
        "f1 = f2 = False"
      ],
      "metadata": {
        "id": "CTC0Sx95-1FY"
      },
      "execution_count": 33,
      "outputs": []
    },
    {
      "cell_type": "code",
      "source": [
        "if t1 and t2:    #AND somente mostra verdadeira quando as duas são verdadeiras\n",
        "  print('expressão verdadeira')\n",
        "else:\n",
        "  print('expressão falsa')"
      ],
      "metadata": {
        "colab": {
          "base_uri": "https://localhost:8080/"
        },
        "id": "7DwLU-QGAcmt",
        "outputId": "f87c2ccd-7b47-400d-a58f-52aa6f27ae47"
      },
      "execution_count": 39,
      "outputs": [
        {
          "output_type": "stream",
          "name": "stdout",
          "text": [
            "expressão verdadeira\n"
          ]
        }
      ]
    },
    {
      "cell_type": "code",
      "source": [
        "if t1 and f2:\n",
        "  print('expressão verdadeira')\n",
        "else:\n",
        "  print('expressão falsa')"
      ],
      "metadata": {
        "colab": {
          "base_uri": "https://localhost:8080/"
        },
        "id": "BhsUKND_ArMo",
        "outputId": "d5830126-133e-406c-c027-ae05c4c58645"
      },
      "execution_count": 40,
      "outputs": [
        {
          "output_type": "stream",
          "name": "stdout",
          "text": [
            "expressão falsa\n"
          ]
        }
      ]
    },
    {
      "cell_type": "code",
      "source": [
        "if t1 or t2: #OR somente mostra falso quando ambas são falsas\n",
        "  print('expressão verdadeira')\n",
        "else:\n",
        "  print('expressão falsa')"
      ],
      "metadata": {
        "colab": {
          "base_uri": "https://localhost:8080/"
        },
        "id": "sEasmFU5_I98",
        "outputId": "8afe7705-76bc-4233-ce27-c66922323988"
      },
      "execution_count": 41,
      "outputs": [
        {
          "output_type": "stream",
          "name": "stdout",
          "text": [
            "expressão verdadeira\n"
          ]
        }
      ]
    },
    {
      "cell_type": "code",
      "source": [
        "if t1 or f2:\n",
        "  print('expressão verdadeira')\n",
        "else:\n",
        "  print('expressão falsa')"
      ],
      "metadata": {
        "colab": {
          "base_uri": "https://localhost:8080/"
        },
        "id": "rs5JwWcMBHdb",
        "outputId": "704fbeb8-8f82-4394-b307-9cd47d8fceba"
      },
      "execution_count": 42,
      "outputs": [
        {
          "output_type": "stream",
          "name": "stdout",
          "text": [
            "expressão verdadeira\n"
          ]
        }
      ]
    },
    {
      "cell_type": "code",
      "source": [
        "if f1 or f2:\n",
        "  print('expressão verdadeira')\n",
        "else:\n",
        "  print('expressão falsa')"
      ],
      "metadata": {
        "colab": {
          "base_uri": "https://localhost:8080/"
        },
        "id": "XmSe6eAYBLIA",
        "outputId": "1c78c9c5-a230-4781-832d-f36babf4a592"
      },
      "execution_count": 43,
      "outputs": [
        {
          "output_type": "stream",
          "name": "stdout",
          "text": [
            "expressão falsa\n"
          ]
        }
      ]
    },
    {
      "cell_type": "code",
      "source": [
        "if not f1: # NOT inverte o valor booleano, usado antes da expressão ou variável booleana\n",
        "  print('expressão verdadeira')\n",
        "else:\n",
        "  print('expressão falsa')"
      ],
      "metadata": {
        "colab": {
          "base_uri": "https://localhost:8080/"
        },
        "id": "88L-tndZAlyP",
        "outputId": "49bf2155-4c73-4f26-8dff-ef3ddfa8158f"
      },
      "execution_count": 46,
      "outputs": [
        {
          "output_type": "stream",
          "name": "stdout",
          "text": [
            "expressão verdadeira\n"
          ]
        }
      ]
    },
    {
      "cell_type": "code",
      "source": [
        "if not t1:\n",
        "  print('expressão verdadeira')\n",
        "else:\n",
        "  print('expressão falsa')"
      ],
      "metadata": {
        "colab": {
          "base_uri": "https://localhost:8080/"
        },
        "id": "1AXAdDOiBgu5",
        "outputId": "3b575131-09cf-43c9-c912-430bacb716a7"
      },
      "execution_count": 48,
      "outputs": [
        {
          "output_type": "stream",
          "name": "stdout",
          "text": [
            "expressão falsa\n"
          ]
        }
      ]
    },
    {
      "cell_type": "code",
      "source": [
        "type(t1)"
      ],
      "metadata": {
        "colab": {
          "base_uri": "https://localhost:8080/"
        },
        "id": "-gAP1p5PBl4r",
        "outputId": "4cc7a982-288f-40e0-a976-8869d219ea79"
      },
      "execution_count": 49,
      "outputs": [
        {
          "output_type": "execute_result",
          "data": {
            "text/plain": [
              "bool"
            ]
          },
          "metadata": {},
          "execution_count": 49
        }
      ]
    },
    {
      "cell_type": "code",
      "source": [
        "lista = 'José da Silva, Maria Oliveira, Pedro Martins, Ana Souza, Carlos Rodrigues, Juliana Santos, Bruno Gomes, Beatriz Costa, Felipe Almeida, Mariana Fernandes, João Pinto, Luísa Nascimento, Gabriel Souza, Manuela Santos, Thiago Oliveira, Sofia Ferreira, Rafael Albuquerque, Isabella Gomes, Bruno Costa, Maria Martins, Rafaela Souza, Matheus Fernandes, Luísa Almeida, Beatriz Pinto, Mariana Rodrigues, Gabriel Nascimento, João Ferreira, Maria Albuquerque, Felipe Oliveira'\n",
        "lista"
      ],
      "metadata": {
        "colab": {
          "base_uri": "https://localhost:8080/",
          "height": 70
        },
        "id": "Zb3JYrzaByZ-",
        "outputId": "b5630043-0cbd-4c48-9267-1e955111dd51"
      },
      "execution_count": 52,
      "outputs": [
        {
          "output_type": "execute_result",
          "data": {
            "text/plain": [
              "'José da Silva, Maria Oliveira, Pedro Martins, Ana Souza, Carlos Rodrigues, Juliana Santos, Bruno Gomes, Beatriz Costa, Felipe Almeida, Mariana Fernandes, João Pinto, Luísa Nascimento, Gabriel Souza, Manuela Santos, Thiago Oliveira, Sofia Ferreira, Rafael Albuquerque, Isabella Gomes, Bruno Costa, Maria Martins, Rafaela Souza, Matheus Fernandes, Luísa Almeida, Beatriz Pinto, Mariana Rodrigues, Gabriel Nascimento, João Ferreira, Maria Albuquerque, Felipe Oliveira'"
            ],
            "application/vnd.google.colaboratory.intrinsic+json": {
              "type": "string"
            }
          },
          "metadata": {},
          "execution_count": 52
        }
      ]
    },
    {
      "cell_type": "code",
      "source": [
        "nome_1 = 'Mariana Rodrigues'\n",
        "nome_2 = 'Marcelo Nogueira'"
      ],
      "metadata": {
        "id": "ZiA2Y26mB9mE"
      },
      "execution_count": 53,
      "outputs": []
    },
    {
      "cell_type": "code",
      "source": [
        "if nome_1 in lista:\n",
        "  print(f'{nome_1} está na lista')\n",
        "else:\n",
        "  print(f'{nome_1} não está na lista')"
      ],
      "metadata": {
        "colab": {
          "base_uri": "https://localhost:8080/"
        },
        "id": "D6aIlVHLCJkg",
        "outputId": "1cb7ae80-a086-4f13-8071-322b8547c309"
      },
      "execution_count": 54,
      "outputs": [
        {
          "output_type": "stream",
          "name": "stdout",
          "text": [
            "Mariana Rodrigues está na lista\n"
          ]
        }
      ]
    },
    {
      "cell_type": "code",
      "source": [
        "if nome_2 in lista:\n",
        "  print(f'{nome_2} está na lista')\n",
        "else:\n",
        "  print(f'{nome_2} não está na lista')"
      ],
      "metadata": {
        "colab": {
          "base_uri": "https://localhost:8080/"
        },
        "id": "D602Ad5FCZL8",
        "outputId": "811bfc26-c5ed-429b-c9a9-a36df6ffe6b8"
      },
      "execution_count": 56,
      "outputs": [
        {
          "output_type": "stream",
          "name": "stdout",
          "text": [
            "Marcelo Nogueira não está na lista\n"
          ]
        }
      ]
    },
    {
      "cell_type": "code",
      "source": [
        "lista_nomes_str = 'José da Silva, Maria Oliveira, Pedro Martins, Ana Souza, Carlos Rodrigues, Juliana Santos, Bruno Gomes, Beatriz Costa, Felipe Almeida, Mariana Fernandes, João Pinto, Luísa Nascimento, Gabriel Souza, Manuela Santos, Thiago Oliveira, Sofia Ferreira, Rafael Albuquerque, Isabella Gomes, Bruno Costa, Maria Martins, Rafaela Souza, Matheus Fernandes, Luísa Almeida, Beatriz Pinto, Mariana Rodrigues, Gabriel Nascimento, João Ferreira, Maria Albuquerque, Felipe Oliveira'\n",
        "\n",
        "# Dividir a string em uma lista de nomes\n",
        "lista_nomes = [nome.strip() for nome in lista_nomes_str.split(',')]\n",
        "\n",
        "# Contar o total de nomes\n",
        "total_nomes = len(lista_nomes)\n",
        "print(f'Total de nomes na lista: {total_nomes}')\n",
        "\n",
        "# Contar a quantidade de nomes para cada letra inicial\n",
        "contagem_por_inicial = {}\n",
        "\n",
        "for nome in lista_nomes:\n",
        "  primeira_letra = nome[0].upper() # Pega a primeira letra e a converte para maiúscula\n",
        "  if primeira_letra in contagem_por_inicial:\n",
        "    contagem_por_inicial[primeira_letra] += 1\n",
        "  else:\n",
        "    contagem_por_inicial[primeira_letra] = 1\n",
        "\n",
        "print('\\nContagem de nomes por letra inicial:')\n",
        "for inicial, contagem in sorted(contagem_por_inicial.items()):\n",
        "  print(f'{inicial}: {contagem}')\n",
        "\n",
        "print(f'A letra inicial com o maior número de nomes na lista é: '\n",
        "      f'{max(contagem_por_inicial, key=contagem_por_inicial.get)}')"
      ],
      "metadata": {
        "colab": {
          "base_uri": "https://localhost:8080/"
        },
        "id": "7OQSNLIwCoS4",
        "outputId": "bd6883bb-dc71-4c1b-d476-bfacf24f51f1"
      },
      "execution_count": 60,
      "outputs": [
        {
          "output_type": "stream",
          "name": "stdout",
          "text": [
            "Total de nomes na lista: 29\n",
            "\n",
            "Contagem de nomes por letra inicial:\n",
            "A: 1\n",
            "B: 4\n",
            "C: 1\n",
            "F: 2\n",
            "G: 2\n",
            "I: 1\n",
            "J: 4\n",
            "L: 2\n",
            "M: 7\n",
            "P: 1\n",
            "R: 2\n",
            "S: 1\n",
            "T: 1\n",
            "A letra inicial com o maior número de nomes na lista é: M\n"
          ]
        }
      ]
    },
    {
      "cell_type": "markdown",
      "metadata": {
        "id": "cc285104"
      },
      "source": [
        "A funções e métodos usados no código anterior e suas funções:\n",
        "\n",
        "*   **`.strip()`**:\n",
        "    *   **Tipo:** Método de string.\n",
        "    *   **Função:** Remove espaços em branco (incluindo espaços, tabs e novas linhas) do início e do fim de uma string. No código, é usado para remover qualquer espaço extra ao redor dos nomes após dividi-los pela vírgula.\n",
        "\n",
        "*   **`.split(',')`**:\n",
        "    *   **Tipo:** Método de string.\n",
        "    *   **Função:** Divide uma string em uma lista de substrings usando um delimitador especificado. No código, `split(',')` divide a string `lista_nomes_str` em uma lista de nomes individuais, usando a vírgula como ponto de divisão.\n",
        "\n",
        "*   **`.upper()`**:\n",
        "    *   **Tipo:** Método de string.\n",
        "    *   **Função:** Converte todos os caracteres em uma string para maiúsculas. No código, `nome[0].upper()` garante que a primeira letra de cada nome seja sempre maiúscula ao ser usada como chave no dicionário de contagem, evitando problemas com nomes que começam com letras minúsculas.\n",
        "\n",
        "*   **`max()`**:\n",
        "    *   **Tipo:** Função built-in do Python.\n",
        "    *   **Função:** Retorna o maior item em um iterável ou o maior de dois ou mais argumentos. No código, `max(contagem_por_inicial, key=contagem_por_inicial.get)` é usado para encontrar a chave (a letra inicial) no dicionário `contagem_por_inicial` que tem o maior valor associado (a contagem de nomes). O argumento `key` especifica uma função a ser aplicada a cada item antes de compará-los, neste caso, usando os valores do dicionário para a comparação.\n",
        "\n",
        "*   **`.items()`**:\n",
        "    *   **Tipo:** Método de dicionário.\n",
        "    *   **Função:** Retorna uma nova visualização dos itens do dicionário (pares chave-valor) como tuplas em uma lista. No código, `contagem_por_inicial.items()` permite iterar sobre as chaves e valores do dicionário simultaneamente no loop `for inicial, contagem in sorted(contagem_por_inicial.items()):`.\n",
        "\n",
        "*   **`sorted()`**:\n",
        "    *   **Tipo:** Função built-in do Python.\n",
        "    *   **Função:** Retorna uma nova lista classificada dos itens em um iterável. No código, `sorted(contagem_por_inicial.items())` é usado para classificar a lista de tuplas (letras iniciais e suas contagens) em ordem alfabética antes de imprimi-las."
      ]
    }
  ]
}