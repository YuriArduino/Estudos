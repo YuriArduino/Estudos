{
  "nbformat": 4,
  "nbformat_minor": 0,
  "metadata": {
    "colab": {
      "provenance": [],
      "authorship_tag": "ABX9TyPtWsB9+TbeSGK2nf0Q9vzk"
    },
    "kernelspec": {
      "name": "python3",
      "display_name": "Python 3"
    },
    "language_info": {
      "name": "python"
    }
  },
  "cells": [
    {
      "cell_type": "markdown",
      "source": [
        "**Coleta e amostragem de dados:**\n",
        "\n",
        "1-Crie um programa que solicite à pessoa usuária digitar seu nome, e imprima “Olá, [nome]!”.\n",
        "\n",
        "2-Crie um programa que solicite à pessoa usuária digitar seu nome e idade, e imprima “Olá, [nome], você tem [idade] anos.”.\n",
        "\n",
        "3-Crie um programa que solicite à pessoa usuária digitar seu nome, idade e altura em metros, e imprima “Olá, [nome], você tem [idade] anos e mede [altura] metros!”."
      ],
      "metadata": {
        "id": "xQnwtDpQyijN"
      }
    },
    {
      "cell_type": "code",
      "execution_count": 3,
      "metadata": {
        "colab": {
          "base_uri": "https://localhost:8080/"
        },
        "id": "wt4cyds3ydS6",
        "outputId": "1797138d-0039-43e2-a21b-c46a4b3692e5"
      },
      "outputs": [
        {
          "output_type": "stream",
          "name": "stdout",
          "text": [
            "Digite seu nome: Flávia\n",
            "Olá, Flávia!\n"
          ]
        }
      ],
      "source": [
        "nome = input(\"Digite seu nome: \")\n",
        "print(f\"Olá, {nome}!\")"
      ]
    },
    {
      "cell_type": "code",
      "source": [
        "nome = input(\"Digite seu nome: \")\n",
        "idade = input(\"Digite sua idade: \")\n",
        "print(f\"Olá, {nome}, você tem {idade} anos.\")"
      ],
      "metadata": {
        "colab": {
          "base_uri": "https://localhost:8080/"
        },
        "id": "_0-0yn1mzJG_",
        "outputId": "521cdf59-1f13-4aa5-bc7e-9fd8b2f5acad"
      },
      "execution_count": 4,
      "outputs": [
        {
          "output_type": "stream",
          "name": "stdout",
          "text": [
            "Digite seu nome: Marta\n",
            "Digite sua idade: 27\n",
            "Olá, Marta, você tem 27 anos.\n"
          ]
        }
      ]
    },
    {
      "cell_type": "code",
      "source": [
        "nome = input(\"Digite seu nome:\")\n",
        "idade = int(input(\"Digite sua idade:\"))\n",
        "altura_str = input(\"Digite sua altura em metros:\")\n",
        "altura_str = altura_str.replace(',', '.')\n",
        "altura = float(altura_str)\n",
        "print (f\"Olá,{nome}, \\nsua idade é: {idade} anos, \\nmedindo: {altura} metros\")"
      ],
      "metadata": {
        "colab": {
          "base_uri": "https://localhost:8080/"
        },
        "id": "aWu0hdYNzb-n",
        "outputId": "bdf7432a-1763-4f68-e9cd-71aaf9dc48de"
      },
      "execution_count": 33,
      "outputs": [
        {
          "output_type": "stream",
          "name": "stdout",
          "text": [
            "Digite seu nome:Pedro\n",
            "Digite sua idade:15\n",
            "Digite sua altura em metros:1,5\n",
            "Olá,Pedro, \n",
            "sua idade é: 15 anos, \n",
            "medindo: 1.5 metros\n"
          ]
        }
      ]
    },
    {
      "cell_type": "code",
      "source": [
        "type(altura)"
      ],
      "metadata": {
        "colab": {
          "base_uri": "https://localhost:8080/"
        },
        "id": "2Jtdj_oY1EqX",
        "outputId": "385a8423-628c-4fc0-e935-fa50a7adf195"
      },
      "execution_count": 34,
      "outputs": [
        {
          "output_type": "execute_result",
          "data": {
            "text/plain": [
              "float"
            ]
          },
          "metadata": {},
          "execution_count": 34
        }
      ]
    },
    {
      "cell_type": "code",
      "source": [
        "type(idade)"
      ],
      "metadata": {
        "colab": {
          "base_uri": "https://localhost:8080/"
        },
        "id": "3WfwzFyr2jO4",
        "outputId": "2a32d8d0-4f14-4023-f3be-1d3dec998302"
      },
      "execution_count": 35,
      "outputs": [
        {
          "output_type": "execute_result",
          "data": {
            "text/plain": [
              "int"
            ]
          },
          "metadata": {},
          "execution_count": 35
        }
      ]
    },
    {
      "cell_type": "markdown",
      "metadata": {
        "id": "14b50fee"
      },
      "source": [
        "Calculadora com operadores:\n",
        "\n",
        "1. Crie um programa que solicite dois valores numéricos à pessoa usuária e imprima a soma dos dois valores.\n",
        "\n",
        "2. Crie um programa que solicite três valores numéricos à pessoa usuária e imprima a soma dos três valores.\n",
        "\n",
        "3. Crie um programa que solicite dois valores numéricos à pessoa usuária e imprima a subtração do primeiro pelo o segundo valor.\n",
        "\n",
        "4. Crie um programa que solicite dois valores numéricos à pessoa usuária e imprima a multiplicação dos dois valores.\n",
        "\n",
        "5. Crie um programa que solicite dois valores numéricos, um numerador e um denominador, e realize a divisão entre os dois valores. Deixe claro que o valor do denominador não pode ser 0.\n",
        "\n",
        "6. Crie um programa que solicite dois valores numéricos, um operador e uma potência, e realize a exponenciação entre esses dois valores.\n",
        "\n",
        "7. Crie um programa que solicite dois valores numéricos, um numerador e um denominador e realize a divisão inteira entre os dois valores. Deixe claro que o valor do denominador não pode ser 0.\n",
        "\n",
        "8. Crie um programa que solicite dois valores numéricos, um numerador e um denominador, e retorne o resto da divisão entre os dois valores. Deixe claro que o valor do denominador não pode ser 0.\n",
        "\n",
        "9. Crie um código que solicita 3 notas de um estudante e imprima a média das notas.\n",
        "\n",
        "10. Crie um código que calcule e imprima a média ponderada dos números 5, 12, 20 e 15 com pesos respectivamente iguais a 1, 2, 3 e 4."
      ]
    },
    {
      "cell_type": "code",
      "source": [
        "num1 = int(input('Digite um número'))\n",
        "num2 = int(input('Digite mais um número'))\n",
        "soma = num1 + num2\n",
        "print (f\"O resulto da soma é: {soma}\")"
      ],
      "metadata": {
        "colab": {
          "base_uri": "https://localhost:8080/"
        },
        "id": "bg44GP2z-bx8",
        "outputId": "d1085522-ce80-4b63-8d1e-622246b25448"
      },
      "execution_count": 44,
      "outputs": [
        {
          "output_type": "stream",
          "name": "stdout",
          "text": [
            "Digite um número21312\n",
            "Digite mais um número342\n",
            "O resulto da soma é: 21654\n"
          ]
        }
      ]
    },
    {
      "cell_type": "code",
      "source": [
        "num1 = int(input('Informe o primmeiro número'))\n",
        "num2 = int(input('Informe o segundo número'))\n",
        "num3 = int(input('Informe o terceiro número'))\n",
        "soma = num1 + num2 + num3\n",
        "print (f\"O resulto da soma é: {soma}\")\n"
      ],
      "metadata": {
        "colab": {
          "base_uri": "https://localhost:8080/"
        },
        "id": "pDITV4FU-4jL",
        "outputId": "23a08268-1db0-44eb-c1b7-0f83274148c7"
      },
      "execution_count": 45,
      "outputs": [
        {
          "output_type": "stream",
          "name": "stdout",
          "text": [
            "Informe o primmeiro número213412321\n",
            "Informe o segundo número231321\n",
            "Informe o terceiro número12321\n",
            "O resulto da soma é: 213655963\n"
          ]
        }
      ]
    },
    {
      "cell_type": "code",
      "source": [
        "num1 = int(input('Informe o primeiro número'))\n",
        "num2 = int(input('Informe o segundo número'))\n",
        "subtracao = num1 - num2\n",
        "print (f\"O resultado da subtração é: {subtracao}\")"
      ],
      "metadata": {
        "colab": {
          "base_uri": "https://localhost:8080/"
        },
        "id": "TGK_25XSAPeX",
        "outputId": "124c2220-0e0f-467c-b662-702996ca55b3"
      },
      "execution_count": 48,
      "outputs": [
        {
          "output_type": "stream",
          "name": "stdout",
          "text": [
            "Informe o primeiro número55\n",
            "Informe o segundo número33\n",
            "O resultado da subtração é: 22\n"
          ]
        }
      ]
    },
    {
      "cell_type": "code",
      "source": [
        "num1 = (int(input('Informe o primeiro número')))\n",
        "num2 = (int(input('Informe o segundo número')))\n",
        "multiplicacao = num1 * num2\n",
        "print (f\"O resultado da multiplicação é: {multiplicacao}\")"
      ],
      "metadata": {
        "colab": {
          "base_uri": "https://localhost:8080/"
        },
        "id": "ZRLtvKSBAnPq",
        "outputId": "abc0e08d-f910-4025-dfaa-606ca42fd89d"
      },
      "execution_count": 49,
      "outputs": [
        {
          "output_type": "stream",
          "name": "stdout",
          "text": [
            "Informe o primeiro número55\n",
            "Informe o segundo número200\n",
            "O resultado da multiplicação é: 11000\n"
          ]
        }
      ]
    },
    {
      "cell_type": "code",
      "source": [
        "num2 = int(input('Informe o numerador: '))\n",
        "num1 = int(input('Informe o denominador: '))\n",
        "\n",
        "while num1 == 0:\n",
        "    print('O valor do denominador não pode ser 0. Por favor, digite um número diferente de 0.')\n",
        "    num1 = int(input('Informe o denominador: '))\n",
        "\n",
        "divisao = num2 / num1 #A quantidade de barras vai determinar o tipo da variável (/) para int e (//) para float\n",
        "print (f\"O resultado da divisão é: {divisao}\")"
      ],
      "metadata": {
        "colab": {
          "base_uri": "https://localhost:8080/"
        },
        "id": "lBNNWpSDAyfh",
        "outputId": "8f520afe-ab11-4475-ee3c-92008139a89d"
      },
      "execution_count": 66,
      "outputs": [
        {
          "output_type": "stream",
          "name": "stdout",
          "text": [
            "Informe o numerador: 10\n",
            "Informe o denominador: 2\n",
            "O resultado da divisão é: 5\n"
          ]
        }
      ]
    },
    {
      "cell_type": "code",
      "source": [
        "type(divisao)"
      ],
      "metadata": {
        "colab": {
          "base_uri": "https://localhost:8080/"
        },
        "id": "hcYZ_kGWBi9i",
        "outputId": "f6fa30f5-5947-4de2-ede9-c285a2174196"
      },
      "execution_count": 67,
      "outputs": [
        {
          "output_type": "execute_result",
          "data": {
            "text/plain": [
              "int"
            ]
          },
          "metadata": {},
          "execution_count": 67
        }
      ]
    },
    {
      "cell_type": "code",
      "source": [
        "num1 = int(input('Informe o primeiro número: '))\n",
        "num2 = int(input('Informe o segundo número: '))\n",
        "exponenciacao = num1 ** num2\n",
        "print (f\"O resultado da exponenciação é: {exponenciacao}\")"
      ],
      "metadata": {
        "colab": {
          "base_uri": "https://localhost:8080/"
        },
        "id": "bBSFuS-fIB_R",
        "outputId": "d5b1c6d8-a124-4204-a510-69845afb81b3"
      },
      "execution_count": 71,
      "outputs": [
        {
          "output_type": "stream",
          "name": "stdout",
          "text": [
            "Informe o primeiro número: 10\n",
            "Informe o segundo número: 2\n",
            "O resultado da exponenciação é: 100\n"
          ]
        }
      ]
    },
    {
      "cell_type": "code",
      "source": [
        "num2 = int(input('Informe o numerador: '))\n",
        "num1 = int(input('Informe o denominador: '))\n",
        "\n",
        "while num1 == 0:\n",
        "    print('O valor do denominador não pode ser 0. Por favor, digite um número diferente de 0.')\n",
        "    num1 = int(input('Informe o denominador: '))\n",
        "\n",
        "divisao = num2 // num1 #A quantidade de barras vai determinar o tipo da variável (/) para int e (//) para float\n",
        "print (f\"O resultado da divisão é: {divisao}\")"
      ],
      "metadata": {
        "colab": {
          "base_uri": "https://localhost:8080/"
        },
        "id": "9JeZYIlhILyb",
        "outputId": "6e20eee2-3444-4176-a66d-5bad0aa0d9b9"
      },
      "execution_count": 72,
      "outputs": [
        {
          "output_type": "stream",
          "name": "stdout",
          "text": [
            "Informe o numerador: 10\n",
            "Informe o denominador: 2\n",
            "O resultado da divisão é: 5\n"
          ]
        }
      ]
    },
    {
      "cell_type": "code",
      "source": [
        "num2 = int(input('Informe o numerador: '))\n",
        "num1 = int(input('Informe o denominador: '))\n",
        "\n",
        "while num1 == 0:\n",
        "    print('O valor do denominador não pode ser 0. Por favor, digite um número diferente de 0.')\n",
        "    num1 = int(input('Informe o denominador: '))\n",
        "\n",
        "divisao = num2 % num1 #A quantidade de barras vai determinar o tipo da variável (/) para int e (//) para float\n",
        "print (f\"O resto da divisão é: {divisao}\")"
      ],
      "metadata": {
        "colab": {
          "base_uri": "https://localhost:8080/"
        },
        "id": "iFPtLudRIpQy",
        "outputId": "47bec17a-e155-49af-dfaa-a5a07493fa8b"
      },
      "execution_count": 77,
      "outputs": [
        {
          "output_type": "stream",
          "name": "stdout",
          "text": [
            "Informe o numerador: 70\n",
            "Informe o denominador: 9\n",
            "O resto da divisão é: 7\n"
          ]
        }
      ]
    },
    {
      "cell_type": "code",
      "source": [
        "nota1 = float(input('Informe a nota 1: '))\n",
        "nota2 = float(input('Informe a nota 2: '))\n",
        "nota3 = float(input('Informe a nota 3: '))\n",
        "media = (nota1 + nota2 + nota3)/3\n",
        "print (f\"A média das notas é: {media}\")"
      ],
      "metadata": {
        "colab": {
          "base_uri": "https://localhost:8080/"
        },
        "id": "d2mKQsXSJave",
        "outputId": "21c2b9c9-6a0d-4e2a-b7ed-bb3922d4a115"
      },
      "execution_count": 79,
      "outputs": [
        {
          "output_type": "stream",
          "name": "stdout",
          "text": [
            "Informe a nota 1: 10\n",
            "Informe a nota 2: 10\n",
            "Informe a nota 3: 5\n",
            "A média das notas é: 8.333333333333334\n"
          ]
        }
      ]
    },
    {
      "cell_type": "code",
      "metadata": {
        "colab": {
          "base_uri": "https://localhost:8080/"
        },
        "id": "a8cf6d73",
        "outputId": "3a1cb839-d5d3-4466-f7b7-c6553af92c2b"
      },
      "source": [
        "num = [5, 12, 20, 15]\n",
        "pesos = [1, 2, 3, 4]\n",
        "\n",
        "soma_peso= sum(num * pesos for num, pesos in zip(num, pesos))\n",
        "soma_pesos = sum(pesos)\n",
        "\n",
        "media_ponderada = soma_peso / soma_pesos\n",
        "\n",
        "print(f\"A média ponderada é: {media_ponderada}\")"
      ],
      "execution_count": 8,
      "outputs": [
        {
          "output_type": "stream",
          "name": "stdout",
          "text": [
            "A média ponderada é: 14.9\n"
          ]
        }
      ]
    },
    {
      "cell_type": "code",
      "source": [
        "#Solução da instrutora\n",
        "\n",
        "media_ponderada = (5*1 + 12*2 + 20*3 + 15*4) / (1+2+3+4)\n",
        "print(f'Média {media_ponderada}.')"
      ],
      "metadata": {
        "colab": {
          "base_uri": "https://localhost:8080/"
        },
        "id": "oapqeoKAOB8k",
        "outputId": "5b9d2f83-0fca-44d4-9bfa-556f0a9e5fe7"
      },
      "execution_count": 14,
      "outputs": [
        {
          "output_type": "stream",
          "name": "stdout",
          "text": [
            "Média 14.9.\n"
          ]
        }
      ]
    },
    {
      "source": [
        "# A função zip() em Python combina múltiplos iteráveis (como listas, tuplas, strings, etc.)\n",
        "# em um único iterador de tuplas. Ela emparelha elementos dos iteráveis de acordo com a posição (índice).\n",
        "# A iteração para quando o iterável mais curto se esgota.\n",
        "\n",
        "linha1 = \"abc\"\n",
        "linha2 = \"xyz\"\n",
        "\n",
        "# zip(linha1, linha12) cria um iterador que emparelha os caracteres\n",
        "zipped_linhas = zip(linha1, linha2)\n",
        "\n",
        "# Você pode converter o objeto zip em uma lista para ver os pares de caracteres\n",
        "print(list(zipped_linhas))\n",
        "\n",
        "# Você também pode iterar sobre as strings \"zipadas\"\n",
        "print(\"\\nIterando sobre as strings 'zipadas':\")\n",
        "for char1, char2 in zip(linha1, linha2):\n",
        "  print(f\"Par de caracteres: {char1}, {char2}\")"
      ],
      "cell_type": "code",
      "metadata": {
        "colab": {
          "base_uri": "https://localhost:8080/"
        },
        "id": "M1rDW5reL_7z",
        "outputId": "7243694f-a791-4b22-e1d4-dedb07e5f088"
      },
      "execution_count": 12,
      "outputs": [
        {
          "output_type": "stream",
          "name": "stdout",
          "text": [
            "[('a', 'x'), ('b', 'y'), ('c', 'z')]\n",
            "\n",
            "Iterando sobre as strings 'zipadas':\n",
            "Par de caracteres: a, x\n",
            "Par de caracteres: b, y\n",
            "Par de caracteres: c, z\n"
          ]
        }
      ]
    },
    {
      "cell_type": "markdown",
      "metadata": {
        "id": "ba4c53b7"
      },
      "source": [
        "Editando textos:\n",
        "\n",
        "1. Crie uma variável chamada “frase” e atribua a ela uma string de sua escolha. Em seguida, imprima a frase na tela.\n",
        "\n",
        "2. Crie um código que solicite uma frase e depois imprima a frase na tela.\n",
        "\n",
        "3. Crie um código que solicite uma frase à pessoa usuária e imprima a mesma frase digitada mas com todas as letras maiúsculas.\n",
        "\n",
        "4. Crie um código que solicite uma frase à pessoa usuária e imprima a mesma frase digitada mas com todas as letras minúsculas.\n",
        "\n",
        "5. Crie uma variável chamada “frase” e atribua a ela uma string de sua escolha. Em seguida, imprima a frase sem espaços em branco no início e no fim.\n",
        "\n",
        "6. Crie um código que solicite uma frase à pessoa usuária e imprima a mesma frase sem espaços em branco no início e no fim.\n",
        "\n",
        "7. Crie um código que solicite uma frase à pessoa usuária e imprima a mesma frase sem espaços em branco no início e no fim e em letras minúsculas.\n",
        "\n",
        "8. Crie um código que solicite uma frase à pessoa usuária e imprima a mesma frase com todas as vogais “e” trocadas pela letra “f”.\n",
        "\n",
        "9. Crie um código que solicite uma frase à pessoa usuária e imprima a mesma frase com todas as vogais “a” trocadas pela caractere “@”.\n",
        "\n",
        "10. Crie um código que solicite uma frase à pessoa usuária e imprima a mesma frase com todas as consoantes “s” trocadas pelo caractere “$”."
      ]
    },
    {
      "cell_type": "code",
      "source": [
        "frase = (\"first\")\n",
        "print('first')"
      ],
      "metadata": {
        "colab": {
          "base_uri": "https://localhost:8080/"
        },
        "id": "NhumsTP5Nean",
        "outputId": "e98df666-f7b7-45e6-e433-f4682ede3857"
      },
      "execution_count": 15,
      "outputs": [
        {
          "output_type": "stream",
          "name": "stdout",
          "text": [
            "first\n"
          ]
        }
      ]
    },
    {
      "cell_type": "code",
      "source": [
        "type(frase)"
      ],
      "metadata": {
        "colab": {
          "base_uri": "https://localhost:8080/"
        },
        "id": "bXij0LS7pAt7",
        "outputId": "800e6a1d-b5b1-400a-cd5f-077254aea1aa"
      },
      "execution_count": 16,
      "outputs": [
        {
          "output_type": "execute_result",
          "data": {
            "text/plain": [
              "str"
            ]
          },
          "metadata": {},
          "execution_count": 16
        }
      ]
    },
    {
      "cell_type": "code",
      "source": [
        "frase = input('Como está se sentindo hoje? ')\n",
        "print(f\"Estou me sentindo {frase}\")"
      ],
      "metadata": {
        "colab": {
          "base_uri": "https://localhost:8080/"
        },
        "id": "HkD9EeTXpDgS",
        "outputId": "78de607b-ab63-4fca-8d9f-2b24b3231209"
      },
      "execution_count": 24,
      "outputs": [
        {
          "output_type": "stream",
          "name": "stdout",
          "text": [
            "Como está se sentindo hoje? feliz\n",
            "Estou me sentindo feliz\n"
          ]
        }
      ]
    },
    {
      "cell_type": "code",
      "source": [
        "frase = input('Como está se sentindo hoje? ')\n",
        "print(f\"Estou me sentindo {frase.upper()}\")"
      ],
      "metadata": {
        "colab": {
          "base_uri": "https://localhost:8080/"
        },
        "id": "D2FNaJaup4FU",
        "outputId": "99d47a58-bb8f-41d7-841d-954a9d8ae0e7"
      },
      "execution_count": 26,
      "outputs": [
        {
          "output_type": "stream",
          "name": "stdout",
          "text": [
            "Como está se sentindo hoje? feliz\n",
            "Estou me sentindo FELIZ\n"
          ]
        }
      ]
    },
    {
      "cell_type": "code",
      "source": [
        "frase = input('Como está se sentindo hoje? ')\n",
        "print(f\"Estou me sentindo {frase.lower()}\")"
      ],
      "metadata": {
        "colab": {
          "base_uri": "https://localhost:8080/"
        },
        "id": "2_ChB4geqJkF",
        "outputId": "e6c8585b-6282-4d3d-8335-ab45b1c0ae15"
      },
      "execution_count": 28,
      "outputs": [
        {
          "output_type": "stream",
          "name": "stdout",
          "text": [
            "Como está se sentindo hoje? FELIZ\n",
            "Estou me sentindo feliz\n"
          ]
        }
      ]
    },
    {
      "cell_type": "code",
      "source": [
        "frase = '       Estou me sentindo feliz      '\n",
        "print(frase.strip())"
      ],
      "metadata": {
        "colab": {
          "base_uri": "https://localhost:8080/"
        },
        "id": "Ge88JzpnqVkr",
        "outputId": "1c85218e-6467-47a7-c710-da4eed8abf36"
      },
      "execution_count": 32,
      "outputs": [
        {
          "output_type": "stream",
          "name": "stdout",
          "text": [
            "Estou me sentindo feliz\n"
          ]
        }
      ]
    },
    {
      "cell_type": "code",
      "source": [
        "frase = input('Como está se sentindo hoje?          ')\n",
        "print(f\"Estou me sentindo {frase.strip()}\")"
      ],
      "metadata": {
        "colab": {
          "base_uri": "https://localhost:8080/"
        },
        "id": "8cqHcSAsrFNK",
        "outputId": "6b301908-b996-451e-8df8-19dcf0dfccff"
      },
      "execution_count": 30,
      "outputs": [
        {
          "output_type": "stream",
          "name": "stdout",
          "text": [
            "Como está se sentindo hoje?          feliz\n",
            "Estou me sentindo feliz\n"
          ]
        }
      ]
    },
    {
      "cell_type": "code",
      "source": [
        "frase = input('Como está se sentindo hoje?          ')\n",
        "print(f\"Estou me sentindo {frase.strip().lower()}\")"
      ],
      "metadata": {
        "colab": {
          "base_uri": "https://localhost:8080/"
        },
        "id": "fzFyLjr0rdZB",
        "outputId": "deba3be9-4712-47a9-fb5d-322a65161a9d"
      },
      "execution_count": 34,
      "outputs": [
        {
          "output_type": "stream",
          "name": "stdout",
          "text": [
            "Como está se sentindo hoje?          FELIZ\n",
            "Estou me sentindo feliz\n"
          ]
        }
      ]
    },
    {
      "cell_type": "code",
      "source": [
        "frase = input('Como está se sentindo hoje? ')\n",
        "print(f\"Estou me sentindo {frase.replace('e', 'f')}\")"
      ],
      "metadata": {
        "colab": {
          "base_uri": "https://localhost:8080/"
        },
        "id": "9_xxnhNUr1lG",
        "outputId": "4cc5a0ef-7b6e-4101-8c6a-e504d558d88e"
      },
      "execution_count": 38,
      "outputs": [
        {
          "output_type": "stream",
          "name": "stdout",
          "text": [
            "Como está se sentindo hoje? feliz\n",
            "Estou me sentindo ffliz\n"
          ]
        }
      ]
    },
    {
      "cell_type": "code",
      "source": [
        "frase = input('Como está se sentindo hoje?')\n",
        "\n",
        "while frase != 'angustiada':\n",
        "    print('Por favor, responda somente \"angustiada\".')\n",
        "    frase = input('Como está se sentindo hoje?')\n",
        "\n",
        "print(f\"Você está se sentindo {frase.replace('a', '@')}\")"
      ],
      "metadata": {
        "colab": {
          "base_uri": "https://localhost:8080/"
        },
        "id": "RbomKxLCsYx9",
        "outputId": "22f5c6dd-a3dc-4806-c8bf-d0649bc4fdf0"
      },
      "execution_count": 43,
      "outputs": [
        {
          "output_type": "stream",
          "name": "stdout",
          "text": [
            "Como está se sentindo hoje?feliz\n",
            "Por favor, responda somente \"angustiada\".\n",
            "Como está se sentindo hoje?angustiada\n",
            "Você está se sentindo @ngusti@d@\n"
          ]
        }
      ]
    },
    {
      "cell_type": "code",
      "source": [
        "frase = input('Como está se sentindo hoje?')\n",
        "\n",
        "while frase != 'sufocada':\n",
        "    print('Por favor, responda somente \"sufocada\".')\n",
        "    frase = input('Como está se sentindo hoje?')\n",
        "\n",
        "print(f\"Você está se sentindo {frase.replace('s', '$')}\")"
      ],
      "metadata": {
        "colab": {
          "base_uri": "https://localhost:8080/"
        },
        "id": "uA_-hkJhuF1c",
        "outputId": "e22b8048-9443-45b1-8bc7-34ddad33c267"
      },
      "execution_count": 44,
      "outputs": [
        {
          "output_type": "stream",
          "name": "stdout",
          "text": [
            "Como está se sentindo hoje?feliz\n",
            "Por favor, responda somente \"sufocada\".\n",
            "Como está se sentindo hoje?sufocada\n",
            "Você está se sentindo $ufocada\n"
          ]
        }
      ]
    }
  ]
}