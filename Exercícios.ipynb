{
  "nbformat": 4,
  "nbformat_minor": 0,
  "metadata": {
    "colab": {
      "provenance": [],
      "authorship_tag": "ABX9TyNrD5lUF2U/WwHYj9k4ACeg"
    },
    "kernelspec": {
      "name": "python3",
      "display_name": "Python 3"
    },
    "language_info": {
      "name": "python"
    }
  },
  "cells": [
    {
      "cell_type": "code",
      "source": [],
      "metadata": {
        "id": "GZgE_ffDGi37"
      },
      "execution_count": null,
      "outputs": []
    },
    {
      "cell_type": "markdown",
      "metadata": {
        "id": "85c27b9c"
      },
      "source": [
        "Vamos praticar o uso de estruturas de dados, como as listas e os dicionários, a partir de algumas atividades. Agora que estamos avançando nos conteúdos, podemos tornar os desafios mais interessantes. Para isso, vamos trabalhar com projetos de código!\n",
        "\n",
        "Primeiro, vamos solucionar alguns problemas para aquecer e nos prepararmos para os projetos.\n",
        "\n",
        "**Aquecendo na programação**\n",
        "\n",
        "1. Faça um programa que tenha a seguinte lista contendo os valores de gastos de uma empresa de papel [2172.54, 3701.35, 3518.09, 3456.61, 3249.38, 2840.82, 3891.45, 3075.26, 2317.64, 3219.08]. Com esses valores, faça um programa que calcule a média de gastos. Dica: use as funções built-in sum() e len().\n",
        "\n",
        "2. Com os mesmos dados da questão anterior, defina quantas compras foram realizadas acima de 3000 reais e calcule a porcentagem quanto ao total de compras.\n",
        "\n",
        "3. Faça um código que colete em uma lista 5 números inteiros quaisquer e imprima a lista. Exemplo: [1,4,7,2,4].\n",
        "\n",
        "4. Colete novamente 5 inteiros e imprima a lista em ordem inversa à enviada.\n",
        "\n",
        "5. Faça um programa que, ao inserir um número qualquer, cria uma lista contendo todos os números primos entre 1 e o número digitado.\n",
        "\n",
        "6. Escreva um programa que peça uma data informando o dia, mês e ano e determine se ela é válida para uma análise.\n",
        "\n",
        "**Momento dos projetos**\n",
        "\n",
        "7. Para um estudo envolvendo o nível de multiplicação de bactérias em uma colônia, foi coletado o número de bactérias por dia (em milhares) e pode ser observado a seguir: [1.2, 2.1, 3.3, 5.0, 7.8, 11.3, 16.6, 25.1, 37.8, 56.9]. Tendo esses valores, faça um código que gere uma lista contendo o percentual de crescimento de bactérias por dia, comparando o número de bactérias em cada dia com o número de bactérias do dia anterior. Dica: para calcular o percentual de crescimento usamos a seguinte equação: 100 * (amostra_atual - amostra_passada) / (amostra_passada).\n",
        "\n",
        "8. Para uma seleção de produtos alimentícios, precisamos separar o conjunto de IDs dados por números inteiros sabendo que os produtos com ID par são doces e os com ID ímpar são amargos. Monte um código que colete 10 IDs. Depois, calcule e mostre a quantidade de produtos doces e amargos.\n",
        "\n",
        "9. Desenvolva um programa que informa a nota de um(a) aluno(a) de acordo com suas respostas. Ele deve pedir a resposta desse(a) aluno(a) para cada questão e é preciso verificar se a resposta foi igual ao gabarito. Cada questão vale um ponto e existem as alternativas A, B, C ou D.\n",
        "\n",
        "**Gabarito da prova:**\n",
        "01 - D\n",
        "02 - A\n",
        "03 - C\n",
        "04 - B\n",
        "05 - A\n",
        "06 - D\n",
        "07 - C\n",
        "08 - C\n",
        "09 - A\n",
        "10 - B\n",
        "\n",
        "10. Um instituto de meteorologia deseja fazer um estudo de temperatura média de cada mês do ano. Para isso, você precisa fazer um código que colete e armazene essas temperaturas médias em uma lista. Depois, calcule a média anual das temperaturas e mostre todas as temperaturas acima da média anual e em que mês elas ocorreram, mostrando os meses por extenso (Janeiro, Fevereiro, etc.).\n",
        "\n",
        "11. Uma empresa de e-commerce está interessada em analisar as vendas dos seus produtos. Os dados das vendas foram armazenados em um dicionário:\n",
        "\n",
        "{'Produto A': 300, 'Produto B': 80, 'Produto C': 60, 'Produto D': 200, 'Produto E': 250, 'Produto F': 30}\n",
        "\n",
        "Escreva um código que calcule o total de vendas e o produto mais vendido.\n",
        "\n",
        "12. Uma pesquisa de mercado foi feita para decidir qual design de marca infantil mais agrada as crianças. A pesquisa foi feita e o votos computados podem ser observados abaixo:\n",
        "\n",
        "Tabela de votos da marca\n",
        "Design 1 - 1334 votos\n",
        "Design 2 - 982 votos\n",
        "Design 3 - 1751 votos\n",
        "Design 4 - 210 votos\n",
        "Design 5 - 1811 votos\n",
        "\n",
        "Adapte os dados fornecidos para uma estrutura de dicionário. A partir dele, informe o design vencedor e a porcentagem de votos recebidos.\n",
        "\n",
        "13. As pessoas colaboradoras de um setor da empresa que você trabalha vão receber um abono correspondente a 10% do salário devido ao ótimo desempenho do time. O setor financeiro solicitou sua ajuda para a verificação das consequências financeiras que esse abono irá gerar nos recursos. Assim, foi encaminhada para você uma lista com os salários que receberão o abono: [1172, 1644, 2617, 5130, 5532, 6341, 6650, 7238, 7685, 7782, 7903]. O abono de cada colaborador(a) não pode ser inferior a 200. Em código, transforme cada um dos salários em chaves de um dicionário e o abono de cada salário no elemento. Depois, informe o total de gastos com o abono, quantos(as) colaboradores(as) receberam o abono mínimo e qual o maior valor de abono fornecido.\n",
        "\n",
        "14. Uma equipe de cientistas de dados está estudando a diversidade biológica em uma floresta. A equipe fez a coleta de informações sobre o número de espécies de plantas e animais em cada área dessa floresta e armazenou essas informações em um dicionário. Nele, a chave descreve a área dos dados e os valores nas listas correspondem às espécies de plantas e animais nas áreas, respectivamente.\n",
        "\n",
        "{'Área Norte': [2819, 7236], 'Área Leste': [1440, 9492], 'Área Sul': [5969, 7496], 'Área Oeste': [14446, 49688], 'Área Centro': [22558, 45148]}\n",
        "\n",
        "Escreva um código para calcular a média de espécies por área e identificar a área com a maior diversidade biológica. Dica: use as funções built-in sum() e len().\n",
        "\n",
        "15. O setor de RH da sua empresa te pediu uma ajuda para analisar as idades de colaboradores(as) de 4 setores da empresa. Para isso, foram fornecidos os seguintes dados:\n",
        "\n",
        "{'Setor A': [22, 26, 30, 30, 35, 38, 40, 56, 57, 65], 'Setor B': [22, 24, 26, 33, 41, 49, 50, 54, 60, 64], 'Setor C': [23, 26, 26, 29, 34, 35, 36, 41, 52, 56], 'Setor D': [19, 20, 25, 27, 34, 39, 42, 44, 50, 65]}\n",
        "\n",
        "Sabendo que cada setor tem 10 colaboradores(as), construa um código que calcule a média de idade de cada setor, a idade média geral entre todos os setores e quantas pessoas estão acima da idade média geral."
      ]
    },
    {
      "cell_type": "code",
      "source": [
        "lista_gastos = [2172.54, 3701.35, 3518.09, 3456.61, 3249.38, 2840.82, 3891.45, 3075.26, 2317.64, 3219.08]\n",
        "\n",
        "media_gastos = sum(lista_gastos) / len(lista_gastos)\n",
        "print(f'A média de gastos é {media_gastos} reais.')"
      ],
      "metadata": {
        "colab": {
          "base_uri": "https://localhost:8080/"
        },
        "id": "3-GSpFjbMVZx",
        "outputId": "250f45f3-b464-406a-919f-9552bc172258"
      },
      "execution_count": null,
      "outputs": [
        {
          "output_type": "stream",
          "name": "stdout",
          "text": [
            "A média de gastos é 3144.222 reais.\n"
          ]
        }
      ]
    },
    {
      "cell_type": "code",
      "source": [
        "gastos_altos = len([i for i in lista_gastos if i > 3000])\n",
        "porcentagem = (gastos_altos / len(lista_gastos)) * 100\n",
        "print(f'{gastos_altos} compras foram acima de R$3000,00.')\n",
        "print(f'{porcentagem:.2f}% dos gastos foram acima de R$3000,00.')"
      ],
      "metadata": {
        "colab": {
          "base_uri": "https://localhost:8080/"
        },
        "id": "3T3pRASiM-E0",
        "outputId": "744cf25c-b499-45cf-ce6c-9c546a23f0db"
      },
      "execution_count": null,
      "outputs": [
        {
          "output_type": "stream",
          "name": "stdout",
          "text": [
            "7 compras foram acima de R$3000,00.\n",
            "70.00% dos gastos foram acima de R$3000,00.\n"
          ]
        }
      ]
    },
    {
      "cell_type": "markdown",
      "source": [
        "# **Resposta do Instrutor:**"
      ],
      "metadata": {
        "id": "GASiP4dYOURy"
      }
    },
    {
      "cell_type": "code",
      "source": [
        "# Dados de gastos\n",
        "gastos = [2172.54, 3701.35, 3518.09, 3456.61, 3249.38, 2840.82, 3891.45, 3075.26, 2317.64, 3219.08]\n",
        "\n",
        "# Variável que vai contar quantas compras foram feitas acima de 3000\n",
        "contador_acima_3000 = 0\n",
        "# Usamos o laço para ler a lista de gastos\n",
        "for gasto in gastos:\n",
        "  # Verificamos se o elemento está acima de 3000\n",
        "  if gasto > 3000:\n",
        "    # Acrescentamos mais um no contador, caso tenha algum valor acima de 3000\n",
        "    contador_acima_3000 += 1\n",
        "\n",
        "# Quantidade Compras\n",
        "# Variável que vai ser utilizada para o cálculo da porcentagem\n",
        "quantidade_compras = len(gastos)\n",
        "\n",
        "\n",
        "# Com a contagem conseguimos calcular a porcentagem de valores acima de 3000 entre todas as compras\n",
        "porcentagem_acima_3000 = 100 * (contador_acima_3000) / (quantidade_compras)\n",
        "\n",
        "# Resultado\n",
        "print(f'{contador_acima_3000} compras foram acima de R$3000,00.')\n",
        "print(f'{porcentagem_acima_3000}% dos gastos foram acima de R$3000,00.')"
      ],
      "metadata": {
        "colab": {
          "base_uri": "https://localhost:8080/"
        },
        "id": "w4QlAHZCN9U4",
        "outputId": "59694d81-4cc9-4048-8b08-5a15cc6d7b2c"
      },
      "execution_count": null,
      "outputs": [
        {
          "output_type": "stream",
          "name": "stdout",
          "text": [
            "7 compras foram acima de R$3000,00.\n",
            "70.0% dos gastos foram acima de R$3000,00.\n"
          ]
        }
      ]
    },
    {
      "cell_type": "code",
      "source": [
        "lista_numeros = []\n",
        "\n",
        "for i in range(0, 5):\n",
        "  numero = int(input('Digite um número inteiro: '))\n",
        "  lista_numeros.append(numero)\n",
        "print(f'Lista de números inseridos: {lista_numeros}')"
      ],
      "metadata": {
        "colab": {
          "base_uri": "https://localhost:8080/"
        },
        "id": "ybpZctEMPui0",
        "outputId": "4eecc38c-ec73-444f-f3ed-b75b4d428eb6"
      },
      "execution_count": null,
      "outputs": [
        {
          "output_type": "stream",
          "name": "stdout",
          "text": [
            "Digite um número inteiro: 1\n",
            "Digite um número inteiro: 4\n",
            "Digite um número inteiro: 7\n",
            "Digite um número inteiro: 2\n",
            "Digite um número inteiro: 4\n",
            "Lista de números inseridos: [1, 4, 7, 2, 4]\n"
          ]
        }
      ]
    },
    {
      "cell_type": "code",
      "source": [
        "lista_numeros = []\n",
        "\n",
        "for i in range(0, 5):\n",
        "  numero = int(input('Digite um número inteiro: '))\n",
        "  lista_numeros.append(numero)\n",
        "\n",
        "lista_numeros.reverse()\n",
        "print(f'Lista de números inseridos em ordem inversa: {lista_numeros}')"
      ],
      "metadata": {
        "colab": {
          "base_uri": "https://localhost:8080/"
        },
        "id": "_GSIUV6QQOyd",
        "outputId": "ca9e5d90-4d6c-4f15-ff84-abc92438985a"
      },
      "execution_count": null,
      "outputs": [
        {
          "output_type": "stream",
          "name": "stdout",
          "text": [
            "Digite um número inteiro: 1\n",
            "Digite um número inteiro: 4\n",
            "Digite um número inteiro: 7\n",
            "Digite um número inteiro: 2\n",
            "Digite um número inteiro: 4\n",
            "Lista de números inseridos em ordem inversa: [4, 2, 7, 4, 1]\n"
          ]
        }
      ]
    },
    {
      "cell_type": "markdown",
      "source": [
        "#Resposta do instrutor:"
      ],
      "metadata": {
        "id": "L1InSsg7RA4t"
      }
    },
    {
      "cell_type": "code",
      "source": [
        "# Lista que irá armazenar os 5 números inteiros\n",
        "lista_numeros = []\n",
        "\n",
        "# Criamos um laço que vai iterar 5 vezes para receber os 5 números\n",
        "for i in range(0, 5):\n",
        "  # Coletamos o valor e inserimos na lista por 5 vezes\n",
        "  numero = int(input('Digite um número inteiro: '))\n",
        "  lista_numeros.append(numero)\n",
        "# Usamos da lógica de partição para imprimir o resultado\n",
        "print(f'Lista de números invertida: {lista_numeros[::-1]}')"
      ],
      "metadata": {
        "colab": {
          "base_uri": "https://localhost:8080/"
        },
        "id": "vaJw-sAcQ8sz",
        "outputId": "b5eca602-e683-4e31-c71c-c3fa4de79a78"
      },
      "execution_count": null,
      "outputs": [
        {
          "output_type": "stream",
          "name": "stdout",
          "text": [
            "Digite um número inteiro: 1\n",
            "Digite um número inteiro: 4\n",
            "Digite um número inteiro: 7\n",
            "Digite um número inteiro: 2\n",
            "Digite um número inteiro: 4\n",
            "Lista de números invertida: [4, 2, 7, 4, 1]\n"
          ]
        }
      ]
    },
    {
      "cell_type": "code",
      "source": [
        "num_limite = int(input('Insira um número inteiro para encontrar os números primos até ele: '))\n",
        "\n",
        "lista_primos = []\n",
        "\n",
        "if num_limite >= 2:\n",
        "    for num in range(2, num_limite + 1):\n",
        "        primo = True\n",
        "        for i in range(2, int(num**0.5) + 1):\n",
        "            if (num % i) == 0:\n",
        "                primo = False\n",
        "                break\n",
        "        if primo:\n",
        "            lista_primos.append(num)\n",
        "\n",
        "print(f'Os números primos entre 1 e {num_limite} são: {lista_primos}')"
      ],
      "metadata": {
        "colab": {
          "base_uri": "https://localhost:8080/"
        },
        "id": "gg8toiFRRMS3",
        "outputId": "5b9a9fd6-ab5b-4e67-c90b-db695151ac5d"
      },
      "execution_count": null,
      "outputs": [
        {
          "output_type": "stream",
          "name": "stdout",
          "text": [
            "Insira um número inteiro para encontrar os números primos até ele: 188\n",
            "Os números primos entre 1 e 188 são: [2, 3, 5, 7, 11, 13, 17, 19, 23, 29, 31, 37, 41, 43, 47, 53, 59, 61, 67, 71, 73, 79, 83, 89, 97, 101, 103, 107, 109, 113, 127, 131, 137, 139, 149, 151, 157, 163, 167, 173, 179, 181]\n"
          ]
        }
      ]
    },
    {
      "cell_type": "markdown",
      "source": [
        "#Resposta do instrutor"
      ],
      "metadata": {
        "id": "Ugd_wm1wVIzz"
      }
    },
    {
      "cell_type": "code",
      "source": [
        "# Coletamos o números\n",
        "numero = int(input('Digite um número inteiro: '))\n",
        "# Lista para receber os números primos\n",
        "lista_primos = []\n",
        "# Laço que vai rodar por todos os números abaixo do número digitado\n",
        "for num in range(2, numero):\n",
        "  # Primo é uma bandeira, ela permite sabermos se o valor analisado é ou não primo\n",
        "  primo = True\n",
        "  # Testamos se todos os números abaixo do especificado no primeiro laço podem\n",
        "  # gerar uma divisão exata\n",
        "  for teste_divisiveis in range(2, num):\n",
        "    if num % teste_divisiveis == 0:\n",
        "      # Caso seja divisivel por algum número entendemos que\n",
        "      # o num não é primo e finalizamos o laço interno com break\n",
        "      primo = False\n",
        "      break\n",
        "  # A condição se torna o resultado booleno de primo: False, ignoramos o condicional\n",
        "  # True, executamos o bloco do if\n",
        "  if primo:\n",
        "    lista_primos.append(num)\n",
        "# Resultado\n",
        "print(f'Lista de números primos: {lista_primos}')"
      ],
      "metadata": {
        "colab": {
          "base_uri": "https://localhost:8080/"
        },
        "id": "L-UNS4aBVOLJ",
        "outputId": "cf394558-ca47-4c04-8cbf-bcdf65c72172"
      },
      "execution_count": null,
      "outputs": [
        {
          "output_type": "stream",
          "name": "stdout",
          "text": [
            "Digite um número inteiro: 188\n",
            "Lista de números primos: [2, 3, 5, 7, 11, 13, 17, 19, 23, 29, 31, 37, 41, 43, 47, 53, 59, 61, 67, 71, 73, 79, 83, 89, 97, 101, 103, 107, 109, 113, 127, 131, 137, 139, 149, 151, 157, 163, 167, 173, 179, 181]\n"
          ]
        }
      ]
    },
    {
      "cell_type": "code",
      "source": [
        "# Lista com número de dias por mês (fevereiro será ajustado depois)\n",
        "dias_mes = [31, 28, 31, 30, 31, 30, 31, 31, 30, 31, 30, 31]\n",
        "\n",
        "while True:\n",
        "    data = input(\"Insira uma data no formato dd/mm/aaaa: \")\n",
        "\n",
        "    partes = data.split(\"/\")\n",
        "    if len(partes) == 3 and partes[0].isdigit() and partes[1].isdigit() and partes[2].isdigit():\n",
        "        if len(partes[0]) == 2 and len(partes[1]) == 2 and len(partes[2]) == 4:\n",
        "            dd = int(partes[0])\n",
        "            mm = int(partes[1])\n",
        "            aaaa = int(partes[2])\n",
        "\n",
        "            # Verifica se o mês está entre 1 e 12\n",
        "            if 1 <= mm <= 12:\n",
        "                # Ajusta fevereiro se for ano bissexto\n",
        "                if mm == 2 and (aaaa % 4 == 0 and (aaaa % 100 != 0 or aaaa % 400 == 0)):\n",
        "                    dias_mes[1] = 29\n",
        "                else:\n",
        "                    dias_mes[1] = 28\n",
        "\n",
        "                # Verifica se o dia é válido para o mês\n",
        "                if 1 <= dd <= dias_mes[mm - 1]:\n",
        "                    print(\"Data válida!\")\n",
        "                else:\n",
        "                    print(\"Dia inválido para o mês informado!\")\n",
        "                break\n",
        "    print(\"Formato inválido! Digite no modelo dd/mm/aaaa (ex: 25/02/1989).\")\n"
      ],
      "metadata": {
        "colab": {
          "base_uri": "https://localhost:8080/"
        },
        "id": "4MhZBg-cVZvT",
        "outputId": "0ffc081d-e5fc-4fab-aeed-a05f838ce76c"
      },
      "execution_count": null,
      "outputs": [
        {
          "output_type": "stream",
          "name": "stdout",
          "text": [
            "Insira uma data no formato dd/mm/aaaa: 25021989\n",
            "Formato inválido! Digite no modelo dd/mm/aaaa (ex: 25/02/1989).\n",
            "Insira uma data no formato dd/mm/aaaa: 25/13/1989\n",
            "Formato inválido! Digite no modelo dd/mm/aaaa (ex: 25/02/1989).\n",
            "Insira uma data no formato dd/mm/aaaa: 25/02/1989\n",
            "Data válida!\n"
          ]
        }
      ]
    },
    {
      "cell_type": "markdown",
      "source": [
        "#Resposta do instrutor:"
      ],
      "metadata": {
        "id": "bkPZj2xzYdtt"
      }
    },
    {
      "cell_type": "code",
      "source": [
        "# Coletamos a data\n",
        "dia = int(input('Digite o dia: '))\n",
        "mes = int(input('Digite o mês: '))\n",
        "ano = int(input('Digite o ano: '))\n",
        "\n",
        "# Análise de fevereiro\n",
        "if mes == 2:\n",
        "  # Verificamos se é ou não um ano bissexto\n",
        "  if ano % 4 == 0 and (ano % 400 == 0 or ano % 100 != 0):\n",
        "    dias_fevereiro = 29\n",
        "  else:\n",
        "    dias_fevereiro = 28\n",
        "  # Verificamos se o dia colocado corresponde ao máximo de dias de fevereiro\n",
        "  if dia >= 1 and dia <= dias_fevereiro:\n",
        "    print('Data válida')\n",
        "  else:\n",
        "    print('Data inválida')\n",
        "# Verificamos meses terminados em 31 dias\n",
        "elif mes in [1, 3, 5, 7, 8, 10, 12]:\n",
        "  if dia >= 1 and dia <= 31:\n",
        "    print('Data válida')\n",
        "  else:\n",
        "    print('Data inválida')\n",
        "# Verificamos meses terminados em 30 dias\n",
        "elif mes in [4, 6, 9, 11]:\n",
        "  if dia >= 1 and dia <= 30:\n",
        "    print('Data válida')\n",
        "  else:\n",
        "    print('Data inválida')\n",
        "# Caso o mês não esteja entre 1 e 12\n",
        "else:\n",
        "  print('Data inválida')"
      ],
      "metadata": {
        "colab": {
          "base_uri": "https://localhost:8080/"
        },
        "id": "8uh_Jj3nYjxa",
        "outputId": "e427cc25-c778-4687-f58c-5d5d09c8c6a1"
      },
      "execution_count": null,
      "outputs": [
        {
          "output_type": "stream",
          "name": "stdout",
          "text": [
            "Digite o dia: 25\n",
            "Digite o mês: 02\n",
            "Digite o ano: 1989\n",
            "Data válida\n"
          ]
        }
      ]
    },
    {
      "cell_type": "markdown",
      "source": [
        "Codigo de referencia do Gpt, usando import:"
      ],
      "metadata": {
        "id": "aPtDAb8AbP1h"
      }
    },
    {
      "cell_type": "code",
      "source": [
        "from datetime import datetime\n",
        "\n",
        "while True:\n",
        "    data = input(\"Insira uma data no formato dd/mm/aaaa: \")\n",
        "\n",
        "    try:\n",
        "        # Tenta criar um objeto datetime a partir do input\n",
        "        data_obj = datetime.strptime(data, \"%d/%m/%Y\")\n",
        "        print(f\"A data {data_obj.strftime('%d/%m/%Y')} é válida.\")\n",
        "        break  # data válida, sair do loop\n",
        "    except ValueError:\n",
        "        print(\"Data inválida ou formato incorreto! Use dd/mm/aaaa.\\n\")\n"
      ],
      "metadata": {
        "colab": {
          "base_uri": "https://localhost:8080/"
        },
        "id": "awh61ezsaibi",
        "outputId": "fa259bdc-0ad5-41ea-8dac-dddf19d074bf"
      },
      "execution_count": null,
      "outputs": [
        {
          "output_type": "stream",
          "name": "stdout",
          "text": [
            "Insira uma data no formato dd/mm/aaaa: 28\n",
            "Data inválida ou formato incorreto! Use dd/mm/aaaa.\n",
            "\n",
            "Insira uma data no formato dd/mm/aaaa: 25/021989\n",
            "Data inválida ou formato incorreto! Use dd/mm/aaaa.\n",
            "\n",
            "Insira uma data no formato dd/mm/aaaa: 25/02/1989\n",
            "A data 25/02/1989 é válida.\n"
          ]
        }
      ]
    },
    {
      "cell_type": "code",
      "source": [
        "dados_bacterias = [1.2, 2.1, 3.3, 5.0, 7.8, 11.3, 16.6, 25.1, 37.8, 56.9]\n",
        "percentual_crescimento = []\n",
        "\n",
        "for i in range(1, len(dados_bacterias)):\n",
        "  amostra_atual = dados_bacterias[i]\n",
        "  amostra_passada = dados_bacterias[i-1]\n",
        "  crescimento = 100 * (amostra_atual - amostra_passada) / (amostra_passada)\n",
        "  percentual_crescimento.append(crescimento)\n",
        "\n",
        "print(f'Percentual de crescimento diário: {percentual_crescimento}')"
      ],
      "metadata": {
        "colab": {
          "base_uri": "https://localhost:8080/"
        },
        "id": "HpKM3DOSbpAA",
        "outputId": "8aa5dbf7-91e0-4ea0-b030-8b94779f50c4"
      },
      "execution_count": null,
      "outputs": [
        {
          "output_type": "stream",
          "name": "stdout",
          "text": [
            "Percentual de crescimento diário: [75.00000000000001, 57.142857142857125, 51.51515151515153, 56.0, 44.87179487179489, 46.90265486725664, 51.20481927710843, 50.59760956175297, 50.52910052910054]\n"
          ]
        }
      ]
    },
    {
      "cell_type": "markdown",
      "source": [
        "#Resposta do instrutor:"
      ],
      "metadata": {
        "id": "UQl6VHY9gOYk"
      }
    },
    {
      "cell_type": "code",
      "source": [
        "\n",
        "bacterias_colonia = [1.2, 2.1, 3.3, 5.0, 7.8, 11.3, 16.6, 25.1, 37.8, 56.9]\n",
        "\n",
        "porcentagem_crescimento = []\n",
        "\n",
        "for i in range(1, len(bacterias_colonia)):\n",
        "  porcentagem = 100 * (bacterias_colonia[i] - bacterias_colonia[i-1]) / (bacterias_colonia[i-1])\n",
        "  porcentagem_crescimento.append(porcentagem)\n",
        "\n",
        "print(f'Porcentagens de crescimento:\\n{porcentagem_crescimento}')"
      ],
      "metadata": {
        "colab": {
          "base_uri": "https://localhost:8080/"
        },
        "id": "BmnuKg3FgJD3",
        "outputId": "1ceecee5-9e43-4622-c6f3-a6e27bb0716c"
      },
      "execution_count": null,
      "outputs": [
        {
          "output_type": "stream",
          "name": "stdout",
          "text": [
            "Porcentagens de crescimento:\n",
            "[75.00000000000001, 57.142857142857125, 51.51515151515153, 56.0, 44.87179487179489, 46.90265486725664, 51.20481927710843, 50.59760956175297, 50.52910052910054]\n"
          ]
        }
      ]
    },
    {
      "cell_type": "code",
      "source": [
        "doces = 0\n",
        "amargos = 0\n",
        "\n",
        "for i in range(0, 10):\n",
        "  id_produto = int(input(f'Digite o ID do {i+1}º produto: '))\n",
        "  if id_produto % 2 == 0:\n",
        "    doces += 1\n",
        "  else:\n",
        "    amargos += 1\n",
        "\n",
        "print(f'Foram inseridos {doces} produtos doces e {amargos} produtos amargos.')"
      ],
      "metadata": {
        "colab": {
          "base_uri": "https://localhost:8080/"
        },
        "id": "Ubj5TQwSKgKB",
        "outputId": "9a226bd0-2d02-4a54-e031-db419f00a0f7"
      },
      "execution_count": 2,
      "outputs": [
        {
          "output_type": "stream",
          "name": "stdout",
          "text": [
            "Digite o ID do 1º produto: 10\n",
            "Digite o ID do 2º produto: 12\n",
            "Digite o ID do 3º produto: 57\n",
            "Digite o ID do 4º produto: 63\n",
            "Digite o ID do 5º produto: 55\n",
            "Digite o ID do 6º produto: 98\n",
            "Digite o ID do 7º produto: 88\n",
            "Digite o ID do 8º produto: 64\n",
            "Digite o ID do 9º produto: 33\n",
            "Digite o ID do 10º produto: 22\n",
            "Foram inseridos 6 produtos doces e 4 produtos amargos.\n"
          ]
        }
      ]
    },
    {
      "cell_type": "markdown",
      "source": [
        "#Resposta do instrutor:"
      ],
      "metadata": {
        "id": "LQVnPlmTMBgP"
      }
    },
    {
      "cell_type": "code",
      "source": [
        "# Lista que vai receber os valores de IDs\n",
        "ids = []\n",
        "# Variáveis contadoras de doces e amargos\n",
        "doce = 0\n",
        "amargo = 0\n",
        "\n",
        "# Criamos um laço que vai iterar 10 vezes para receber os 10 IDs\n",
        "for i in range(0,10):\n",
        "  # Coletamos o ID e adicionamos o id na lista\n",
        "  ids.append(int(input(f'Digite o {i+1}° ID: ')))\n",
        "\n",
        "# Ler todos os elementos da lista ids e atribuir à id\n",
        "for id in ids:\n",
        "  # Verificamos se os elementos são pares ou ímpares para fazer a contagem\n",
        "  if id % 2 == 0:\n",
        "    doce += 1\n",
        "  else:\n",
        "    amargo += 1\n",
        "\n",
        "# Resultado\n",
        "print(f'Quantidade de produtos doces: {doce}')\n",
        "print(f'Quantidade de produtos amargos: {amargo}')"
      ],
      "metadata": {
        "colab": {
          "base_uri": "https://localhost:8080/"
        },
        "id": "liUOjU8_MEtg",
        "outputId": "3ddd0287-e8bd-4c3b-8d9a-9c7058981926"
      },
      "execution_count": 3,
      "outputs": [
        {
          "output_type": "stream",
          "name": "stdout",
          "text": [
            "Digite o 1° ID: 10\n",
            "Digite o 2° ID: 55\n",
            "Digite o 3° ID: 88\n",
            "Digite o 4° ID: 77\n",
            "Digite o 5° ID: 25\n",
            "Digite o 6° ID: 98\n",
            "Digite o 7° ID: 63\n",
            "Digite o 8° ID: 97\n",
            "Digite o 9° ID: 32\n",
            "Digite o 10° ID: 195\n",
            "Quantidade de produtos doces: 4\n",
            "Quantidade de produtos amargos: 6\n"
          ]
        }
      ]
    },
    {
      "cell_type": "code",
      "source": [
        "gabarito_prova = {\n",
        "    1: 'D',\n",
        "    2: 'A',\n",
        "    3: 'C',\n",
        "    4: 'B',\n",
        "    5: 'A',\n",
        "    6: 'D',\n",
        "    7: 'C',\n",
        "    8: 'C',\n",
        "    9: 'A',\n",
        "    10: 'B'\n",
        "}\n",
        "\n",
        "aluno = input('Digite o nome do aluno(a): ')\n",
        "respostas_aluno = {}\n",
        "pontuacao = 0\n",
        "\n",
        "print(f'\\nPor favor, digite a resposta do(a) aluno(a) {aluno} para cada questão (A, B, C ou D):')\n",
        "\n",
        "for questao in gabarito_prova:\n",
        "    while True:\n",
        "        resposta = input(f'Questão {questao}: ').upper()\n",
        "        if resposta in ['A', 'B', 'C', 'D']:\n",
        "            respostas_aluno[questao] = resposta\n",
        "            break\n",
        "        else:\n",
        "            print('Resposta inválida. Por favor, digite A, B, C ou D.')\n",
        "\n",
        "for questao, resposta_gabarito in gabarito_prova.items():\n",
        "    if respostas_aluno.get(questao) == resposta_gabarito: #para não esquecer, get() em um dicionário retorna o valor da chave\n",
        "        pontuacao += 1\n",
        "\n",
        "print(f'\\nResultado do(a) aluno(a) {aluno}:')\n",
        "print(f'Nota: {pontuacao}/{len(gabarito_prova)}')"
      ],
      "metadata": {
        "colab": {
          "base_uri": "https://localhost:8080/"
        },
        "id": "N4q-o8nUMaea",
        "outputId": "1177e7a5-d561-47c6-ed5a-caf1180fa1eb"
      },
      "execution_count": 4,
      "outputs": [
        {
          "output_type": "stream",
          "name": "stdout",
          "text": [
            "Digite o nome do aluno(a): Paulo\n",
            "\n",
            "Por favor, digite a resposta do(a) aluno(a) Paulo para cada questão (A, B, C ou D):\n",
            "Questão 1: Paulo\n",
            "Resposta inválida. Por favor, digite A, B, C ou D.\n",
            "Questão 1: A\n",
            "Questão 2: A\n",
            "Questão 3: A\n",
            "Questão 4: A\n",
            "Questão 5: A\n",
            "Questão 6: A\n",
            "Questão 7: A\n",
            "Questão 8: A\n",
            "Questão 9: A\n",
            "Questão 10: A\n",
            "\n",
            "Resultado do(a) aluno(a) Paulo:\n",
            "Nota: 3/10\n"
          ]
        }
      ]
    },
    {
      "cell_type": "markdown",
      "source": [
        "#Resposta do instruto:"
      ],
      "metadata": {
        "id": "Ot-raUgRO8qt"
      }
    },
    {
      "cell_type": "code",
      "source": [
        "# Inicializamos os dados\n",
        "respostas = [] # Lista para receber as respostas\n",
        "# Lista de gabaritos\n",
        "gabarito = ['D', 'A', 'C', 'B', 'A', 'D', 'C', 'C', 'A', 'B']\n",
        "nota = 0 # Irá acumular a nota total\n",
        "\n",
        "# Recebemos as respostas do aluno\n",
        "for i in range(0, 10):\n",
        "  respostas.append(input(f'Insira a resposta da questão {i + 1}: ').upper())\n",
        "\n",
        "# Verificamos se as respostas são iguais e adicionamos à nota\n",
        "for i in range(0,10):\n",
        "  if respostas[i] == gabarito[i]:\n",
        "    nota += 1\n",
        "\n",
        "# Exibindo nota final\n",
        "print(f'Nota final: {nota}')"
      ],
      "metadata": {
        "colab": {
          "base_uri": "https://localhost:8080/"
        },
        "id": "em42BfUGPBYE",
        "outputId": "872d8b9f-0962-4857-aae7-878cf6430b9d"
      },
      "execution_count": 5,
      "outputs": [
        {
          "output_type": "stream",
          "name": "stdout",
          "text": [
            "Insira a resposta da questão 1: A\n",
            "Insira a resposta da questão 2: A\n",
            "Insira a resposta da questão 3: A\n",
            "Insira a resposta da questão 4: A\n",
            "Insira a resposta da questão 5: A\n",
            "Insira a resposta da questão 6: A\n",
            "Insira a resposta da questão 7: A\n",
            "Insira a resposta da questão 8: a\n",
            "Insira a resposta da questão 9: a\n",
            "Insira a resposta da questão 10: A\n",
            "Nota final: 3\n"
          ]
        }
      ]
    },
    {
      "cell_type": "code",
      "source": [
        "meses = ['Janeiro', 'Fevereiro', 'Março', 'Abril', 'Maio', 'Junho', 'Julho', 'Agosto', 'Setembro', 'Outubro', 'Novembro', 'Dezembro']\n",
        "temp_media = []\n",
        "\n",
        "for i in range(12):\n",
        "  temperatura = float(input(f'Digite a temperatura média do mês de {meses[i]}: '))\n",
        "  temp_media.append(temperatura)\n",
        "\n",
        "media_anual = sum(temp_media) / len(temp_media)\n",
        "\n",
        "print(f'\\nA temperatura média anual é: {media_anual:.2f}°C')\n",
        "print('\\nMeses com temperatura acima da média anual:')\n",
        "\n",
        "for i in range(12):\n",
        "  if temp_media[i] > media_anual:\n",
        "    print(f'{meses[i]}: {temp_media[i]:.2f}°C')\n"
      ],
      "metadata": {
        "colab": {
          "base_uri": "https://localhost:8080/"
        },
        "id": "HoTF8jobQFwZ",
        "outputId": "59312b1f-0f0e-4910-b2e0-4cfc354fc30f"
      },
      "execution_count": 7,
      "outputs": [
        {
          "output_type": "stream",
          "name": "stdout",
          "text": [
            "Digite a temperatura média do mês de Janeiro: 36\n",
            "Digite a temperatura média do mês de Fevereiro: 36\n",
            "Digite a temperatura média do mês de Março: 32\n",
            "Digite a temperatura média do mês de Abril: 30\n",
            "Digite a temperatura média do mês de Maio: 28\n",
            "Digite a temperatura média do mês de Junho: 21\n",
            "Digite a temperatura média do mês de Julho: 18\n",
            "Digite a temperatura média do mês de Agosto: 22\n",
            "Digite a temperatura média do mês de Setembro: 18\n",
            "Digite a temperatura média do mês de Outubro: 30\n",
            "Digite a temperatura média do mês de Novembro: 32\n",
            "Digite a temperatura média do mês de Dezembro: 33\n",
            "\n",
            "A temperatura média anual é: 28.00°C\n",
            "\n",
            "Meses com temperatura acima da média anual:\n",
            "Janeiro: 36.00°C\n",
            "Fevereiro: 36.00°C\n",
            "Março: 32.00°C\n",
            "Abril: 30.00°C\n",
            "Outubro: 30.00°C\n",
            "Novembro: 32.00°C\n",
            "Dezembro: 33.00°C\n"
          ]
        }
      ]
    },
    {
      "cell_type": "code",
      "source": [
        "vendas = {\n",
        "    'Produto A': 300,\n",
        "    'Produto B': 80,\n",
        "    'Produto C': 60,\n",
        "    'Produto D': 200,\n",
        "    'Produto E': 250,\n",
        "    'Produto F': 30\n",
        "}\n",
        "\n",
        "total_vendas = sum(vendas.values())\n",
        "produto_mais_vendido = max(vendas, key=vendas.get)\n",
        "\n",
        "print(f'Total de vendas: {total_vendas}')\n",
        "print(f'Produto mais vendido: {produto_mais_vendido}')"
      ],
      "metadata": {
        "colab": {
          "base_uri": "https://localhost:8080/"
        },
        "id": "T0BE4YA9Sink",
        "outputId": "97295baa-9d2d-4ef3-8daf-46f127fabfc5"
      },
      "execution_count": 9,
      "outputs": [
        {
          "output_type": "stream",
          "name": "stdout",
          "text": [
            "Total de vendas: 920\n",
            "Produto mais vendido: Produto A\n"
          ]
        }
      ]
    },
    {
      "cell_type": "code",
      "source": [
        "\n",
        "Tabela_votos = {\n",
        "    'Design 1' : 1334,\n",
        "    'Design 2' : 982,\n",
        "    'Design 3' : 1751,\n",
        "    'Design 4' : 210,\n",
        "    'Design 5' : 1811,\n",
        "}\n",
        "\n",
        "vencedor = max(Tabela_votos, key=Tabela_votos.get)\n",
        "porcentagem_vencedor = (Tabela_votos[vencedor] / sum(Tabela_votos.values())) * 100\n",
        "\n",
        "print(f'O design vencedor foi o {vencedor} com {Tabela_votos[vencedor]} votos, representando {porcentagem_vencedor:.2f}% dos votos.')"
      ],
      "metadata": {
        "colab": {
          "base_uri": "https://localhost:8080/"
        },
        "id": "c8EXXBWcTOMI",
        "outputId": "bcf3729e-0355-49e0-ba32-1b2845638b62"
      },
      "execution_count": 11,
      "outputs": [
        {
          "output_type": "stream",
          "name": "stdout",
          "text": [
            "O design vencedor foi o Design 5 com 1811 votos, representando 29.75% dos votos.\n"
          ]
        }
      ]
    },
    {
      "cell_type": "markdown",
      "source": [
        "#Resposta do instruto:"
      ],
      "metadata": {
        "id": "LRZkVKtAT9d7"
      }
    },
    {
      "cell_type": "code",
      "source": [
        "# Dicionário de votos por design\n",
        "votos = {'Design 1': 1334, 'Design 2': 982, 'Design 3': 1751, 'Design 4': 210, 'Design 5': 1811}\n",
        "\n",
        "# Inicializamos as variáveis\n",
        "total_votos = 0 # Irá somar todos os votos\n",
        "vencedor = '' # Irá armazenar o nome do design vencedor\n",
        "voto_vencedor = 0 # Irá armazenar a quantidade vencedora de votos\n",
        "\n",
        "# Percorremos os valores de chaves e elementos do dicionário\n",
        "for design, voto_desing in votos.items():\n",
        "  # Somamos o total de votos\n",
        "  total_votos += voto_desing\n",
        "  # Verificamos se o voto do atual desing (voto_desing) é maior que o valor armazenado em voto_vencedor\n",
        "  # Cada vez que voto_desing superar o valor em voto_vencedor,\n",
        "  # a variável voto_vencedor vai ser igual à voto_desing, atribuindo um novo valor\n",
        "  # De forma similar, o vencedor também é substituído pelo design\n",
        "  if voto_desing > voto_vencedor:\n",
        "    voto_vencedor = voto_desing\n",
        "    vencedor = design\n",
        "# Calculamos a porcentagem do design vencedor\n",
        "porcentagem = 100 * (voto_vencedor) / (total_votos)\n",
        "\n",
        "#Resultado\n",
        "print(f'{vencedor} é o vencedor: ')\n",
        "print(f'Porcentagem de votos: {porcentagem}%')"
      ],
      "metadata": {
        "colab": {
          "base_uri": "https://localhost:8080/"
        },
        "id": "huTQolH7UCoN",
        "outputId": "1d089fe7-db18-49e5-a7b9-9d4a07cd2696"
      },
      "execution_count": 12,
      "outputs": [
        {
          "output_type": "stream",
          "name": "stdout",
          "text": [
            "Design 5 é o vencedor: \n",
            "Porcentagem de votos: 29.747043363994745%\n"
          ]
        }
      ]
    },
    {
      "cell_type": "markdown",
      "source": [
        "#Resposta do GPT com coleta e formatação automatica :"
      ],
      "metadata": {
        "id": "gWxCievpUKA3"
      }
    },
    {
      "cell_type": "code",
      "source": [
        "import re\n",
        "\n",
        "# Texto bruto da tabela\n",
        "texto = \"\"\"\n",
        "Design 1 - 1334 votos\n",
        "Design 2 - 982 votos\n",
        "Design 3 - 1751 votos\n",
        "Design 4 - 210 votos\n",
        "Design 5 - 1811 votos\n",
        "\"\"\"\n",
        "\n",
        "# Extrair pares (Design, votos) automaticamente\n",
        "Tabela_votos = {\n",
        "    match[0]: int(match[1])\n",
        "    for match in re.findall(r\"(Design \\d+) - (\\d+)\", texto)\n",
        "}\n",
        "\n",
        "# Calcular vencedor e porcentagem\n",
        "vencedor = max(Tabela_votos, key=Tabela_votos.get)\n",
        "porcentagem_vencedor = (Tabela_votos[vencedor] / sum(Tabela_votos.values())) * 100\n",
        "\n",
        "print(f\"O design vencedor foi o {vencedor} com {Tabela_votos[vencedor]} votos, \"\n",
        "      f\"representando {porcentagem_vencedor:.2f}% dos votos.\")\n"
      ],
      "metadata": {
        "colab": {
          "base_uri": "https://localhost:8080/"
        },
        "id": "try1s8lDURG_",
        "outputId": "e63335b3-7e89-4ee1-c78c-4b518db4623d"
      },
      "execution_count": 14,
      "outputs": [
        {
          "output_type": "stream",
          "name": "stdout",
          "text": [
            "O design vencedor foi o Design 5 com 1811 votos, representando 29.75% dos votos.\n"
          ]
        }
      ]
    },
    {
      "cell_type": "code",
      "metadata": {
        "colab": {
          "base_uri": "https://localhost:8080/"
        },
        "id": "2686b8ff",
        "outputId": "5a9c76fd-503e-438d-9e9e-811b04e7d917"
      },
      "source": [
        "salarios = [1172, 1644, 2617, 5130, 5532, 6341, 6650, 7238, 7685, 7782, 7903]\n",
        "abonos = {}\n",
        "total_abono = 0\n",
        "abono_minimo_count = 0\n",
        "maior_abono = 0\n",
        "\n",
        "for salario in salarios:\n",
        "  abono_calculado = salario * 0.10\n",
        "  abono_final = max(abono_calculado, 200) # Garante que o abono seja no mínimo 200\n",
        "\n",
        "  abonos[salario] = abono_final\n",
        "  total_abono += abono_final\n",
        "\n",
        "  if abono_final == 200:\n",
        "    abono_minimo_count += 1\n",
        "\n",
        "  if abono_final > maior_abono:\n",
        "    maior_abono = abono_final\n",
        "\n",
        "print(f'Total de gastos com abono: R$ {total_abono:.2f}')\n",
        "print(f'Quantidade de colaboradores que receberam o abono mínimo (R$ 200,00): {abono_minimo_count}')\n",
        "print(f'Maior valor de abono fornecido: R$ {maior_abono:.2f}')"
      ],
      "execution_count": 16,
      "outputs": [
        {
          "output_type": "stream",
          "name": "stdout",
          "text": [
            "Total de gastos com abono: R$ 6087.80\n",
            "Quantidade de colaboradores que receberam o abono mínimo (R$ 200,00): 2\n",
            "Maior valor de abono fornecido: R$ 790.30\n"
          ]
        }
      ]
    },
    {
      "cell_type": "markdown",
      "source": [
        "#Resposta do instrutor:"
      ],
      "metadata": {
        "id": "2vzt94MiWEQW"
      }
    },
    {
      "cell_type": "code",
      "source": [
        "# Lista de salários\n",
        "salarios = [1172, 1644, 2617, 5130, 5532, 6341, 6650, 7238, 7685, 7782, 7903]\n",
        "# Inicializamos as variáveis\n",
        "dic_abonos = {} # Dicionário de abonos\n",
        "total_abono = 0 # Irá somar todos os gastos com abono\n",
        "abonos_minimo = 0 # Irá armazenar a quantidade de abonos mínimos\n",
        "maior_abono = 0 # Irá armazenar o maior valor de abono\n",
        "\n",
        "# Percorremos toda a lista de salários\n",
        "for salario in salarios:\n",
        "  # Calculamos o valor teórico de abono\n",
        "  abono = salario * 0.1\n",
        "  # Caso o abono seja inferior a 200,\n",
        "  # ajustamos o valor de abono para o mínimo (200)\n",
        "  if abono < 200:\n",
        "    abono = 200\n",
        "  # Adicionamos um novo dado no dicionário chave abono\n",
        "  dic_abonos[salario] = abono\n",
        "\n",
        "# Percorremos todos os valores do dicionário de abonos\n",
        "for abono in dic_abonos.values():\n",
        "  # Contamos o salário minimo\n",
        "  if abono == 200:\n",
        "    abonos_minimo += 1\n",
        "  # Verificamos se o abono lido é maior que o valor armazenado em maior_abono\n",
        "  # Cada vez que o abono superar o valor de maior_abono,\n",
        "  # a variável maior_abono vai ser igual à abono, atribuindo um novo valor\n",
        "  if abono > maior_abono:\n",
        "    maior_abono = abono\n",
        "  # Somamos os abonos\n",
        "  total_abono += abono\n",
        "# Resultados\n",
        "print(f'Abonos: {dic_abonos}')\n",
        "print(f'Total de gasto com abonos: {total_abono}')\n",
        "print(f'Número de funcionários que receberam o abono mínimo: {abonos_minimo}')\n",
        "print(f'Maior valor de abono: {maior_abono}')"
      ],
      "metadata": {
        "colab": {
          "base_uri": "https://localhost:8080/"
        },
        "id": "MWNBVij1WIiE",
        "outputId": "3a438439-9e7d-4325-b876-47084fb0e71f"
      },
      "execution_count": 17,
      "outputs": [
        {
          "output_type": "stream",
          "name": "stdout",
          "text": [
            "Abonos: {1172: 200, 1644: 200, 2617: 261.7, 5130: 513.0, 5532: 553.2, 6341: 634.1, 6650: 665.0, 7238: 723.8000000000001, 7685: 768.5, 7782: 778.2, 7903: 790.3000000000001}\n",
            "Total de gasto com abonos: 6087.8\n",
            "Número de funcionários que receberam o abono mínimo: 2\n",
            "Maior valor de abono: 790.3000000000001\n"
          ]
        }
      ]
    },
    {
      "cell_type": "code",
      "metadata": {
        "colab": {
          "base_uri": "https://localhost:8080/"
        },
        "id": "6602cafc",
        "outputId": "751205a0-e839-4890-90de-ac016686b556"
      },
      "source": [
        "dados_diversidade = {\n",
        "    'Área Norte': [2819, 7236],\n",
        "    'Área Leste': [1440, 9492],\n",
        "    'Área Sul': [5969, 7496],\n",
        "    'Área Oeste': [14446, 49688],\n",
        "    'Área Centro': [22558, 45148]\n",
        "}\n",
        "\n",
        "total_especies_por_area = {}\n",
        "total_geral_especies = 0\n",
        "total_areas = len(dados_diversidade)\n",
        "area_maior_diversidade = ''\n",
        "maior_numero_especies = 0\n",
        "\n",
        "for area, especies in dados_diversidade.items():\n",
        "  total_especies_area_atual = sum(especies)\n",
        "  total_especies_por_area[area] = total_especies_area_atual\n",
        "  total_geral_especies += total_especies_area_atual\n",
        "\n",
        "  if total_especies_area_atual > maior_numero_especies:\n",
        "    maior_numero_especies = total_especies_area_atual\n",
        "    area_maior_diversidade = area\n",
        "\n",
        "media_especies_por_area = total_geral_especies / total_areas\n",
        "\n",
        "print(f'Média de espécies por área: {media_especies_por_area:.2f}')\n",
        "print(f'Área com a maior diversidade biológica: {area_maior_diversidade} com {maior_numero_especies} espécies.')"
      ],
      "execution_count": 18,
      "outputs": [
        {
          "output_type": "stream",
          "name": "stdout",
          "text": [
            "Média de espécies por área: 33258.40\n",
            "Área com a maior diversidade biológica: Área Centro com 67706 espécies.\n"
          ]
        }
      ]
    },
    {
      "cell_type": "markdown",
      "source": [
        "#Resposta do instrutor"
      ],
      "metadata": {
        "id": "74Y8x9IdW67y"
      }
    },
    {
      "cell_type": "code",
      "source": [
        "# Especificamos os dados para um dicionário\n",
        "dados = {'Área Norte': [2819, 7236],\n",
        "         'Área Leste': [1440, 9492],\n",
        "         'Área Sul': [5969, 7496],\n",
        "         'Área Oeste': [14446, 49688],\n",
        "         'Área Centro': [22558, 45148]}\n",
        "# Inicializamos as variáveis\n",
        "soma_media = 0 # Irá somar todas as médias\n",
        "maior_diversidade = '' # Irá armazenar a área com maior diversidade\n",
        "maior_soma = 0 # Irá armazenar a maior soma de espécies\n",
        "# Percorremos os valores de chaves e elementos do dicionário\n",
        "for area, especies in dados.items():\n",
        "  # Fazemos a soma do números de espécies em cada área com a função sum\n",
        "  soma_especies = sum(especies)\n",
        "  # Calculamos a média dividindo a soma das espécies pela quantidade de espécies\n",
        "  media = soma_especies / len(especies)\n",
        "  # Imprimimos\n",
        "  print(f'A {area} tem a média de {media} espécies')\n",
        "  # Verificamos se a soma das espécies é maior que o valor armazenado de maior_soma\n",
        "  # Cada vez que a soma_especies superar o valor de maior_soma,\n",
        "  # a variável maior_soma vai ser igual à soma_especies, atribuindo um novo valor\n",
        "  # De forma similar, maior_diversidade também é substituída\n",
        "  if soma_especies > maior_soma:\n",
        "      maior_soma = soma_especies\n",
        "      maior_diversidade = area\n",
        "  # Somamos as médias\n",
        "  soma_media += media\n",
        "# A média total será dada pela soma_media dividida pela quantidade de áreas\n",
        "media_total = soma_media / len(dados)\n",
        "print(f'Média geral de espécies: {media_total}')\n",
        "print(f'Área com a maior diversidade biológica: {maior_diversidade}')"
      ],
      "metadata": {
        "colab": {
          "base_uri": "https://localhost:8080/"
        },
        "id": "qrtlYUZ4Wy_a",
        "outputId": "35acaa6a-6ceb-4b56-b1af-26004eb8ea69"
      },
      "execution_count": 22,
      "outputs": [
        {
          "output_type": "stream",
          "name": "stdout",
          "text": [
            "A Área Norte tem a média de 5027.5 espécies\n",
            "A Área Leste tem a média de 5466.0 espécies\n",
            "A Área Sul tem a média de 6732.5 espécies\n",
            "A Área Oeste tem a média de 32067.0 espécies\n",
            "A Área Centro tem a média de 33853.0 espécies\n",
            "Média geral de espécies: 16629.2\n",
            "Área com a maior diversidade biológica: Área Centro\n"
          ]
        }
      ]
    },
    {
      "cell_type": "code",
      "metadata": {
        "colab": {
          "base_uri": "https://localhost:8080/"
        },
        "id": "1696391d",
        "outputId": "dde891f7-131a-41b8-bbc3-6e805ce1417e"
      },
      "source": [
        "dados_idades = {\n",
        "    'Setor A': [22, 26, 30, 30, 35, 38, 40, 56, 57, 65],\n",
        "    'Setor B': [22, 24, 26, 33, 41, 49, 50, 54, 60, 64],\n",
        "    'Setor C': [23, 26, 26, 29, 34, 35, 36, 41, 52, 56],\n",
        "    'Setor D': [19, 20, 25, 27, 34, 39, 42, 44, 50, 65]\n",
        "}\n",
        "\n",
        "total_idades_geral = 0\n",
        "total_pessoas_geral = 0\n",
        "idades_individuais = []\n",
        "\n",
        "print('Média de idade por setor:')\n",
        "for setor, idades in dados_idades.items():\n",
        "  media_setor = sum(idades) / len(idades)\n",
        "  print(f'{setor}: {media_setor:.2f}')\n",
        "\n",
        "  total_idades_geral += sum(idades)\n",
        "  total_pessoas_geral += len(idades)\n",
        "  idades_individuais.extend(idades)\n",
        "\n",
        "media_geral = total_idades_geral / total_pessoas_geral\n",
        "\n",
        "acima_media_geral_count = 0\n",
        "for idade in idades_individuais:\n",
        "  if idade > media_geral:\n",
        "    acima_media_geral_count += 1\n",
        "\n",
        "print(f'\\nIdade média geral entre todos os setores: {media_geral:.2f}')\n",
        "print(f'Número de pessoas acima da idade média geral: {acima_media_geral_count}')"
      ],
      "execution_count": 20,
      "outputs": [
        {
          "output_type": "stream",
          "name": "stdout",
          "text": [
            "Média de idade por setor:\n",
            "Setor A: 39.90\n",
            "Setor B: 42.30\n",
            "Setor C: 35.80\n",
            "Setor D: 36.50\n",
            "\n",
            "Idade média geral entre todos os setores: 38.62\n",
            "Número de pessoas acima da idade média geral: 18\n"
          ]
        }
      ]
    }
  ]
}