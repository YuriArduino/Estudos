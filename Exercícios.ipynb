{
  "nbformat": 4,
  "nbformat_minor": 0,
  "metadata": {
    "colab": {
      "provenance": [],
      "authorship_tag": "ABX9TyMKDm6PS7v43QbU3+PlHOGq"
    },
    "kernelspec": {
      "name": "python3",
      "display_name": "Python 3"
    },
    "language_info": {
      "name": "python"
    }
  },
  "cells": [
    {
      "cell_type": "markdown",
      "source": [
        "---\n",
        "\n",
        "# 📝 Lista de Exercícios — List Comprehension & Dict Comprehension em Python\n",
        "\n",
        "## 🔹 Aquecimento\n",
        "\n",
        "**1. Soma dos elementos de listas aninhadas**\n",
        "Crie um código para imprimir a soma dos elementos de cada uma das listas contidas em:\n",
        "\n",
        "```python\n",
        "lista_de_listas = [[4,6,5,9], [1,0,7,2], [3,4,1,8]]\n",
        "```\n",
        "\n",
        "---\n",
        "\n",
        "**2. Terceiro elemento de tuplas**\n",
        "Crie um código para gerar uma lista que armazena o terceiro elemento de cada tupla em:\n",
        "\n",
        "```python\n",
        "lista_de_tuplas = [('Pedro', 1.74, 81), ('Júlia', 1.65, 67), ('Otávio', 1.81, 83)]\n",
        "```\n",
        "\n",
        "---\n",
        "\n",
        "**3. Índice e nome em tuplas**\n",
        "Dada a lista:\n",
        "\n",
        "```python\n",
        "lista = ['Pedro', 'Júlia', 'Otávio', 'Eduardo']\n",
        "```\n",
        "\n",
        "Crie uma lista de tuplas em que cada tupla tenha:\n",
        "\n",
        "* O primeiro elemento = posição do nome na lista\n",
        "* O segundo elemento = o próprio nome.\n",
        "\n",
        "---\n",
        "\n",
        "**4. Filtrar valores de aluguel**\n",
        "A partir da lista:\n",
        "\n",
        "```python\n",
        "aluguel = [('Apartamento', 1700), ('Apartamento', 1400), ('Casa', 2150), ('Apartamento', 1900), ('Casa', 1100)]\n",
        "```\n",
        "\n",
        "Crie uma lista usando **list comprehension** que armazena somente o valor numérico das tuplas em que o primeiro elemento seja `'Apartamento'`.\n",
        "\n",
        "---\n",
        "\n",
        "**5. Dicionário de despesas por mês**\n",
        "Crie um dicionário usando **dict comprehension** a partir de:\n",
        "\n",
        "```python\n",
        "meses   = ['Jan', 'Fev', 'Mar', 'Abr', 'Mai', 'Jun', 'Jul', 'Ago', 'Set', 'Out', 'Nov', 'Dez']\n",
        "despesa = [860, 490, 1010, 780, 900, 630, 590, 770, 620, 560, 840, 360]\n",
        "```\n",
        "\n",
        "As chaves devem ser os meses e os valores as respectivas despesas.\n",
        "\n",
        "---\n",
        "\n",
        "## 🔹 Aplicando a projetos\n",
        "\n",
        "**6. Filtrar vendas de 2022 acima de 6000**\n",
        "A loja possui:\n",
        "\n",
        "```python\n",
        "vendas = [('2023', 4093), ('2021', 4320), ('2021', 5959), ('2022', 8883), ('2023', 9859), ('2022', 5141),\n",
        "          ('2022', 7688), ('2022', 9544), ('2023', 4794), ('2021', 7178), ('2022', 3030), ('2021', 7471),\n",
        "          ('2022', 4226), ('2022', 8190), ('2021', 9680), ('2022', 5616)]\n",
        "```\n",
        "\n",
        "Crie uma lista usando **list comprehension** que filtre os valores de 2022 com vendas maiores que 6000.\n",
        "\n",
        "---\n",
        "\n",
        "**7. Classificação de glicemia**\n",
        "Regras:\n",
        "\n",
        "* ≤ 70 → `'Hipoglicemia'`\n",
        "* 70–99 → `'Normal'`\n",
        "* 100–125 → `'Alterada'`\n",
        "* > 125 → `'Diabetes'`\n",
        "\n",
        "Dados:\n",
        "\n",
        "```python\n",
        "glicemia = [129, 82, 60, 97, 101, 65, 62, 167, 87, 53, 58, 92, 66, 120, 109, 62, 86, 96, 103, 88, 155, 52, 89, 73]\n",
        "```\n",
        "\n",
        "Crie uma lista de tuplas no formato `(rótulo, valor)` usando list comprehension.\n",
        "\n",
        "---\n",
        "\n",
        "**8. Estruturar dados de vendas do e-commerce**\n",
        "Dados:\n",
        "\n",
        "```python\n",
        "id          = [0, 1, 2, 3, 4, 5, 6, 7, 8, 9]\n",
        "quantidade  = [15, 12, 1, 15, 2, 11, 2, 12, 2, 4]\n",
        "preco       = [93.0, 102.0, 18.0, 41.0, 122.0, 14.0, 71.0, 48.0, 14.0, 144.0]\n",
        "```\n",
        "\n",
        "Monte uma lista de tuplas no formato de **tabela**, em que cada tupla contém:\n",
        "`(id, quantidade, preço, total)`\n",
        "A primeira tupla deve ser o cabeçalho:\n",
        "\n",
        "```python\n",
        "('id', 'quantidade', 'preco', 'total')\n",
        "```\n",
        "\n",
        "---\n",
        "\n",
        "**9. Contagem de filiais por Estado**\n",
        "Dada a lista:\n",
        "\n",
        "```python\n",
        "estados = ['SP', 'ES', 'MG', 'MG', 'SP', 'MG', 'ES', 'ES', 'ES', 'SP', 'SP', 'MG', 'ES', 'SP', 'RJ',\n",
        "           'MG', 'RJ', 'SP', 'MG', 'SP', 'ES', 'SP', 'MG']\n",
        "```\n",
        "\n",
        "Crie um dicionário usando **dict comprehension** em que:\n",
        "\n",
        "* A chave = sigla do Estado\n",
        "* O valor = quantidade de vezes que o Estado aparece na lista.\n",
        "\n",
        "---\n",
        "\n",
        "**10. Soma de funcionários por Estado**\n",
        "Dados:\n",
        "\n",
        "```python\n",
        "funcionarios = [('SP', 16), ('ES', 8), ('MG', 9), ('MG', 6), ('SP', 10), ('MG', 4),\n",
        "                ('ES',9), ('ES', 7), ('ES', 12), ('SP', 7), ('SP', 11), ('MG',8),\n",
        "                ('ES',8), ('SP',9), ('RJ', 13), ('MG', 5), ('RJ', 9), ('SP', 12),\n",
        "                ('MG', 10), ('SP', 7), ('ES', 14), ('SP', 10), ('MG', 12)]\n",
        "```\n",
        "\n",
        "* Crie um dicionário em que as chaves são os **Estados únicos** e os valores são **listas** com o número de colaboradores(as).\n",
        "* Depois crie outro dicionário em que os valores são a **soma de colaboradores(as)** por Estado.\n",
        "\n",
        "---"
      ],
      "metadata": {
        "id": "aT3LnstbuMC_"
      }
    },
    {
      "cell_type": "code",
      "source": [
        "lista_de_listas = [[4,6,5,9], [1,0,7,2], [3,4,1,8]]\n",
        "lista_soma = [sum(lista) for lista in lista_de_listas]\n",
        "print(lista_soma)"
      ],
      "metadata": {
        "colab": {
          "base_uri": "https://localhost:8080/"
        },
        "id": "53aJTAJ0uVwi",
        "outputId": "d8d5f48c-545b-4d86-d253-5948f2684a1b"
      },
      "execution_count": 1,
      "outputs": [
        {
          "output_type": "stream",
          "name": "stdout",
          "text": [
            "[24, 10, 16]\n"
          ]
        }
      ]
    },
    {
      "cell_type": "code",
      "source": [
        "lista_de_tuplas = [('Pedro', 1.74, 81), ('Júlia', 1.65, 67), ('Otávio', 1.81, 83)]\n",
        "lista_terceiro_elemento = [tupla[2] for tupla in lista_de_tuplas]\n",
        "print(lista_terceiro_elemento)"
      ],
      "metadata": {
        "colab": {
          "base_uri": "https://localhost:8080/"
        },
        "id": "xu_NEJbMu15D",
        "outputId": "0d297474-9c77-412a-8d2c-dbc916051a41"
      },
      "execution_count": 2,
      "outputs": [
        {
          "output_type": "stream",
          "name": "stdout",
          "text": [
            "[81, 67, 83]\n"
          ]
        }
      ]
    },
    {
      "cell_type": "code",
      "source": [
        "lista = ['Pedro', 'Júlia', 'Otávio', 'Eduardo']\n",
        "# lista.index(nome) encontra o índice de cada 'nome' na 'lista'\n",
        "lista_indice_nome = [(lista.index(nome), nome) for nome in lista]\n",
        "print(lista_indice_nome)"
      ],
      "metadata": {
        "colab": {
          "base_uri": "https://localhost:8080/"
        },
        "id": "yijw1k0SvP6z",
        "outputId": "a1b553c2-ee3a-4355-eef0-c671ee3c7817"
      },
      "execution_count": 7,
      "outputs": [
        {
          "output_type": "stream",
          "name": "stdout",
          "text": [
            "[(0, 'Pedro'), (1, 'Júlia'), (2, 'Otávio'), (3, 'Eduardo')]\n"
          ]
        }
      ]
    },
    {
      "cell_type": "code",
      "metadata": {
        "colab": {
          "base_uri": "https://localhost:8080/"
        },
        "id": "f2446928",
        "outputId": "3ba1d1da-af53-43d5-ff44-54392672ddd2"
      },
      "source": [
        "aluguel = [('Apartamento', 1700), ('Apartamento', 1400), ('Casa', 2150), ('Apartamento', 1900), ('Casa', 1100)]\n",
        "\n",
        "aluguel_apartamentos = [valor for tipo, valor in aluguel if tipo == 'Apartamento']\n",
        "\n",
        "print(aluguel_apartamentos)"
      ],
      "execution_count": 8,
      "outputs": [
        {
          "output_type": "stream",
          "name": "stdout",
          "text": [
            "[1700, 1400, 1900]\n"
          ]
        }
      ]
    },
    {
      "cell_type": "code",
      "source": [
        "meses = ['Jan', 'Fev', 'Mar', 'Abr', 'Mai', 'Jun', 'Jul', 'Ago', 'Set', 'Out', 'Nov', 'Dez']\n",
        "despesa = [860, 490, 1010, 780, 900, 630, 590, 770, 620, 560, 840, 360]\n",
        "\n",
        "meses_despesa = {meses: despesa for meses, despesa in zip(meses,despesa)}\n",
        "meses_despesa"
      ],
      "metadata": {
        "colab": {
          "base_uri": "https://localhost:8080/"
        },
        "id": "UZSq4iZxwXm4",
        "outputId": "ca9b5bcc-86a1-4f97-bae1-5df2049e0707"
      },
      "execution_count": 13,
      "outputs": [
        {
          "output_type": "execute_result",
          "data": {
            "text/plain": [
              "{'Jan': 860,\n",
              " 'Fev': 490,\n",
              " 'Mar': 1010,\n",
              " 'Abr': 780,\n",
              " 'Mai': 900,\n",
              " 'Jun': 630,\n",
              " 'Jul': 590,\n",
              " 'Ago': 770,\n",
              " 'Set': 620,\n",
              " 'Out': 560,\n",
              " 'Nov': 840,\n",
              " 'Dez': 360}"
            ]
          },
          "metadata": {},
          "execution_count": 13
        }
      ]
    },
    {
      "cell_type": "code",
      "source": [
        "vendas = [('2023', 4093), ('2021', 4320), ('2021', 5959), ('2022', 8883), ('2023', 9859), ('2022', 5141), ('2022', 7688), ('2022', 9544), ('2023', 4794), ('2021', 7178), ('2022', 3030), ('2021', 7471), ('2022', 4226), ('2022', 8190), ('2021', 9680), ('2022', 5616)]\n",
        "vendas_2022 = [valor for ano, valor in vendas if ano == '2022' and valor >= 6000]\n",
        "vendas_2022"
      ],
      "metadata": {
        "colab": {
          "base_uri": "https://localhost:8080/"
        },
        "id": "p7FrQBnCxLNf",
        "outputId": "5d5e4be4-e8bd-475d-dc65-91036dbe0832"
      },
      "execution_count": 19,
      "outputs": [
        {
          "output_type": "execute_result",
          "data": {
            "text/plain": [
              "[8883, 7688, 9544, 8190]"
            ]
          },
          "metadata": {},
          "execution_count": 19
        }
      ]
    },
    {
      "cell_type": "code",
      "source": [
        "glicemia = [129, 82, 60, 97, 101, 65, 62, 167, 87, 53, 58, 92, 66, 120, 109,\n",
        "            62, 86, 96, 103, 88, 155, 52, 89, 73]\n",
        "\n",
        "def classificar_glicose(valor):\n",
        "    if valor <= 70:\n",
        "        return \"Hipoglicemia\"\n",
        "    elif valor < 100:\n",
        "        return \"Normal\"\n",
        "    elif valor < 126:\n",
        "        return \"Alterada\"\n",
        "    else:\n",
        "        return \"Diabetes\"\n",
        "\n",
        "rotulos = list(map(lambda x: (classificar_glicose(x), x), glicemia))\n",
        "rotulos"
      ],
      "metadata": {
        "colab": {
          "base_uri": "https://localhost:8080/"
        },
        "id": "wnQkRZ62yITb",
        "outputId": "85662df7-c311-4036-afcc-987b341189b1"
      },
      "execution_count": 25,
      "outputs": [
        {
          "output_type": "execute_result",
          "data": {
            "text/plain": [
              "[('Diabetes', 129),\n",
              " ('Normal', 82),\n",
              " ('Hipoglicemia', 60),\n",
              " ('Normal', 97),\n",
              " ('Alterada', 101),\n",
              " ('Hipoglicemia', 65),\n",
              " ('Hipoglicemia', 62),\n",
              " ('Diabetes', 167),\n",
              " ('Normal', 87),\n",
              " ('Hipoglicemia', 53),\n",
              " ('Hipoglicemia', 58),\n",
              " ('Normal', 92),\n",
              " ('Hipoglicemia', 66),\n",
              " ('Alterada', 120),\n",
              " ('Alterada', 109),\n",
              " ('Hipoglicemia', 62),\n",
              " ('Normal', 86),\n",
              " ('Normal', 96),\n",
              " ('Alterada', 103),\n",
              " ('Normal', 88),\n",
              " ('Diabetes', 155),\n",
              " ('Hipoglicemia', 52),\n",
              " ('Normal', 89),\n",
              " ('Normal', 73)]"
            ]
          },
          "metadata": {},
          "execution_count": 25
        }
      ]
    },
    {
      "cell_type": "code",
      "source": [
        "id = [0, 1, 2, 3, 4, 5, 6, 7, 8, 9]\n",
        "quantidade = [15, 12, 1, 15, 2, 11, 2, 12, 2, 4]\n",
        "preco = [93.0, 102.0, 18.0, 41.0, 122.0, 14.0, 71.0, 48.0, 14.0, 144.0]\n",
        "\n",
        "preco_total = [quantidade * preco for quantidade, preco in zip(quantidade, preco)]\n",
        "tabela = [('id', 'quantidade', 'preco', 'total')] + list(zip(id, quantidade, preco, preco_total))\n",
        "tabela"
      ],
      "metadata": {
        "colab": {
          "base_uri": "https://localhost:8080/"
        },
        "id": "V37Y59Ia0XDQ",
        "outputId": "506a1da3-4ced-4a77-818a-d584a43eb783"
      },
      "execution_count": 26,
      "outputs": [
        {
          "output_type": "execute_result",
          "data": {
            "text/plain": [
              "[('id', 'quantidade', 'preco', 'total'),\n",
              " (0, 15, 93.0, 1395.0),\n",
              " (1, 12, 102.0, 1224.0),\n",
              " (2, 1, 18.0, 18.0),\n",
              " (3, 15, 41.0, 615.0),\n",
              " (4, 2, 122.0, 244.0),\n",
              " (5, 11, 14.0, 154.0),\n",
              " (6, 2, 71.0, 142.0),\n",
              " (7, 12, 48.0, 576.0),\n",
              " (8, 2, 14.0, 28.0),\n",
              " (9, 4, 144.0, 576.0)]"
            ]
          },
          "metadata": {},
          "execution_count": 26
        }
      ]
    },
    {
      "cell_type": "code",
      "source": [
        "estados = ['SP', 'ES', 'MG', 'MG', 'SP', 'MG', 'ES', 'ES', 'ES', 'SP', 'SP', 'MG', 'ES', 'SP', 'RJ', 'MG', 'RJ', 'SP', 'MG', 'SP', 'ES', 'SP', 'MG']\n",
        "\n",
        "contagem_estados = {estado: estados.count(estado) for estado in set(estados)}\n",
        "contagem_estados"
      ],
      "metadata": {
        "colab": {
          "base_uri": "https://localhost:8080/"
        },
        "id": "mZWF7meJ01Zc",
        "outputId": "11aa7a12-7f78-4bf2-bc1b-564b228abbeb"
      },
      "execution_count": 30,
      "outputs": [
        {
          "output_type": "execute_result",
          "data": {
            "text/plain": [
              "{'MG': 7, 'RJ': 2, 'SP': 8, 'ES': 6}"
            ]
          },
          "metadata": {},
          "execution_count": 30
        }
      ]
    },
    {
      "cell_type": "code",
      "source": [
        "# Lista de tuplas: (Estado, quantidade de colaboradores)\n",
        "funcionarios = [\n",
        "    ('SP', 16), ('ES', 8), ('MG', 9), ('MG', 6), ('SP', 10), ('MG', 4),\n",
        "    ('ES', 9), ('ES', 7), ('ES', 12), ('SP', 7), ('SP', 11), ('MG', 8),\n",
        "    ('ES', 8), ('SP', 9), ('RJ', 13), ('MG', 5), ('RJ', 9), ('SP', 12),\n",
        "    ('MG', 10), ('SP', 7), ('ES', 14), ('SP', 10), ('MG', 12)\n",
        "]\n",
        "\n",
        "# Usamos um set para extrair apenas os estados únicos da lista\n",
        "estados_unicos = set(estado for estado, _ in funcionarios)\n",
        "\n",
        "# Criamos um dicionário em que cada chave é um estado\n",
        "# e o valor é uma lista com as quantidades de colaboradores desse estado\n",
        "funcionarios_por_estado = {\n",
        "    estado: [qtd for est, qtd in funcionarios if est == estado]\n",
        "    for estado in estados_unicos\n",
        "}\n",
        "\n",
        "print(funcionarios_por_estado)\n"
      ],
      "metadata": {
        "colab": {
          "base_uri": "https://localhost:8080/"
        },
        "id": "FEQkf3zN1AQD",
        "outputId": "d364dbdb-e7d5-4c3c-b415-c97784c0797d"
      },
      "execution_count": 32,
      "outputs": [
        {
          "output_type": "execute_result",
          "data": {
            "text/plain": [
              "{'MG': [9, 6, 4, 8, 5, 10, 12],\n",
              " 'RJ': [13, 9],\n",
              " 'SP': [16, 10, 7, 11, 9, 12, 7, 10],\n",
              " 'ES': [8, 9, 7, 12, 8, 14]}"
            ]
          },
          "metadata": {},
          "execution_count": 32
        }
      ]
    }
  ]
}