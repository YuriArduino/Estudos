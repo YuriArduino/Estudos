{
  "nbformat": 4,
  "nbformat_minor": 0,
  "metadata": {
    "colab": {
      "provenance": [],
      "authorship_tag": "ABX9TyO8yQM1S+4vpoBKMcljYSzx"
    },
    "kernelspec": {
      "name": "python3",
      "display_name": "Python 3"
    },
    "language_info": {
      "name": "python"
    }
  },
  "cells": [
    {
      "cell_type": "markdown",
      "source": [
        "Claro, Yuri! Reformatei a lista para deixá-la **mais limpa e organizada**, separando os exercícios em blocos com títulos, listas e destaque de trechos de código. Veja:\n",
        "\n",
        "---\n",
        "\n",
        "# 📘 Lista de Exercícios – Prática em Python\n",
        "\n",
        "## 🔥 Aquecimento\n",
        "\n",
        "**1. Trabalhando com listas**\n",
        "Escreva um código que lê a lista abaixo e faça:\n",
        "\n",
        "```python\n",
        "lista = [16, 14, 63, 65, 17, 99, 70, 11, 20, 48, 79, 32, 17, 89, 12, 25, 66]\n",
        "```\n",
        "\n",
        "* Ler o tamanho da lista\n",
        "* Ler o maior e menor valor\n",
        "* Calcular a soma dos valores da lista\n",
        "\n",
        "Mensagem final:\n",
        "\n",
        "```\n",
        "\"A lista possui [tam] números em que o maior número é [maior] e o menor número é [menor].\n",
        "A soma dos valores presentes nela é igual a [soma]\"\n",
        "```\n",
        "\n",
        "> 💡 Dica: use as funções embutidas do Python (`len`, `max`, `min`, `sum`).\n",
        "\n",
        "---\n",
        "\n",
        "**2. Tabuada**\n",
        "Escreva uma função que gere a tabuada de um número inteiro de 1 a 10.\n",
        "Exemplo para o número **7**:\n",
        "\n",
        "```\n",
        "Tabuada do 7:\n",
        "7 x 0 = 0\n",
        "7 x 1 = 7\n",
        "...\n",
        "7 x 10 = 70\n",
        "```\n",
        "\n",
        "---\n",
        "\n",
        "**3. Múltiplos de 3**\n",
        "Crie uma função que leia a lista abaixo e retorne uma nova lista apenas com os múltiplos de **3**:\n",
        "\n",
        "```python\n",
        "[97, 80, 94, 88, 80, 1, 16, 53, 62, 32, 24, 99]\n",
        "```\n",
        "\n",
        "* Utilize `return` na função\n",
        "* Salve o resultado em `mult_3`.\n",
        "\n",
        "---\n",
        "\n",
        "**4. Quadrados de uma lista**\n",
        "Crie uma lista com os quadrados dos números:\n",
        "\n",
        "```python\n",
        "[1, 2, 3, 4, 5, 6, 7, 8, 9, 10]\n",
        "```\n",
        "\n",
        "* Utilize **lambda** e **map()** para calcular.\n",
        "\n",
        "---\n",
        "\n",
        "## 🛠 Aplicando a Projetos\n",
        "\n",
        "**5. Notas de skatistas**\n",
        "Receba **5 notas** digitadas por jurados.\n",
        "\n",
        "* Elimine a **maior** e a **menor** nota\n",
        "* Calcule a **média das 3 restantes**\n",
        "  Mensagem final:\n",
        "\n",
        "```\n",
        "\"Nota da manobra: [media]\"\n",
        "```\n",
        "\n",
        "---\n",
        "\n",
        "**6. Desempenho de estudantes**\n",
        "Crie uma função que receba uma lista de **4 notas** e retorne:\n",
        "\n",
        "* Maior nota\n",
        "* Menor nota\n",
        "* Média\n",
        "* Situação (**Aprovado(a)** ou **Reprovado(a)**)\n",
        "\n",
        "Mensagem final:\n",
        "\n",
        "```\n",
        "\"O(a) estudante obteve uma média de [media], com a sua maior nota de [maior] pontos\n",
        "e a menor nota de [menor] pontos e foi [situacao]\"\n",
        "```\n",
        "\n",
        "---\n",
        "\n",
        "**7. Nomes completos**\n",
        "Dadas as listas:\n",
        "\n",
        "```python\n",
        "nomes = [\"joão\", \"MaRia\", \"JOSÉ\"]\n",
        "sobrenomes = [\"SILVA\", \"souza\", \"Tavares\"]\n",
        "```\n",
        "\n",
        "Exiba no formato:\n",
        "\n",
        "```\n",
        "\"Nome completo: Ana Silva\"\n",
        "```\n",
        "\n",
        "> 💡 Dica: use `map()` e funções de string (`capitalize`, `title`, etc.).\n",
        "\n",
        "---\n",
        "\n",
        "**8. Pontuação de time de futebol**\n",
        "Crie uma função `calcula_pontos` que receba duas listas:\n",
        "\n",
        "```python\n",
        "gols_marcados = [2, 1, 3, 1, 0]\n",
        "gols_sofridos = [1, 2, 2, 1, 3]\n",
        "```\n",
        "\n",
        "* Vitória = 3 pontos\n",
        "* Empate = 1 ponto\n",
        "* Derrota = 0 pontos\n",
        "\n",
        "Mensagem final:\n",
        "\n",
        "```\n",
        "\"A pontuação do time foi de [pontos] e seu aproveitamento foi de [aprov]%\"\n",
        "```\n",
        "\n",
        "---\n",
        "\n",
        "**9. Gastos de viagem**\n",
        "Cidades: **Salvador, Fortaleza, Natal, Aracaju**\n",
        "\n",
        "* Hotel = R\\$150/dia\n",
        "* Gasolina = R\\$5/litro, consumo = 14 km/l\n",
        "* Passeios/alimentação = \\[200, 400, 250, 300] por dia\n",
        "* Distâncias Recife → cidades = \\[850, 800, 300, 550] km\n",
        "\n",
        "Crie 3 funções:\n",
        "\n",
        "* `gasto_hotel(dias)`\n",
        "* `gasto_gasolina(cidade)`\n",
        "* `gasto_passeio(cidade, dias)`\n",
        "\n",
        "Exemplo (3 dias em Salvador, ida e volta):\n",
        "\n",
        "```\n",
        "\"Com base nos gastos definidos, uma viagem de [dias] dias para [cidade] saindo de Recife custaria [gastos] reais\"\n",
        "```\n",
        "\n",
        "---\n",
        "\n",
        "**10. Filtrando palavras longas**\n",
        "Receba uma frase digitada pela pessoa usuária e filtre apenas palavras com **5 ou mais letras**.\n",
        "\n",
        "* Use **lambda** + **filter()**\n",
        "* Trate a frase substituindo `, . ! ?` por espaço\n",
        "\n",
        "Teste com:\n",
        "\n",
        "```python\n",
        "\"Aprender Python aqui na Alura é muito bom\"\n",
        "```\n"
      ],
      "metadata": {
        "id": "pVNsCVsT-1Lu"
      }
    },
    {
      "cell_type": "code",
      "source": [
        "lista = [16, 14, 63, 65, 17, 99, 70, 11, 20, 48, 79, 32, 17, 89, 12, 25, 66]"
      ],
      "metadata": {
        "id": "4vheQBn3_hyP"
      },
      "execution_count": null,
      "outputs": []
    },
    {
      "cell_type": "code",
      "source": [
        "tam = len(lista)\n",
        "maior = max(lista)\n",
        "menor = min(lista)\n",
        "soma = sum(lista)\n",
        "\n",
        "print(f\"A lista possui {tam} números em que o maior número é {maior} e o menor número é {menor}.\\nA soma dos valores presentes nela é igual a {soma}\")"
      ],
      "metadata": {
        "colab": {
          "base_uri": "https://localhost:8080/"
        },
        "id": "YRfRFh1j_n4S",
        "outputId": "9f9f508a-bd4c-40dd-cb4b-e1bd0ff50def"
      },
      "execution_count": null,
      "outputs": [
        {
          "output_type": "stream",
          "name": "stdout",
          "text": [
            "A lista possui 17 números em que o maior número é 99 e o menor número é 11.\n",
            "A soma dos valores presentes nela é igual a 743\n"
          ]
        }
      ]
    },
    {
      "cell_type": "code",
      "source": [
        "num = int(input('Insira um numero para visualizar a tabuada: '))\n",
        "\n",
        "def tabuada(numero: int):\n",
        "  print(f'Tabuada do {numero}:')\n",
        "  for i in range(11):\n",
        "    resultado = numero * i\n",
        "    print(f'{numero} x {i} = {resultado}')\n",
        "\n",
        "tabuada(num)"
      ],
      "metadata": {
        "colab": {
          "base_uri": "https://localhost:8080/"
        },
        "id": "C_HP927OAC4p",
        "outputId": "4a6a8a68-39ac-4f47-ceb8-2fdbb5ebc6b2"
      },
      "execution_count": null,
      "outputs": [
        {
          "output_type": "stream",
          "name": "stdout",
          "text": [
            "Insira um numero para visualizar a tabuada: 8\n",
            "Tabuada do 8:\n",
            "8 x 0 = 0\n",
            "8 x 1 = 8\n",
            "8 x 2 = 16\n",
            "8 x 3 = 24\n",
            "8 x 4 = 32\n",
            "8 x 5 = 40\n",
            "8 x 6 = 48\n",
            "8 x 7 = 56\n",
            "8 x 8 = 64\n",
            "8 x 9 = 72\n",
            "8 x 10 = 80\n"
          ]
        }
      ]
    },
    {
      "cell_type": "code",
      "source": [
        "lista = [97, 80, 94, 88, 80, 1, 16, 53, 62, 32, 24, 99]\n",
        "\n",
        "def mult_3(lista: list):\n",
        "  # filter() com uma função lambda para criar uma nova lista apenas com os múltiplos de 3. (Somente para True)\n",
        "  mult_3 = list(filter(lambda x: (x % 3 == 0), lista))\n",
        "  return mult_3\n",
        "\n",
        "mult_3(lista)"
      ],
      "metadata": {
        "colab": {
          "base_uri": "https://localhost:8080/"
        },
        "id": "h44WNxBJBsmu",
        "outputId": "f080f263-cab5-4a40-a7f9-18b95967404d"
      },
      "execution_count": null,
      "outputs": [
        {
          "output_type": "execute_result",
          "data": {
            "text/plain": [
              "[24, 99]"
            ]
          },
          "metadata": {},
          "execution_count": 22
        }
      ]
    },
    {
      "cell_type": "code",
      "source": [
        "lista = [1, 2, 3, 4, 5, 6, 7, 8, 9, 10]\n",
        "\n",
        "def quadrados_lista(lista: list):\n",
        "  quadrados = list(map(lambda x: x**2, lista))\n",
        "  return quadrados\n",
        "\n",
        "quadrados_lista(lista)"
      ],
      "metadata": {
        "colab": {
          "base_uri": "https://localhost:8080/"
        },
        "id": "_vKTyob6Co79",
        "outputId": "13f1bc84-8b82-48c8-9299-96e0815da2b9"
      },
      "execution_count": null,
      "outputs": [
        {
          "output_type": "execute_result",
          "data": {
            "text/plain": [
              "[1, 4, 9, 16, 25, 36, 49, 64, 81, 100]"
            ]
          },
          "metadata": {},
          "execution_count": 18
        }
      ]
    },
    {
      "cell_type": "code",
      "source": [
        "def get_score(mensagem):\n",
        "  while True:\n",
        "    try:\n",
        "      score = float(input(mensagem))\n",
        "      return score\n",
        "    except ValueError:\n",
        "      print(\"Entrada inválida. Por favor, insira um número.\")\n",
        "\n",
        "print('Informe as notas dos jurados:')\n",
        "\n",
        "scores = []\n",
        "for i in range(5):\n",
        "    nota = get_score(f\"\\nInforme a pontuação da {i+1}ª nota: \")\n",
        "    scores.append(nota)\n",
        "\n",
        "# remove maior e menor\n",
        "scores.remove(max(scores))\n",
        "scores.remove(min(scores))\n",
        "\n",
        "# agora a lista tem só 3 valores\n",
        "media = sum(scores) / len(scores)\n",
        "\n",
        "print(f\"Nota da manobra: {media:.2f}\")"
      ],
      "metadata": {
        "colab": {
          "base_uri": "https://localhost:8080/"
        },
        "id": "n0wozx83y_S5",
        "outputId": "fb529844-c2fa-455f-f91a-132ccb1351e1"
      },
      "execution_count": 14,
      "outputs": [
        {
          "output_type": "stream",
          "name": "stdout",
          "text": [
            "Informe as notas dos jurados:\n",
            "\n",
            "Informe a pontuação da 1ª nota: 7.5\n",
            "\n",
            "Informe a pontuação da 2ª nota: 8\n",
            "\n",
            "Informe a pontuação da 3ª nota: 9\n",
            "\n",
            "Informe a pontuação da 4ª nota: 10\n",
            "\n",
            "Informe a pontuação da 5ª nota: 8.4\n",
            "Nota da manobra: 8.47\n"
          ]
        }
      ]
    },
    {
      "cell_type": "code",
      "source": [
        "def obter_nota(mensagem):\n",
        "  while True:\n",
        "    try:\n",
        "      score = float(input(mensagem))\n",
        "      return score\n",
        "    except ValueError:\n",
        "      print(\"Entrada inválida. Por favor, insira um número.\")\n",
        "\n",
        "print('Informe as notas dos estudantes')\n",
        "\n",
        "notas = []\n",
        "for i in range(4):\n",
        "    nota = obter_nota(f\"\\nInforme a pontuação da {i+1}ª nota: \")\n",
        "    notas.append(nota)\n",
        "\n",
        "def cadastro(lista):\n",
        "  maior = max(notas)\n",
        "  menor = min(notas)\n",
        "  media = sum(notas) / len(notas)\n",
        "  situacao = 'Aprovado(a)' if media >= 6 else 'Reprovado(a)'\n",
        "\n",
        "  return (media, maior, menor, situacao)\n",
        "\n",
        "media, maior, menor, situacao = cadastro(notas)\n",
        "\n",
        "print(f\"O(a) estudante obteve uma média de {media:.2f}, com a sua maior nota de {maior} pontos e a menor nota de {menor} pontos e foi {situacao}\")"
      ],
      "metadata": {
        "colab": {
          "base_uri": "https://localhost:8080/"
        },
        "id": "7StHirbyDf3-",
        "outputId": "a5a0c1ee-21e8-44fe-d1c4-9760c2fde6ee"
      },
      "execution_count": 20,
      "outputs": [
        {
          "output_type": "stream",
          "name": "stdout",
          "text": [
            "Informe as notas dos estudantes\n",
            "\n",
            "Informe a pontuação da 1ª nota: 10\n",
            "\n",
            "Informe a pontuação da 2ª nota: 5\n",
            "\n",
            "Informe a pontuação da 3ª nota: 8\n",
            "\n",
            "Informe a pontuação da 4ª nota: 9\n",
            "O(a) estudante obteve uma média de 8.00, com a sua maior nota de 10.0 pontos e a menor nota de 5.0 pontos e foi Aprovado(a)\n"
          ]
        }
      ]
    },
    {
      "cell_type": "code",
      "source": [
        "nomes = [\"joão\", \"MaRia\", \"JOSÉ\"]\n",
        "sobrenomes = [\"SILVA\", \"souza\", \"Tavares\"]\n",
        "\n",
        "# capitalize() retorna uma cópia da string com o primeiro caractere maiúsculo\n",
        "# e o restante minúsculo.\n",
        "# Outra possibilidade é o title () - Deixa a primeira letra de cada palavra em maiúsculo.\n",
        "\n",
        "nomes = list(map(lambda x: x.capitalize(), nomes))\n",
        "sobrenomes = list(map(lambda x: x.capitalize(), sobrenomes))\n",
        "\n",
        "def nome_completo(nome, sobrenome):\n",
        "  return f\"{nome} {sobrenome}\"\n",
        "\n",
        "nome_completo = list(map(nome_completo, nomes, sobrenomes))\n",
        "for n in nome_completo:\n",
        "  print(f'Nome completo: {n}')"
      ],
      "metadata": {
        "colab": {
          "base_uri": "https://localhost:8080/"
        },
        "id": "K7Ez9zPlSJVW",
        "outputId": "b17e8475-2901-4d44-98e8-7b175839d6d6"
      },
      "execution_count": 31,
      "outputs": [
        {
          "output_type": "stream",
          "name": "stdout",
          "text": [
            "Nome completo: João Silva\n",
            "Nome completo: Maria Souza\n",
            "Nome completo: José Tavares\n"
          ]
        }
      ]
    },
    {
      "cell_type": "code",
      "source": [
        "gols_marcados = [2, 1, 3, 1, 0]\n",
        "gols_sofridos = [1, 2, 2, 1, 3]\n",
        "\n",
        "def calcula_pontos(gols_marcados, gols_sofridos):\n",
        "  pontos = 0\n",
        "  for i in range(len(gols_marcados)):\n",
        "    if gols_marcados[i] > gols_sofridos[i]:\n",
        "      pontos += 3\n",
        "    elif gols_marcados[i] == gols_sofridos[i]:\n",
        "      pontos += 1\n",
        "\n",
        "  aprov = (pontos / (len(gols_marcados) * 3)) * 100\n",
        "  return (pontos, aprov)\n",
        "\n",
        "pontos, aprov = calcula_pontos(gols_marcados, gols_sofridos)\n",
        "\n",
        "print(f\"A pontuação do time foi de {pontos} e seu aproveitamento foi de {aprov:.2f}%\")"
      ],
      "metadata": {
        "colab": {
          "base_uri": "https://localhost:8080/"
        },
        "id": "xvXXx7sTXTP6",
        "outputId": "402d059b-ac98-483c-d561-9ec2a9bfff56"
      },
      "execution_count": 33,
      "outputs": [
        {
          "output_type": "stream",
          "name": "stdout",
          "text": [
            "A pontuação do time foi de 7 e seu aproveitamento foi de 46.67%\n"
          ]
        }
      ]
    },
    {
      "cell_type": "code",
      "source": [
        "def get_valid_integer_input(prompt):\n",
        "    while True:\n",
        "        try:\n",
        "            value = int(input(prompt))\n",
        "            return value\n",
        "        except ValueError:\n",
        "            print(\"Entrada inválida. Por favor, insira um número inteiro.\")\n",
        "\n",
        "def get_valid_city_input(prompt, valid_cities):\n",
        "    while True:\n",
        "        city = input(prompt).capitalize()\n",
        "        if city in valid_cities:\n",
        "            return city\n",
        "        else:\n",
        "            print(f\"Cidade inválida. Por favor, insira uma das cidades listadas: {', '.join(valid_cities)}\")\n",
        "\n",
        "# Usando dicionários para armazenar distâncias e gastos de passeio por cidade\n",
        "distancias = {\n",
        "    \"Salvador\": 850,\n",
        "    \"Fortaleza\": 800,\n",
        "    \"Natal\": 300,\n",
        "    \"Aracaju\": 550\n",
        "}\n",
        "\n",
        "passeio = {\n",
        "    \"Salvador\": 200,\n",
        "    \"Fortaleza\": 400,\n",
        "    \"Natal\": 250,\n",
        "    \"Aracaju\": 300\n",
        "}\n",
        "\n",
        "km_l = 14\n",
        "gasolina = 5\n",
        "\n",
        "def gasto_hotel(dias):\n",
        "    return 150 * dias\n",
        "\n",
        "def gasto_gasolina(cidade):\n",
        "    distancia_ida_volta = 2 * distancias.get(cidade, 0)\n",
        "    return (distancia_ida_volta * gasolina) / km_l\n",
        "\n",
        "def gasto_passeio(cidade, dias):\n",
        "    gasto_diario = passeio.get(cidade, 0)\n",
        "    return gasto_diario * dias\n",
        "\n",
        "dias = get_valid_integer_input(\"Quantas diárias? \")\n",
        "cidade = get_valid_city_input(\"Qual a cidade? [Salvador, Fortaleza, Natal ou Aracaju]: \", list(distancias.keys()))\n",
        "\n",
        "gastos = gasto_hotel(dias) + gasto_gasolina(cidade) + gasto_passeio(cidade, dias)\n",
        "print(f\"Com base nos gastos definidos, uma viagem de {dias} dias para {cidade} saindo de Recife custaria R${round(gastos, 2)} reais\")"
      ],
      "metadata": {
        "colab": {
          "base_uri": "https://localhost:8080/"
        },
        "id": "VTgPuKhDY7LT",
        "outputId": "3e964eb7-6283-45ec-eeb8-c286dad5512f"
      },
      "execution_count": 40,
      "outputs": [
        {
          "output_type": "stream",
          "name": "stdout",
          "text": [
            "Quantas diárias? X\n",
            "Entrada inválida. Por favor, insira um número inteiro.\n",
            "Quantas diárias? 28\n",
            "Qual a cidade? [Salvador, Fortaleza, Natal ou Aracaju]: Texas\n",
            "Cidade inválida. Por favor, insira uma das cidades listadas: Salvador, Fortaleza, Natal, Aracaju\n",
            "Qual a cidade? [Salvador, Fortaleza, Natal ou Aracaju]: Salvador\n",
            "Com base nos gastos definidos, uma viagem de 28 dias para Salvador saindo de Recife custaria R$10407.14 reais\n"
          ]
        }
      ]
    },
    {
      "cell_type": "markdown",
      "source": [
        "**Versão do instrutor:**"
      ],
      "metadata": {
        "id": "44zu0-XbbbeL"
      }
    },
    {
      "cell_type": "code",
      "source": [
        "dias = int(input(\"Quantas diárias? \"))\n",
        "cidade = input(\"Qual a cidade? [Salvador, Fortaleza, Natal ou Aracaju]: \")\n",
        "distancias = [850, 800, 300, 550]\n",
        "passeio = [200, 400, 250, 300]\n",
        "km_l = 14\n",
        "gasolina = 5\n",
        "\n",
        "def gasto_hotel(dias):\n",
        "    return 150 * dias\n",
        "\n",
        "def gasto_gasolina(cidade):\n",
        "    if cidade == \"Salvador\":\n",
        "        return (2 * distancias[0] * gasolina) / km_l\n",
        "    elif cidade == \"Fortaleza\":\n",
        "        return (2 * distancias[1] * gasolina) / km_l\n",
        "    elif cidade == \"Natal\":\n",
        "        return (2 * distancias[2] * gasolina) / km_l\n",
        "    elif cidade == \"Aracaju\":\n",
        "        return (2 * distancias[3] * gasolina) / km_l\n",
        "\n",
        "def gasto_passeio(cidade, dias):\n",
        "    if cidade==\"Salvador\":\n",
        "        return passeio[0] * dias\n",
        "    elif cidade==\"Fortaleza\":\n",
        "        return passeio[1] * dias\n",
        "    elif cidade==\"Natal\":\n",
        "        return passeio[2] * dias\n",
        "    elif cidade==\"Aracaju\":\n",
        "        return passeio[3] * dias\n",
        "\n",
        "gastos = gasto_hotel(dias) + gasto_gasolina(cidade) + gasto_passeio(cidade, dias)\n",
        "print(f\"Com base nos gastos definidos, uma viagem de {dias} dias para {cidade} saindo de Recife custaria {round(gastos, 2)} reais\")"
      ],
      "metadata": {
        "colab": {
          "base_uri": "https://localhost:8080/"
        },
        "id": "KIsiK22JbZcB",
        "outputId": "e5c43439-5fb4-4d0f-9448-dcae45066a88"
      },
      "execution_count": 48,
      "outputs": [
        {
          "output_type": "stream",
          "name": "stdout",
          "text": [
            "Quantas diárias? 28\n",
            "Qual a cidade? [Salvador, Fortaleza, Natal ou Aracaju]: Salvador\n",
            "Com base nos gastos definidos, uma viagem de 28 dias para Salvador saindo de Recife custaria 10407.14 reais\n"
          ]
        }
      ]
    },
    {
      "cell_type": "code",
      "source": [
        "# O módulo 'string' fornece uma coleção de constantes de string,\n",
        "# incluindo caracteres de pontuação.\n",
        "\n",
        "import string\n",
        "\n",
        "\n",
        "frase = input(\"Digite uma frase: \")\n",
        "\n",
        "# join() concatena os elementos de um iterável (como uma lista de caracteres)\n",
        "# em uma única string, usando a string na qual join() é chamado como separador.\n",
        "\n",
        "# Usei uma string vazia '' como separador, juntando os caracteres sem\n",
        "# pontuação.\n",
        "frase_sem_pontuacao = ''.join(char for char in frase if char not in string.punctuation)\n",
        "\n",
        "palavras_longas = list(filter(lambda palavra: len(palavra) >= 5, frase_sem_pontuacao.split()))\n",
        "\n",
        "print(palavras_longas)"
      ],
      "metadata": {
        "colab": {
          "base_uri": "https://localhost:8080/"
        },
        "id": "4hOtPmAaZzcF",
        "outputId": "3e50487b-7e03-4675-d1de-2b97a33bd2e2"
      },
      "execution_count": 46,
      "outputs": [
        {
          "output_type": "stream",
          "name": "stdout",
          "text": [
            "Digite uma frase: \"Aprender Python aqui na Alura é muito bom\"\n",
            "['Aprender', 'Python', 'Alura', 'muito']\n"
          ]
        }
      ]
    },
    {
      "cell_type": "markdown",
      "source": [
        "**Versão do instrutor:**"
      ],
      "metadata": {
        "id": "gWWclgtmbLTa"
      }
    },
    {
      "cell_type": "code",
      "source": [
        "# Requisitando uma frase e separando-a pelos espaços. Usando replace para trocar\n",
        "# pontuações por espaço.\n",
        "frase = input(\"Digite uma frase: \")\n",
        "frase = frase.replace(',',' ').replace('.',' ').replace('!',' ').replace('?',' ').split()\n",
        "\n",
        "# Filtrando a frase no formato de lista, passando para a lista tamanho\n",
        "# apenas as palavras com 5 ou mais caracteres e imprimindo-a na tela\n",
        "tamanho = list(filter(lambda x: len(x) >= 5, frase))\n",
        "print(tamanho)"
      ],
      "metadata": {
        "colab": {
          "base_uri": "https://localhost:8080/"
        },
        "id": "APql5hm3bQN8",
        "outputId": "b38d4987-56dc-4e9d-8001-40d7a50a62d7"
      },
      "execution_count": 47,
      "outputs": [
        {
          "output_type": "stream",
          "name": "stdout",
          "text": [
            "Digite uma frase: \"Aprender Python aqui na Alura é muito bom\"\n",
            "['\"Aprender', 'Python', 'Alura', 'muito']\n"
          ]
        }
      ]
    }
  ]
}