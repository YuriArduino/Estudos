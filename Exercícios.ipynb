{
  "nbformat": 4,
  "nbformat_minor": 0,
  "metadata": {
    "colab": {
      "provenance": [],
      "authorship_tag": "ABX9TyPqRygVYlRYk7QzNEKvwazw"
    },
    "kernelspec": {
      "name": "python3",
      "display_name": "Python 3"
    },
    "language_info": {
      "name": "python"
    }
  },
  "cells": [
    {
      "cell_type": "markdown",
      "metadata": {
        "id": "4b600b27"
      },
      "source": [
        "## Aquecendo na programação\n",
        "\n",
        "1. Escreva um programa que peça dois números inteiros e imprima todos os números inteiros entre eles.\n",
        "\n",
        "2. Escreva um programa para calcular quantos dias levará para a colônia de uma bactéria A ultrapassar ou igualar a colônia de uma bactéria B, com base nas taxas de crescimento de 3% e 1,5% respectivamente. Considere que a colônia A inicia com 4 elementos e a B com 10.\n",
        "\n",
        "3. Para tratar uma quantidade de 15 dados de avaliações de pessoas usuárias de um serviço da empresa, precisamos verificar se as notas são válidas. Então, escreva um programa que vai receber a nota de 0 a 5 de todos os dados e verificar se é um valor válido. Caso seja inserido uma nota acima de 5 ou abaixo de 0, repita até que a pessoa usuária insira um valor válido.\n",
        "\n",
        "4. Desenvolva um programa que leia um conjunto indeterminado de temperaturas em Celsius e informe a média delas. A leitura deve ser encerrada ao ser enviado o valor -273°C.\n",
        "\n",
        "5. Escreva um programa que calcule o fatorial de um número inteiro fornecido pela pessoa usuária. Lembrando que o fatorial de um número inteiro é a multiplicação desse número por todos os seus antecessores até o número 1. Por exemplo, o fatorial de 5 é 5 x 4 x 3 x 2 x 1 = 120.\n",
        "\n",
        "## Momento dos projetos\n",
        "\n",
        "6. Escreva um programa que gere a tabuada de um número inteiro de 1 a 10, de acordo com a escolha da pessoa usuária. Como exemplo, para o número 2, a tabuada deve ser mostrada no seguinte formato:\n",
        "\n",
        "```\n",
        "Tabuada do 2:\n",
        "2 x 1 = 2\n",
        "2 x 2 = 4\n",
        "[...]\n",
        "2 x 10 = 20\n",
        "```\n",
        "\n",
        "7. Os números primos possuem várias aplicações dentro da Ciência de Dados em criptografia e segurança, por exemplo. Um número primo é aquele que é divisível apenas por um e por ele mesmo. Assim, faça um programa que peça um número inteiro e determine se ele é ou não um número primo.\n",
        "\n",
        "8. Vamos entender a distribuição de idades de pensionistas de uma empresa de previdência. Escreva um programa que leia as idades de uma quantidade não informada de clientes e mostre a distribuição em intervalos de [0-25], [26-50], [51-75] e [76-100]. Encerre a entrada de dados com um número negativo.\n",
        "\n",
        "9. Em uma eleição para gerência em uma empresa com 20 pessoas colaboradoras, existem quatro candidatos(as). Escreva um programa que calcule o(a) vencedor(a) da eleição. A votação ocorreu da seguinte maneira:\n",
        "\n",
        "- Cada colaborador(a) votou em uma das quatro pessoas candidatas (que representamos pelos números 1, 2, 3 e 4).\n",
        "- Também foram contabilizados os votos nulos (representados pelo número 5) e os votos em branco (representados pelo número 6).\n",
        "\n",
        "Ao final da votação, o programa deve exibir o número total de votos para cada candidato(a), os nulos e os votos em branco. Além disso, deve calcular e exibir a porcentagem de votos nulos em relação ao total de votos e a porcentagem de votos em branco em relação ao total de votos.\n",
        "\n",
        "```\n"
      ]
    },
    {
      "cell_type": "code",
      "source": [
        "num1 = int(input('Insira o primeiro numero: '))\n",
        "num2 = int(input('Insira o segundo numero: '))\n",
        "\n",
        "for i in range(num1 + 1, num2):\n",
        "  print(i)"
      ],
      "metadata": {
        "colab": {
          "base_uri": "https://localhost:8080/"
        },
        "id": "LpbqUHd5sO2x",
        "outputId": "057b1dc2-09d6-4856-cbc9-05c64a406548"
      },
      "execution_count": 3,
      "outputs": [
        {
          "output_type": "stream",
          "name": "stdout",
          "text": [
            "Insira o primeiro numero: 10\n",
            "Insira o segundo numero: 16\n",
            "11\n",
            "12\n",
            "13\n",
            "14\n",
            "15\n"
          ]
        }
      ]
    },
    {
      "cell_type": "code",
      "source": [
        "colonia_a = 4\n",
        "colonia_b = 10\n",
        "taxa_crescimento_a = 0.03\n",
        "taxa_crescimento_b = 0.015\n",
        "\n",
        "dias = 0\n",
        "\n",
        "while colonia_a <= colonia_b:\n",
        "  colonia_a += colonia_a * taxa_crescimento_a\n",
        "  colonia_b += colonia_b * taxa_crescimento_b\n",
        "  dias += 1\n",
        "\n",
        "print(f'Levara {dias} dias para a colônia A ultrapassar ou igualar a B')"
      ],
      "metadata": {
        "colab": {
          "base_uri": "https://localhost:8080/"
        },
        "id": "l_rDOyt7toL_",
        "outputId": "43a03b72-3b36-4165-c59f-d83690ea7e65"
      },
      "execution_count": 4,
      "outputs": [
        {
          "output_type": "stream",
          "name": "stdout",
          "text": [
            "Levara 63 dias para a colônia A ultrapassar ou igualar a B\n"
          ]
        }
      ]
    },
    {
      "cell_type": "code",
      "source": [
        "for i in range(1, 16):\n",
        "  while True:\n",
        "  # Neste código, o while True garante que o programa continuará pedindo a nota ao usuário\n",
        "  # até que ele insira um valor válido entre 0 e 5.\n",
        "\n",
        "    try: # Se ocorrer um erro de valor, executa este bloco\n",
        "      nota = float(input(f'Informe a nota {i} (de 0 a 5) para a empresa: '))\n",
        "      if 0 <= nota <= 5:\n",
        "        break\n",
        "       #break é usado para sair do loop while True\n",
        "       #somente quando uma nota válida é fornecida.\n",
        "\n",
        "      else:\n",
        "        print('Nota inválida. Por favor, insira um valor entre 0 e 5.')\n",
        "    except ValueError:\n",
        "      print('Entrada inválida. Por favor, insira um número.')\n",
        "    print(f\"Nota {i}: {nota} - Obrigado por sua avaliação!\")\n",
        "print('Verificação de notas concluída.')"
      ],
      "metadata": {
        "colab": {
          "base_uri": "https://localhost:8080/"
        },
        "id": "uEfM05aDvU3H",
        "outputId": "2723ad56-d017-4a26-b160-69fd0cf2c55c"
      },
      "execution_count": 11,
      "outputs": [
        {
          "output_type": "stream",
          "name": "stdout",
          "text": [
            "Informe a nota 1 (de 0 a 5) para a empresa: 5\n",
            "Informe a nota 2 (de 0 a 5) para a empresa: 7\n",
            "Nota inválida. Por favor, insira um valor entre 0 e 5.\n",
            "Nota 2: 7.0 - Obrigado por sua avaliação!\n",
            "Informe a nota 2 (de 0 a 5) para a empresa: 2\n",
            "Informe a nota 3 (de 0 a 5) para a empresa: 3\n",
            "Informe a nota 4 (de 0 a 5) para a empresa: 4\n",
            "Informe a nota 5 (de 0 a 5) para a empresa: 5\n",
            "Informe a nota 6 (de 0 a 5) para a empresa: 5\n",
            "Informe a nota 7 (de 0 a 5) para a empresa: 1\n",
            "Informe a nota 8 (de 0 a 5) para a empresa: 0\n",
            "Informe a nota 9 (de 0 a 5) para a empresa: 6\n",
            "Nota inválida. Por favor, insira um valor entre 0 e 5.\n",
            "Nota 9: 6.0 - Obrigado por sua avaliação!\n",
            "Informe a nota 9 (de 0 a 5) para a empresa: 4\n",
            "Informe a nota 10 (de 0 a 5) para a empresa: 4\n",
            "Informe a nota 11 (de 0 a 5) para a empresa: 3\n",
            "Informe a nota 12 (de 0 a 5) para a empresa: 2\n",
            "Informe a nota 13 (de 0 a 5) para a empresa: 3\n",
            "Informe a nota 14 (de 0 a 5) para a empresa: 3\n",
            "Informe a nota 15 (de 0 a 5) para a empresa: 4\n",
            "Verificação de notas concluída.\n"
          ]
        }
      ]
    },
    {
      "cell_type": "code",
      "source": [
        "soma = 0\n",
        "contador = 0\n",
        "\n",
        "temperatura = float(input('Insira uma temperatura em Celsius: '))\n",
        "\n",
        "while temperatura != -273:\n",
        "    print(temperatura)\n",
        "    soma += temperatura   # acumula os valores\n",
        "    contador += 1         # conta quantos valores já foram lidos\n",
        "\n",
        "    temperatura = float(input('Insira uma temperatura em Celsius: '))\n",
        "\n",
        "if contador > 0:\n",
        "    media = soma / contador\n",
        "    print(f'A média das temperaturas é: {media:}°C')\n",
        "else:\n",
        "    print(\"Nenhuma temperatura válida foi inserida.\")"
      ],
      "metadata": {
        "colab": {
          "base_uri": "https://localhost:8080/"
        },
        "id": "JFdsyAOjBckY",
        "outputId": "a616c864-41ee-455a-8cff-fcdf1811c39c"
      },
      "execution_count": 22,
      "outputs": [
        {
          "output_type": "stream",
          "name": "stdout",
          "text": [
            "Insira uma temperatura em Celsius: 36\n",
            "36.0\n",
            "Insira uma temperatura em Celsius: 48\n",
            "48.0\n",
            "Insira uma temperatura em Celsius: -24\n",
            "-24.0\n",
            "Insira uma temperatura em Celsius: -7\n",
            "-7.0\n",
            "Insira uma temperatura em Celsius: -273\n",
            "A média das temperaturas é: 13.25°C\n"
          ]
        }
      ]
    },
    {
      "cell_type": "code",
      "source": [
        "num_int = int(input('Insira um número inteiro para calcular seu fatorial: '))\n",
        "resultado = 1\n",
        "\n",
        "# Calcula o fatorial multiplicando de 1 até num_int\n",
        "for i in range(1, num_int + 1):\n",
        "\n",
        "  resultado *= i\n",
        "\n",
        "print(f'O fatorial de {num_int} é: {resultado}')"
      ],
      "metadata": {
        "colab": {
          "base_uri": "https://localhost:8080/"
        },
        "id": "tx0Ju7DgHkqo",
        "outputId": "d4cd9587-2544-45b3-d181-4d182e999530"
      },
      "execution_count": 29,
      "outputs": [
        {
          "output_type": "stream",
          "name": "stdout",
          "text": [
            "Insira um número inteiro para calcular seu fatorial: 8\n",
            "O fatorial de 8 é: 40320\n"
          ]
        }
      ]
    },
    {
      "cell_type": "markdown",
      "source": [
        "Resposta do gabarito outro método para estudar:"
      ],
      "metadata": {
        "id": "K9mAQAPUKPLu"
      }
    },
    {
      "cell_type": "code",
      "source": [
        "# Pedir o número\n",
        "num = int(input('Informe um número inteiro: '))\n",
        "\n",
        "# Inicializar o cálculo\n",
        "fatorial = 1\n",
        "\n",
        "# nosso contador inicializa com o número máximo\n",
        "# e será feita uma contagem decrescente com o operador -=\n",
        "i = num\n",
        "while i > 0:\n",
        "    # queremos multiplicar agora o valor do fatorial pelo num\n",
        "    # e todos os números abaixo dele até 1\n",
        "    fatorial *= i\n",
        "    i -= 1\n",
        "\n",
        "# Imprimir o cálculo do fatorial\n",
        "print(f'Fatorial de {num} é {fatorial}')"
      ],
      "metadata": {
        "colab": {
          "base_uri": "https://localhost:8080/"
        },
        "id": "fIO0UzQAKK76",
        "outputId": "c0011d32-20a1-4f94-f2f2-20290982aa02"
      },
      "execution_count": 30,
      "outputs": [
        {
          "output_type": "stream",
          "name": "stdout",
          "text": [
            "Informe um número inteiro: 8\n",
            "Fatorial de 8 é 40320\n"
          ]
        }
      ]
    },
    {
      "cell_type": "code",
      "source": [
        "tabuada = int(input('Insira um numero inteiro de 1 a 10: '))\n",
        "\n",
        "while tabuada < 1 or tabuada > 10:\n",
        "  tabuada = int(input('Número inválido. Insira um numero inteiro de 1 a 10: '))\n",
        "\n",
        "print(f'\\nTabuada do {tabuada}:')\n",
        "\n",
        "for fator in range(1, 11):\n",
        "  resultado = tabuada * fator\n",
        "  print(f'{tabuada} x {fator} = {resultado}')"
      ],
      "metadata": {
        "colab": {
          "base_uri": "https://localhost:8080/"
        },
        "id": "xLR0wvDOKq-K",
        "outputId": "3a1f2d7f-383b-42bd-bb9e-ea2adc48d91a"
      },
      "execution_count": 40,
      "outputs": [
        {
          "output_type": "stream",
          "name": "stdout",
          "text": [
            "Insira um numero inteiro de 1 a 10: 5\n",
            "\n",
            "Tabuada do 5:\n",
            "5 x 1 = 5\n",
            "5 x 2 = 10\n",
            "5 x 3 = 15\n",
            "5 x 4 = 20\n",
            "5 x 5 = 25\n",
            "5 x 6 = 30\n",
            "5 x 7 = 35\n",
            "5 x 8 = 40\n",
            "5 x 9 = 45\n",
            "5 x 10 = 50\n"
          ]
        }
      ]
    },
    {
      "cell_type": "code",
      "source": [
        "num_primo = int(input('Insira um número inteiro pra descobrir se ele é primo: '))\n",
        "\n",
        "if num_primo <= 1:\n",
        "  print(f'{num_primo} não é um número primo.')\n",
        "else:\n",
        "  is_primo = True\n",
        "  for i in range(2, num_primo):\n",
        "    if (num_primo % i) == 0:\n",
        "      is_primo = False\n",
        "      break\n",
        "\n",
        "  if is_primo:\n",
        "    print(f'{num_primo} é um número primo.')\n",
        "  else:\n",
        "    print(f'{num_primo} não é um número primo.')"
      ],
      "metadata": {
        "colab": {
          "base_uri": "https://localhost:8080/"
        },
        "id": "HfFLg7pvNrKX",
        "outputId": "20e5ed78-f015-4038-b371-e29eb3d465f7"
      },
      "execution_count": 60,
      "outputs": [
        {
          "output_type": "stream",
          "name": "stdout",
          "text": [
            "Insira um número inteiro pra descobrir se ele é primo: 3\n",
            "3 é um número primo.\n"
          ]
        }
      ]
    },
    {
      "cell_type": "code",
      "source": [
        "\n",
        "faixas = [(0, 25), (26, 50), (51, 75), (76, 100)]\n",
        "contadores = [0] * len(faixas)\n",
        "\n",
        "\n",
        "idade = int(input('Informe a idade (ou um número negativo para encerrar): '))\n",
        "\n",
        "while idade >= 0:\n",
        "    for i, (inicio, fim) in enumerate(faixas):\n",
        "        if inicio <= idade <= fim:\n",
        "            contadores[i] += 1\n",
        "            break\n",
        "    idade = int(input('Informe a idade (ou um número negativo para encerrar): '))\n",
        "\n",
        "\n",
        "print('Distribuição de idades:')\n",
        "for (inicio, fim), qtd in zip(faixas, contadores):\n",
        "    print(f'[{inicio}-{fim}]: {qtd}')\n"
      ],
      "metadata": {
        "colab": {
          "base_uri": "https://localhost:8080/"
        },
        "id": "8onK22KVT7sL",
        "outputId": "fa4f7696-423a-420b-b0d5-b9ac0dfa0071"
      },
      "execution_count": 65,
      "outputs": [
        {
          "output_type": "stream",
          "name": "stdout",
          "text": [
            "Informe a idade (ou um número negativo para encerrar): 17\n",
            "Informe a idade (ou um número negativo para encerrar): 40\n",
            "Informe a idade (ou um número negativo para encerrar): 45\n",
            "Informe a idade (ou um número negativo para encerrar): 49\n",
            "Informe a idade (ou um número negativo para encerrar): 25\n",
            "Informe a idade (ou um número negativo para encerrar): 19\n",
            "Informe a idade (ou um número negativo para encerrar): 10\n",
            "Informe a idade (ou um número negativo para encerrar): 2\n",
            "Informe a idade (ou um número negativo para encerrar): 9\n",
            "Informe a idade (ou um número negativo para encerrar): -1\n",
            "Distribuição de idades:\n",
            "[0-25]: 6\n",
            "[26-50]: 3\n",
            "[51-75]: 0\n",
            "[76-100]: 0\n"
          ]
        }
      ]
    },
    {
      "cell_type": "markdown",
      "source": [
        "Versão do gabarito:"
      ],
      "metadata": {
        "id": "M8mLbPTATyMd"
      }
    },
    {
      "cell_type": "code",
      "source": [
        "# Coletamos as idades dos clientes\n",
        "idade = int(input('Informe a idade (ou um número negativo para encerrar): '))\n",
        "\n",
        "# Inicializamos as variáveis de contadores\n",
        "contador_0_25 = 0 # contador de idades entre 0 e 25\n",
        "contador_26_50 = 0 # contador de idades entre 26 e 50\n",
        "contador_51_75 = 0 # contador de idades entre 51 e 75\n",
        "contador_76_100 = 0 # contador de idades entre 76 e 100\n",
        "\n",
        "# nosso código executa sempre até o valor de idade for negativa\n",
        "while idade >= 0:\n",
        "    # contamos cada caso\n",
        "    if idade >= 0 and idade <= 25:\n",
        "        contador_0_25 += 1\n",
        "    elif idade >= 26 and idade <= 50:\n",
        "        contador_26_50 += 1\n",
        "    elif idade >= 51 and idade <= 75:\n",
        "        contador_51_75 += 1\n",
        "    elif idade >= 76 and idade <= 100:\n",
        "        contador_76_100 += 1\n",
        "\n",
        "    # Repetir o processo de entrada de dados até que seja digitado um número negativo\n",
        "    idade = int(input('Informe a idade (ou um número negativo para encerrar): '))\n",
        "\n",
        "# Mostramos os resultados\n",
        "print('Distribuição de idades:')\n",
        "print('[0-25]:', contador_0_25)\n",
        "print('[26-50]:', contador_26_50)\n",
        "print('[51-75]:', contador_51_75)\n",
        "print('[76-100]:', contador_76_100)"
      ],
      "metadata": {
        "colab": {
          "base_uri": "https://localhost:8080/"
        },
        "id": "uJYO4rZgQ8du",
        "outputId": "971cad32-aba9-4a08-cdc9-85ac33d2007d"
      },
      "execution_count": 61,
      "outputs": [
        {
          "output_type": "stream",
          "name": "stdout",
          "text": [
            "Informe a idade (ou um número negativo para encerrar): 25\n",
            "Informe a idade (ou um número negativo para encerrar): 50\n",
            "Informe a idade (ou um número negativo para encerrar): -10\n",
            "Distribuição de idades:\n",
            "[0-25]: 1\n",
            "[26-50]: 1\n",
            "[51-75]: 0\n",
            "[76-100]: 0\n"
          ]
        }
      ]
    },
    {
      "cell_type": "code",
      "source": [
        "votos = {\n",
        "    \"Candidato 1\": 0,\n",
        "    \"Candidato 2\": 0,\n",
        "    \"Candidato 3\": 0,\n",
        "    \"Candidato 4\": 0,\n",
        "    \"Nulos\": 0,\n",
        "    \"Branco\": 0\n",
        "}\n",
        "\n",
        "for i in range(20):\n",
        "    voto = int(input('Informe seu voto (1 a 6) \\nAtenção 5 para Nulos e 6 para Branco: '))\n",
        "    if voto == 1: votos[\"Candidato 1\"] += 1\n",
        "    elif voto == 2: votos[\"Candidato 2\"] += 1\n",
        "    elif voto == 3: votos[\"Candidato 3\"] += 1\n",
        "    elif voto == 4: votos[\"Candidato 4\"] += 1\n",
        "    elif voto == 5: votos[\"Nulos\"] += 1\n",
        "    elif voto == 6: votos[\"Branco\"] += 1\n",
        "    else: print(\"Voto inválido.\")\n",
        "\n",
        "for nome, qtd in votos.items():\n",
        "    print(f\"{nome}: {qtd}\")\n",
        "\n",
        "print(f'Percentual de votos nulos: {(votos[\"Nulos\"]/20*100):.2f}%')\n",
        "print(f'Percentual de votos em branco: {(votos[\"Branco\"]/20*100):.2f}%')"
      ],
      "metadata": {
        "colab": {
          "base_uri": "https://localhost:8080/"
        },
        "id": "PzE4xRkzTr2v",
        "outputId": "c65c8387-cf29-45d9-dfe4-2296cfae7255"
      },
      "execution_count": 63,
      "outputs": [
        {
          "output_type": "stream",
          "name": "stdout",
          "text": [
            "Informe seu voto (1 a 6) \n",
            "Atenção 5 para Nulos e 6 para Branco: 4\n",
            "Informe seu voto (1 a 6) \n",
            "Atenção 5 para Nulos e 6 para Branco: 4\n",
            "Informe seu voto (1 a 6) \n",
            "Atenção 5 para Nulos e 6 para Branco: 3\n",
            "Informe seu voto (1 a 6) \n",
            "Atenção 5 para Nulos e 6 para Branco: 6\n",
            "Informe seu voto (1 a 6) \n",
            "Atenção 5 para Nulos e 6 para Branco: 4\n",
            "Informe seu voto (1 a 6) \n",
            "Atenção 5 para Nulos e 6 para Branco: 4\n",
            "Informe seu voto (1 a 6) \n",
            "Atenção 5 para Nulos e 6 para Branco: 7\n",
            "Voto inválido.\n",
            "Informe seu voto (1 a 6) \n",
            "Atenção 5 para Nulos e 6 para Branco: 1\n",
            "Informe seu voto (1 a 6) \n",
            "Atenção 5 para Nulos e 6 para Branco: 1\n",
            "Informe seu voto (1 a 6) \n",
            "Atenção 5 para Nulos e 6 para Branco: 1\n",
            "Informe seu voto (1 a 6) \n",
            "Atenção 5 para Nulos e 6 para Branco: 5\n",
            "Informe seu voto (1 a 6) \n",
            "Atenção 5 para Nulos e 6 para Branco: 4\n",
            "Informe seu voto (1 a 6) \n",
            "Atenção 5 para Nulos e 6 para Branco: 4\n",
            "Informe seu voto (1 a 6) \n",
            "Atenção 5 para Nulos e 6 para Branco: 6\n",
            "Informe seu voto (1 a 6) \n",
            "Atenção 5 para Nulos e 6 para Branco: 5\n",
            "Informe seu voto (1 a 6) \n",
            "Atenção 5 para Nulos e 6 para Branco: 3\n",
            "Informe seu voto (1 a 6) \n",
            "Atenção 5 para Nulos e 6 para Branco: 3\n",
            "Informe seu voto (1 a 6) \n",
            "Atenção 5 para Nulos e 6 para Branco: 3\n",
            "Informe seu voto (1 a 6) \n",
            "Atenção 5 para Nulos e 6 para Branco: 6\n",
            "Informe seu voto (1 a 6) \n",
            "Atenção 5 para Nulos e 6 para Branco: 6\n",
            "Candidato 1: 3\n",
            "Candidato 2: 0\n",
            "Candidato 3: 4\n",
            "Candidato 4: 6\n",
            "Nulos: 2\n",
            "Branco: 4\n",
            "Percentual de votos nulos: 10.00%\n",
            "Percentual de votos em branco: 20.00%\n"
          ]
        }
      ]
    },
    {
      "cell_type": "markdown",
      "source": [
        "Versão do gabarito:"
      ],
      "metadata": {
        "id": "Dfa9Hp3ZTtm2"
      }
    },
    {
      "cell_type": "code",
      "source": [
        "# Inicializamos as variáveis contadoras\n",
        "votos_candidato1 = 0\n",
        "votos_candidato2 = 0\n",
        "votos_candidato3 = 0\n",
        "votos_candidato4 = 0\n",
        "votos_nulos = 0\n",
        "votos_branco = 0\n",
        "\n",
        "# Início do laço para ler os votos\n",
        "for i in range(0,20):\n",
        "    voto = int(input('Informe seu voto: '))\n",
        "    if voto == 1:\n",
        "        votos_candidato1 += 1\n",
        "    elif voto == 2:\n",
        "        votos_candidato2 += 1\n",
        "    elif voto == 3:\n",
        "        votos_candidato3 += 1\n",
        "    elif voto == 4:\n",
        "        votos_candidato4 += 1\n",
        "    elif voto == 5:\n",
        "        votos_nulos += 1\n",
        "    elif voto == 6:\n",
        "        votos_branco += 1\n",
        "    else:\n",
        "        print(\"Voto inválido.\")\n",
        "\n",
        "print(f'Votos candidato 1: {votos_candidato1}')\n",
        "print(f'Votos candidato 2: {votos_candidato2}')\n",
        "print(f'Votos candidato 3: {votos_candidato3}')\n",
        "print(f'Votos candidato 4: {votos_candidato4}')\n",
        "print(f'Votos nulos: {votos_nulos}')\n",
        "print(f'Votos em branco: {votos_branco}')\n",
        "print(f'Percentual de votos nulos: {(votos_nulos / 20 * 100)}')\n",
        "print(f'Percentual de votos em branco: {(votos_branco / 20 * 100)}')"
      ],
      "metadata": {
        "colab": {
          "base_uri": "https://localhost:8080/"
        },
        "id": "QqK4LFNdSxNC",
        "outputId": "b09f2c55-3037-4107-aff0-f81702e73bee"
      },
      "execution_count": 64,
      "outputs": [
        {
          "output_type": "stream",
          "name": "stdout",
          "text": [
            "Informe seu voto: 5\n",
            "Informe seu voto: 5\n",
            "Informe seu voto: 6\n",
            "Informe seu voto: 6\n",
            "Informe seu voto: 4\n",
            "Informe seu voto: 4\n",
            "Informe seu voto: 4\n",
            "Informe seu voto: 4\n",
            "Informe seu voto: 4\n",
            "Informe seu voto: 5\n",
            "Informe seu voto: 5\n",
            "Informe seu voto: 6\n",
            "Informe seu voto: 1\n",
            "Informe seu voto: 1\n",
            "Informe seu voto: 1\n",
            "Informe seu voto: 1\n",
            "Informe seu voto: 1\n",
            "Informe seu voto: 1\n",
            "Informe seu voto: 1\n",
            "Informe seu voto: 1\n",
            "Votos candidato 1: 8\n",
            "Votos candidato 2: 0\n",
            "Votos candidato 3: 0\n",
            "Votos candidato 4: 5\n",
            "Votos nulos: 4\n",
            "Votos em branco: 3\n",
            "Percentual de votos nulos: 20.0\n",
            "Percentual de votos em branco: 15.0\n"
          ]
        }
      ]
    }
  ]
}