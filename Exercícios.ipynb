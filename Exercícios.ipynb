{
  "nbformat": 4,
  "nbformat_minor": 0,
  "metadata": {
    "colab": {
      "provenance": [],
      "authorship_tag": "ABX9TyMNrdg529DNyt/lF3b/irHg"
    },
    "kernelspec": {
      "name": "python3",
      "display_name": "Python 3"
    },
    "language_info": {
      "name": "python"
    }
  },
  "cells": [
    {
      "cell_type": "markdown",
      "source": [
        "1) Escreva um programa que peça à pessoa usuária para fornecer dois números e exibir o número maior.\n",
        "\n",
        "2) Escreva um programa que solicite o percentual de crescimento de produção de uma empresa e informe se houve um crescimento (porcentagem positiva) ou decrescimento (porcentagem negativa).\n",
        "\n",
        "3) Escreva um programa que determine se uma letra fornecida pela pessoa usuária é uma vogal ou consoante.\n",
        "\n",
        "4) Escreva um programa que leia valores médios de preços de um modelo de carro por 3 anos consecutivos e exiba o valor mais alto e mais baixo entre esses três anos.\n",
        "\n",
        "5) Escreva um programa que pergunte sobre o preço de três produtos e indique qual é o produto mais barato para comprar.\n",
        "\n",
        "6) Escreva um programa que leia três números e os exiba em ordem decrescente.\n",
        "\n",
        "7) Escreva um programa que pergunte em qual turno a pessoa usuária estuda (\"manhã\", \"tarde\" ou \"noite\") e exiba a mensagem \"Bom Dia!\", \"Boa Tarde!\", \"Boa Noite!\", ou \"Valor Inválido!\", conforme o caso.\n",
        "\n",
        "8) Escreva um programa que peça um número inteiro à pessoa usuária e determine se ele é par ou ímpar. Dica: Você pode utilizar o operador módulo %.\n",
        "\n",
        "9) Escreva um programa que peça um número à pessoa usuária e informe se ele é inteiro ou decimal.\n",
        "\n",
        "Momento dos projetos\n",
        "\n",
        "10) Um programa deve ser escrito para ler dois números e, em seguida, perguntar à pessoa usuária qual operação ele deseja realizar. O resultado da operação deve incluir informações sobre o número - se é par ou ímpar, positivo ou negativo e inteiro ou decimal.\n",
        "\n",
        "11) Escreva um programa que peça à pessoa usuária três números que representam os lados de um triângulo. O programa deve informar se os valores podem ser utilizados para formar um triângulo e, caso afirmativo, se ele é equilátero, isósceles ou escaleno. Tenha em mente algumas dicas:\n",
        "\n",
        "* Três lados formam um triângulo quando a soma de quaisquer dois lados for maior que o terceiro;\n",
        "* Triângulo Equilátero: três lados iguais;\n",
        "* Triângulo Isósceles: quaisquer dois lados iguais;\n",
        "* Triângulo Escaleno: três lados diferentes.\n",
        "\n",
        "12) Um estabelecimento está vendendo combustíveis com descontos variados. Para o etanol, se a quantidade comprada for até 15 litros, o desconto será de 2% por litro. Caso contrário, será de 4% por litro. Para o diesel, se a quantidade comprada for até 15 litros, o desconto será de 3% por litro. Caso contrário, será de 5% por litro. O preço do litro de diesel é R$ 2,00 e o preço do litro de etanol é R$ 1,70. Escreva um programa que leia a quantidade de litros vendidos e o tipo de combustível (E para etanol e D para diesel) e calcule o valor a ser pago pelo cliente. Tenha em mente algumas dicas:\n",
        "\n",
        "* O do valor do desconto será a multiplicação entre preço do litro, quantidade de litros e o valor do desconto.\n",
        "* O valor a ser pago por um cliente será o resultado da multiplicação do preço do litro pela quantidade de litros menos o valor de desconto resultante do cálculo.\n",
        "\n",
        "13) Em uma empresa de venda de imóveis você precisa criar um código que analise os dados de vendas anuais para ajudar a diretoria na tomada de decisão. O código precisa coletar os dados de quantidade de venda durante os anos de 2022 e 2023 e fazer um cálculo de variação percentual. A partir do valor da variação, deve ser enviada às seguintes sugestões:\n",
        "\n",
        "*  Para variação acima de 20%: bonificação para o time de vendas.\n",
        "*  Para variação entre 2% e 20%: pequena bonificação para time de vendas.\n",
        "*  Para variação entre 2% e -10%: planejamento de políticas de incentivo às vendas.\n",
        "*  Para bonificações abaixo de -10%: corte de gastos."
      ],
      "metadata": {
        "id": "MHbfI8UuHzro"
      }
    },
    {
      "cell_type": "code",
      "execution_count": 1,
      "metadata": {
        "colab": {
          "base_uri": "https://localhost:8080/"
        },
        "id": "k71EG4yBHYqe",
        "outputId": "e7adbc47-367a-47e9-a939-2bd0d275289c"
      },
      "outputs": [
        {
          "output_type": "stream",
          "name": "stdout",
          "text": [
            "Digite o primeiro numero: 2\n",
            "Digite o segundo numero: 70\n",
            "O maior numero é: 70\n"
          ]
        }
      ],
      "source": [
        "num1 = int(input('Digite o primeiro numero: '))\n",
        "num2 = int(input('Digite o segundo numero: '))\n",
        "\n",
        "print(f'O maior numero é: {max(num1, num2)}')"
      ]
    },
    {
      "cell_type": "code",
      "source": [
        "percentual_crescimento = float(input('Informe o percentual de crescimento de produção da empresa'))\n",
        "\n",
        "if percentual_crescimento > 0:\n",
        "  print('Houve um crescimento')\n",
        "else:\n",
        "  print('Houve um decrescimento')"
      ],
      "metadata": {
        "colab": {
          "base_uri": "https://localhost:8080/"
        },
        "id": "v6bLXZkMJdzV",
        "outputId": "ad68892e-b7b0-40c1-fda4-a5d19e2f0b46"
      },
      "execution_count": 7,
      "outputs": [
        {
          "output_type": "stream",
          "name": "stdout",
          "text": [
            "Informe o percentual de crescimento de produção da empresa-58\n",
            "Houve um decrescimento\n"
          ]
        }
      ]
    },
    {
      "cell_type": "code",
      "source": [
        "letra = input('Digite uma letra: ')\n",
        "\n",
        "vogal = ['a', 'e', 'i', 'o', 'u']\n",
        "\n",
        "if letra.lower() in vogal:\n",
        "  print(f'{letra.upper()} é uma vogal')\n",
        "else:\n",
        "  print(f'{letra.upper()} é uma consoante')"
      ],
      "metadata": {
        "colab": {
          "base_uri": "https://localhost:8080/"
        },
        "id": "Cm4-sJAoMYAA",
        "outputId": "35cc52a1-683f-4a96-b1d0-d2a4c49e6520"
      },
      "execution_count": 20,
      "outputs": [
        {
          "output_type": "stream",
          "name": "stdout",
          "text": [
            "Digite uma letra: Y\n",
            "Y é uma consoante\n"
          ]
        }
      ]
    },
    {
      "cell_type": "code",
      "source": [
        "modelo_carro = input('Informe o modelo do carro: ')\n",
        "\n",
        "def obter_preco_entrada(ano):\n",
        "  while True:\n",
        "    price_str = input(f'\\nInforme o preço do {ano} ano: ')\n",
        "    if ',' in price_str:\n",
        "      print(\"Formato inválido. Use ponto como separador decimal.\")\n",
        "    else:\n",
        "      try:\n",
        "        return float(price_str)\n",
        "      except ValueError:\n",
        "        print(\"Entrada inválida. Por favor, insira um número válido.\")\n",
        "\n",
        "ano1 = obter_preco_entrada('primeiro')\n",
        "ano2 = obter_preco_entrada('segundo')\n",
        "ano3 = obter_preco_entrada('terceiro')\n",
        "\n",
        "media = (ano1 + ano2 + ano3)/3\n",
        "\n",
        "print (f\"\\nA média do preço de um {modelo_carro} nos últimos três anos é: R${media:.2f}\")\n",
        "\n",
        "print (f\"\\nO preço mais alto de um {modelo_carro} nos últimos três anos é : R${max(ano1, ano2, ano3):.2f}\")\n",
        "\n",
        "print (f\"\\nO preço mais baixo de um {modelo_carro} nos últimos três anos é : R${min(ano1, ano2, ano3):.2f}\")"
      ],
      "metadata": {
        "colab": {
          "base_uri": "https://localhost:8080/"
        },
        "id": "xYSt8qaeORYM",
        "outputId": "ecfdcec3-0b53-4d2f-c111-fc72de379e81"
      },
      "execution_count": 46,
      "outputs": [
        {
          "output_type": "stream",
          "name": "stdout",
          "text": [
            "Informe o modelo do carro: A4\n",
            "\n",
            "Informe o preço do primeiro ano: 170.386\n",
            "\n",
            "Informe o preço do segundo ano: 174.646\n",
            "\n",
            "Informe o preço do terceiro ano: 201.007\n",
            "\n",
            "A média do preço de um A4 nos últimos três anos é: R$182.01\n",
            "\n",
            "O preço mais alto de um A4 nos últimos três anos é : R$201.01\n",
            "\n",
            "O preço mais baixo de um A4 nos últimos três anos é : R$170.39\n"
          ]
        }
      ]
    },
    {
      "cell_type": "code",
      "source": [
        "from decimal import Decimal\n",
        "\n",
        "def obter_preco_entrada(ano):\n",
        "    while True:\n",
        "        preco_str = input(f'\\nInforme o preço do {ano} ano: ').strip()\n",
        "        try:\n",
        "            # Aceita vírgula ou ponto como separador decimal\n",
        "            return Decimal(preco_str.replace(',', '.'))\n",
        "        except:\n",
        "            print(\"Entrada inválida. Por favor, insira um número válido.\")\n",
        "\n",
        "def formatar_moeda_brl(valor):\n",
        "    # Formata no padrão brasileiro com vírgula decimal e ponto para milhar\n",
        "    valor_formatado = f\"{valor:,.2f}\"\n",
        "    return \"R$ \" + valor_formatado.replace(\",\", \"X\").replace(\".\", \",\").replace(\"X\", \".\")\n",
        "\n",
        "modelo_carro = input('Informe o modelo do carro: ')\n",
        "precos = [obter_preco_entrada(f\"{i+1}º\") for i in range(3)]\n",
        "\n",
        "media = sum(precos) / len(precos)\n",
        "preco_max = max(precos)\n",
        "preco_min = min(precos)\n",
        "\n",
        "print(f\"\\nA média do preço de um {modelo_carro} nos últimos três anos é: {formatar_moeda_brl(media)}\")\n",
        "print(f\"\\nO preço mais alto de um {modelo_carro} nos últimos três anos é: {formatar_moeda_brl(preco_max)}\")\n",
        "print(f\"\\nO preço mais baixo de um {modelo_carro} nos últimos três anos é: {formatar_moeda_brl(preco_min)}\")\n"
      ],
      "metadata": {
        "colab": {
          "base_uri": "https://localhost:8080/"
        },
        "id": "6moP6-9GWNHv",
        "outputId": "56c2832d-02bf-4f79-f555-cc582758e6b4"
      },
      "execution_count": 49,
      "outputs": [
        {
          "output_type": "stream",
          "name": "stdout",
          "text": [
            "Informe o modelo do carro: A4\n",
            "\n",
            "Informe o preço do 1º ano: 170.386\n",
            "\n",
            "Informe o preço do 2º ano: 174.646\n",
            "\n",
            "Informe o preço do 3º ano: 201.007\n",
            "\n",
            "A média do preço de um A4 nos últimos três anos é: R$ 182,01\n",
            "\n",
            "O preço mais alto de um A4 nos últimos três anos é: R$ 201,01\n",
            "\n",
            "O preço mais baixo de um A4 nos últimos três anos é: R$ 170,39\n"
          ]
        }
      ]
    },
    {
      "cell_type": "markdown",
      "source": [
        "---------------------------------------------\n",
        "\n",
        "## 📜 Explicação da nova versão sugerida pelo GPT\n",
        "\n",
        "Na versão atualizada, o programa mantém a mesma função principal — receber preços de um carro nos últimos três anos e calcular **média**, **máximo** e **mínimo** — mas foi **refatorado** para maior precisão, flexibilidade e legibilidade.\n",
        "\n",
        "---\n",
        "\n",
        "### 🔹 Principais melhorias\n",
        "\n",
        "1. **Uso de `Decimal` em vez de `float`**\n",
        "\n",
        "   * Antes, usava `float` para converter o valor digitado. Isso causa problemas de arredondamento, pois `float` é um tipo binário de ponto flutuante, que pode perder precisão para valores monetários.\n",
        "   * Agora, usamos `Decimal` (do módulo `decimal`), que mantém a exatidão matemática e é a forma recomendada para cálculos financeiros.\n",
        "\n",
        "2. **Entrada mais flexível**\n",
        "\n",
        "   * Antes, o código rejeitava valores com vírgula.\n",
        "   * Agora, o programa aceita tanto vírgula quanto ponto como separador decimal. Isso foi feito substituindo a vírgula por ponto antes da conversão:\n",
        "\n",
        "     ```python\n",
        "     price_str.replace(',', '.')\n",
        "     ```\n",
        "\n",
        "3. **Código mais compacto**\n",
        "\n",
        "   * Ao invés de criar três variáveis (`ano1`, `ano2`, `ano3`), usamos uma **list comprehension**:\n",
        "\n",
        "     ```python\n",
        "     precos = [obter_preco_entrada(f\"{i+1}º\") for i in range(3)]\n",
        "     ```\n",
        "\n",
        "     Isso permite que o programa seja facilmente adaptado para qualquer quantidade de anos.\n",
        "\n",
        "4. **Formatação correta no padrão BRL**\n",
        "\n",
        "   * A função `formatar_moeda_brl` garante:\n",
        "\n",
        "     * Ponto para separador de milhar\n",
        "     * Vírgula como separador decimal\n",
        "     * Duas casas decimais\n",
        "     * Prefixo \"R\\$ \"\n",
        "   * Exemplo:\n",
        "\n",
        "     ```\n",
        "     Decimal('170.386') → \"R$ 170,39\"\n",
        "     ```\n",
        "\n",
        "---\n",
        "\n",
        "### 🔹 Explicação das funções\n",
        "\n",
        "#### `obter_preco_entrada(ano)`\n",
        "\n",
        "* **Objetivo:** Solicitar um preço, validar a entrada e retornar como `Decimal`.\n",
        "* **Novidade:** Aceita vírgula ou ponto como separador decimal.\n",
        "* **Comando novo:**\n",
        "\n",
        "  * `Decimal(valor)` → converte a string em um número decimal preciso.\n",
        "  * `.strip()` → remove espaços extras no começo e fim da string.\n",
        "\n",
        "#### `formatar_moeda_brl(valor)`\n",
        "\n",
        "* **Objetivo:** Transformar um número (`Decimal`) em string no formato brasileiro de moeda.\n",
        "* **Comando novo:**\n",
        "\n",
        "  * `f\"{valor:,.2f}\"` → formata o número com separador de milhar e 2 casas decimais.\n",
        "  * `.replace(\",\", \"X\").replace(\".\", \",\").replace(\"X\", \".\")` → truque para inverter vírgula e ponto sem perder posição.\n",
        "\n",
        "---\n",
        "\n",
        "### 🔹 Comandos e recursos que não eram usados antes\n",
        "\n",
        "1. **`from decimal import Decimal`**\n",
        "\n",
        "   * Importa o tipo numérico que evita erros de arredondamento.\n",
        "\n",
        "2. **List comprehension**\n",
        "\n",
        "   * `[função(x) for x in range(3)]` → cria listas de forma compacta.\n",
        "\n",
        "3. **`strip()`**\n",
        "\n",
        "   * Remove espaços em branco do início e fim da string digitada pelo usuário.\n",
        "\n",
        "4. **Formatação com `f-strings` e `:,.2f`**\n",
        "\n",
        "   * `f\"{valor:,.2f}\"` → insere vírgulas como separador de milhar e fixa 2 casas decimais.\n",
        "\n",
        "---\n",
        "\n",
        "### 🔹 Benefícios gerais\n",
        "\n",
        "* Mais **precisão** para cálculos financeiros.\n",
        "* Entrada mais **flexível** para diferentes formatos de número.\n",
        "* Código mais **curto** e **fácil de expandir**.\n",
        "* Formatação **correta** no padrão brasileiro, sem erros de arredondamento.\n",
        "\n",
        "---\n"
      ],
      "metadata": {
        "id": "d6Sr8zIoaimt"
      }
    },
    {
      "cell_type": "code",
      "source": [
        "#Gabarito (mais uma versão para estudar)\n",
        "\n",
        "# Coletamos os preços dos 3 anos\n",
        "preco_ano1 = float(input('Informe o preço médio do carro no primeiro ano: '))\n",
        "preco_ano2 = float(input('Informe o preço médio do carro no segundo ano: '))\n",
        "preco_ano3 = float(input('Informe o preço médio do carro no terceiro ano: '))\n",
        "\n",
        "# Determinamos o maior valor através de comparações\n",
        "maior = preco_ano1\n",
        "if preco_ano2 > maior:\n",
        "  maior = preco_ano2\n",
        "if preco_ano3 > maior:\n",
        "  maior = preco_ano3\n",
        "\n",
        "# Determinamos o menor valor através de comparações\n",
        "menor = preco_ano1\n",
        "if preco_ano2 < menor:\n",
        "  menor = preco_ano2\n",
        "if preco_ano3 < menor:\n",
        "  menor = preco_ano3\n",
        "\n",
        "# Mostramos o resultado\n",
        "print(f'O preço mais alto foi de R$ {maior}.')\n",
        "print(f'O preço mais baixo foi de R$ {menor}.')"
      ],
      "metadata": {
        "colab": {
          "base_uri": "https://localhost:8080/"
        },
        "id": "k2SNf-r8jVjX",
        "outputId": "2fb91ff5-ff9e-4a99-cef9-c67cf39d421c"
      },
      "execution_count": 70,
      "outputs": [
        {
          "output_type": "stream",
          "name": "stdout",
          "text": [
            "Informe o preço médio do carro no primeiro ano: 9800\n",
            "Informe o preço médio do carro no segundo ano: 7000.0\n",
            "Informe o preço médio do carro no terceiro ano: 9000.5\n",
            "O preço mais alto foi de R$ 9800.0.\n",
            "O preço mais baixo foi de R$ 7000.0.\n"
          ]
        }
      ]
    },
    {
      "cell_type": "code",
      "source": [
        "produto1 = float(input('Informe o preço do primeiro produto: '))\n",
        "produto2 = float(input('Informe o preço do segundo produto: '))\n",
        "produto3 = float(input('Informe o preço do terceiro produto: '))\n",
        "\n",
        "if produto1 <= produto2 and produto1 <= produto3:\n",
        "  print('O produto mais barato é o primeiro')\n",
        "\n",
        "elif produto2 <= produto1 and produto2 <= produto3:\n",
        "  print('O produto mais barato é o segundo')\n",
        "\n",
        "else:\n",
        "  print('O produto mais barato é o terceiro')"
      ],
      "metadata": {
        "colab": {
          "base_uri": "https://localhost:8080/"
        },
        "id": "JtvQZJCdedGF",
        "outputId": "4a17bf26-d760-4672-855a-c86eba80e1c9"
      },
      "execution_count": 54,
      "outputs": [
        {
          "output_type": "stream",
          "name": "stdout",
          "text": [
            "Informe o preço do primeiro produto: 9\n",
            "Informe o preço do segundo produto: 5\n",
            "Informe o preço do terceiro produto: 2\n",
            "O produto mais barato é o terceiro\n"
          ]
        }
      ]
    },
    {
      "cell_type": "code",
      "source": [
        "num1 = int(input('Insira o primeiro número: '))\n",
        "num2 = int(input('Insira o segundo número: '))\n",
        "num3 = int(input('Insira o terceiro número: '))\n",
        "\n",
        "lista = [num1, num2, num3]\n",
        "\n",
        "lista.sort(reverse=True)\n",
        "\n",
        "print(lista)"
      ],
      "metadata": {
        "colab": {
          "base_uri": "https://localhost:8080/"
        },
        "id": "8bpcsXTmfgI2",
        "outputId": "1960afc8-9f2f-4a66-adda-02c2705fbdd0"
      },
      "execution_count": 55,
      "outputs": [
        {
          "output_type": "stream",
          "name": "stdout",
          "text": [
            "Insira o primeiro número: 8\n",
            "Insira o segundo número: 2\n",
            "Insira o terceiro número: 7\n",
            "[8, 7, 2]\n"
          ]
        }
      ]
    },
    {
      "cell_type": "code",
      "source": [
        "#Gabarito do exercício anterior, usando o AND\n",
        "\n",
        "# Coletamos os 3 números\n",
        "num1 = int(input('Informe o primeiro número: '))\n",
        "num2 = int(input('Informe o segundo número: '))\n",
        "num3 = int(input('Informe o terceiro número: '))\n",
        "\n",
        "# Comparação entre os 3 números\n",
        "if (num1 >= num2) and (num1 >= num3):\n",
        "    print(num1)\n",
        "    if num2 >= num3:\n",
        "        print(num2)\n",
        "        print(num3)\n",
        "    else:\n",
        "        print(num3)\n",
        "        print(num2)\n",
        "elif (num2 >= num1) and (num2 >= num3):\n",
        "    print(num2)\n",
        "    if num1 >= num3:\n",
        "        print(num1)\n",
        "        print(num3)\n",
        "    else:\n",
        "        print(num3)\n",
        "        print(num1)\n",
        "else:\n",
        "    print(num3)\n",
        "    if num1 >= num2:\n",
        "        print(num1)\n",
        "        print(num2)\n",
        "    else:\n",
        "        print(num2)\n",
        "        print(num1)\n",
        ""
      ],
      "metadata": {
        "colab": {
          "base_uri": "https://localhost:8080/"
        },
        "id": "fywJz71Mjzay",
        "outputId": "2bfd3488-3da8-46ea-a91c-4112e71dffbc"
      },
      "execution_count": 72,
      "outputs": [
        {
          "output_type": "stream",
          "name": "stdout",
          "text": [
            "Informe o primeiro número: 85\n",
            "Informe o segundo número: 158\n",
            "Informe o terceiro número: 10\n",
            "158\n",
            "85\n",
            "10\n"
          ]
        }
      ]
    },
    {
      "cell_type": "code",
      "source": [
        "periodo = input('Informe o período do dia (manhã, tarde ou noite): ')\n",
        "\n",
        "if periodo.lower() == 'manhã':\n",
        "  print('Bom dia!')\n",
        "elif periodo.lower() == 'tarde':\n",
        "  print('Boa tarde!')\n",
        "elif periodo.lower() == 'noite':\n",
        "  print('Boa noite!')\n",
        "else:\n",
        "  print('Valor inválido!')"
      ],
      "metadata": {
        "colab": {
          "base_uri": "https://localhost:8080/"
        },
        "id": "VGblMVm9gJtb",
        "outputId": "9f744333-3d0d-40e9-c51b-e68919603807"
      },
      "execution_count": 56,
      "outputs": [
        {
          "output_type": "stream",
          "name": "stdout",
          "text": [
            "Informe o período do dia (manhã, tarde ou noite): tarde\n",
            "Boa tarde!\n"
          ]
        }
      ]
    },
    {
      "cell_type": "code",
      "source": [
        "num = int(input('Informe um número: '))\n",
        "\n",
        "if num % 2 == 0:\n",
        "  print('O número é par')\n",
        "else:\n",
        "  print('O número é ímpar')"
      ],
      "metadata": {
        "colab": {
          "base_uri": "https://localhost:8080/"
        },
        "id": "RtLR5tOGggnw",
        "outputId": "0a57692b-19f7-4442-d653-204c6f569842"
      },
      "execution_count": 57,
      "outputs": [
        {
          "output_type": "stream",
          "name": "stdout",
          "text": [
            "Informe um número: 8\n",
            "O número é par\n"
          ]
        }
      ]
    },
    {
      "cell_type": "code",
      "source": [
        "num = input('Informe um número: ')\n",
        "\n",
        "# O operador \"or\" é usado para combinar duas condições:\n",
        "if \".\" in num or \",\" in num:\n",
        "    print('O número é decimal')\n",
        "else:\n",
        "    print('O número é inteiro')\n",
        "# - \".\" in num → True se o ponto estiver presente\n",
        "# - \",\" in num → True se a vírgula estiver presente"
      ],
      "metadata": {
        "colab": {
          "base_uri": "https://localhost:8080/"
        },
        "id": "LdcSCs8phTRg",
        "outputId": "bceded14-af2d-4533-f751-ac6ae887d291"
      },
      "execution_count": 69,
      "outputs": [
        {
          "output_type": "stream",
          "name": "stdout",
          "text": [
            "Informe um número: 9.9\n",
            "O número é decimal\n"
          ]
        }
      ]
    },
    {
      "cell_type": "code",
      "source": [
        "#Gabarito: usando o %\n",
        "\n",
        "# Coletamos os dados\n",
        "num = float(input('Digite um número: '))\n",
        "\n",
        "# Verificamos se o número é inteiro ou decimal através do resultado do módulo\n",
        "if num % 1 == 0:\n",
        "    print('O número é inteiro.')\n",
        "else:\n",
        "    print('O número é decimal.')"
      ],
      "metadata": {
        "colab": {
          "base_uri": "https://localhost:8080/"
        },
        "id": "MCE3RwoVkMwX",
        "outputId": "4c534a51-613f-42a6-bc43-8d3f35847ad6"
      },
      "execution_count": 73,
      "outputs": [
        {
          "output_type": "stream",
          "name": "stdout",
          "text": [
            "Digite um número: 58\n",
            "O número é inteiro.\n"
          ]
        }
      ]
    },
    {
      "cell_type": "code",
      "source": [
        "num1 = float(input('Informe o primeiro número: '))\n",
        "num2 = float(input('Informe o segundo número: '))\n",
        "\n",
        "operacao = input('Qual operação você quer fazer? (Responda somente: soma, subtracao, divisao): ').lower()\n",
        "\n",
        "resultado = None\n",
        "\n",
        "if operacao == 'soma':\n",
        "  resultado = num1 + num2\n",
        "elif operacao == 'subtracao':\n",
        "  resultado = num1 - num2\n",
        "elif operacao == 'multiplicacao':\n",
        "  resultado = num1 * num2\n",
        "elif operacao == 'divisao':\n",
        "  if num2 != 0:\n",
        "    resultado = num1 / num2\n",
        "  else:\n",
        "    print(\"Erro: Divisão por zero não é permitida.\")\n",
        "    resultado = None\n",
        "else:\n",
        "  print('Operação inválida')\n",
        "\n",
        "if resultado is not None:\n",
        "  print(f'O resultado da {operacao} é: {resultado}')\n",
        "\n",
        "  # Verificar se o resultado é par ou ímpar\n",
        "  if resultado == int(resultado):\n",
        "      if resultado % 2 == 0:\n",
        "          print('O resultado é par')\n",
        "      else:\n",
        "          print('O resultado é ímpar')\n",
        "  else:\n",
        "      print('O resultado é decimal')\n",
        "\n",
        "  # Verificar se o resultado é positivo ou negativo\n",
        "  if resultado > 0:\n",
        "      print('O resultado é positivo')\n",
        "  elif resultado < 0:\n",
        "      print('O resultado é negativo')\n",
        "  else:\n",
        "      print('O resultado é zero')"
      ],
      "metadata": {
        "colab": {
          "base_uri": "https://localhost:8080/"
        },
        "id": "Di8eqcs53RZF",
        "outputId": "b62ea1e4-9cf2-4e35-a45f-863e5447fbb2"
      },
      "execution_count": 87,
      "outputs": [
        {
          "output_type": "stream",
          "name": "stdout",
          "text": [
            "Informe o primeiro número: 58\n",
            "Informe o segundo número: 100\n",
            "Qual operação você quer fazer? (Responda somente: soma, subtracao, divisao): soma\n",
            "O resultado da soma é: 158.0\n",
            "O resultado é par\n",
            "O resultado é positivo\n"
          ]
        }
      ]
    },
    {
      "cell_type": "code",
      "source": [
        "print('Vamos formar um triângulo?')\n",
        "\n",
        "while True:\n",
        "    a = float(input('Informe o primeiro lado do triângulo: '))\n",
        "    b = float(input('Informe o segundo lado do triângulo: '))\n",
        "    c = float(input('Informe o terceiro lado do triângulo: '))\n",
        "\n",
        "    if a + b > c and a + c > b and b + c > a:\n",
        "        print('\\nÉ possível formar um triângulo!')\n",
        "\n",
        "        if a == b == c:\n",
        "            tipo = 'equilátero'\n",
        "        elif a == b or a == c or b == c:\n",
        "            tipo = 'isósceles'\n",
        "        else:\n",
        "            tipo = 'escaleno'\n",
        "\n",
        "        print(f'Os lados {a}, {b} e {c} formam um triângulo {tipo}.')\n",
        "        break\n",
        "    else:\n",
        "        print('\\nNão é possível formar um triângulo com esses lados.')\n",
        "        print('Lembre-se: a soma de quaisquer dois lados deve ser maior que o terceiro lado.')\n",
        "        print('Por favor, tente novamente.\\n')\n"
      ],
      "metadata": {
        "colab": {
          "base_uri": "https://localhost:8080/"
        },
        "id": "EfQXIK_78FnC",
        "outputId": "5f106e0b-cbb8-4d49-83fd-95e356de24d7"
      },
      "execution_count": 118,
      "outputs": [
        {
          "output_type": "stream",
          "name": "stdout",
          "text": [
            "Vamos formar um triângulo?\n",
            "Informe o primeiro lado do triângulo: 45\n",
            "Informe o segundo lado do triângulo: 45\n",
            "Informe o terceiro lado do triângulo: 90\n",
            "\n",
            "Não é possível formar um triângulo com esses lados.\n",
            "Lembre-se: a soma de quaisquer dois lados deve ser maior que o terceiro lado.\n",
            "Por favor, tente novamente.\n",
            "\n",
            "Informe o primeiro lado do triângulo: 90\n",
            "Informe o segundo lado do triângulo: 90\n",
            "Informe o terceiro lado do triângulo: 45\n",
            "\n",
            "É possível formar um triângulo!\n",
            "Os lados 90.0, 90.0 e 45.0 formam um triângulo isósceles.\n"
          ]
        }
      ]
    },
    {
      "cell_type": "code",
      "source": [
        "e = ('etanol')\n",
        "d = ('diesel')\n",
        "\n",
        "preco_e = float(1.70)\n",
        "preco_d = float(2.00)\n",
        "\n",
        "abastecer = input('Qual combustível você quer abastecer? (Responda somente: etanol ou diesel): ').lower()\n",
        "if abastecer == e:\n",
        "  litros = float(input('Quantos litros você quer abastecer? '))\n",
        "  if litros <= 15:\n",
        "    desconto = float(0.02)\n",
        "  else:\n",
        "    desconto = float(0.04)\n",
        "\n",
        "if abastecer == d:\n",
        "  litros = float(input('Quantos litros você quer abastecer? '))\n",
        "  if litros <= 15:\n",
        "    desconto = float(0.03)\n",
        "  else:\n",
        "    desconto = float(0.05)\n",
        "\n",
        "print ('O valor é R$', litros * preco_e * (1 - desconto)) #1 representa o inteiro"
      ],
      "metadata": {
        "colab": {
          "base_uri": "https://localhost:8080/"
        },
        "id": "GPgI-NgWPOkG",
        "outputId": "70bd8ee1-d330-49ef-d479-f69bcd100f9e"
      },
      "execution_count": 106,
      "outputs": [
        {
          "output_type": "stream",
          "name": "stdout",
          "text": [
            "Qual combustível você quer abastecer? (Responda somente: etanol ou diesel): etanol\n",
            "Quantos litros você quer abastecer? 50\n",
            "O valor é R$ 81.6\n"
          ]
        }
      ]
    },
    {
      "cell_type": "markdown",
      "source": [
        "13) Em uma empresa de venda de imóveis você precisa criar um código que analise os dados de vendas anuais para ajudar a diretoria na tomada de decisão. O código precisa coletar os dados de quantidade de venda durante os anos de 2022 e 2023 e fazer um cálculo de variação percentual. A partir do valor da variação, deve ser enviada às seguintes sugestões:\n",
        "\n",
        "Para variação acima de 20%: bonificação para o time de vendas.\n",
        "Para variação entre 2% e 20%: pequena bonificação para time de vendas.\n",
        "Para variação entre 2% e -10%: planejamento de políticas de incentivo às vendas.\n",
        "Para bonificações abaixo de -10%: corte de gastos."
      ],
      "metadata": {
        "id": "EsDKmwAoTT36"
      }
    },
    {
      "cell_type": "code",
      "source": [
        "vendas_2022 = float(input('Informe a quantidade de vendas do ano de 2022: '))\n",
        "vendas_2023 = float(input('Informe a quantidade de vendas do ano de 2023: '))\n",
        "\n",
        "variacao = (vendas_2023 - vendas_2022) / vendas_2022  # fração (0.2 = 20%)\n",
        "\n",
        "if variacao > 0.2:\n",
        "    print('Para variação acima de 20%: Bonificação para o time de vendas.')\n",
        "elif variacao >= 0.02:\n",
        "    print('Para variação entre 2% e 20%: Pequena bonificação para time de vendas.')\n",
        "elif variacao >= -0.1:\n",
        "    print('Para variação entre -10% e 2%: Planejamento de políticas de incentivo às vendas.')\n",
        "else:\n",
        "    print('Será necessário uma política de corte de gastos.')\n"
      ],
      "metadata": {
        "colab": {
          "base_uri": "https://localhost:8080/",
          "height": 228
        },
        "id": "B8zIqufLTV2s",
        "outputId": "9181f6fc-d797-4f0d-e7c1-8c3613e8bb31"
      },
      "execution_count": 120,
      "outputs": [
        {
          "name": "stdout",
          "output_type": "stream",
          "text": [
            "Informe a quantidade de vendas do ano de 2022: 1.000.000,50\n"
          ]
        },
        {
          "output_type": "error",
          "ename": "ValueError",
          "evalue": "could not convert string to float: '1.000.000,50'",
          "traceback": [
            "\u001b[0;31m---------------------------------------------------------------------------\u001b[0m",
            "\u001b[0;31mValueError\u001b[0m                                Traceback (most recent call last)",
            "\u001b[0;32m/tmp/ipython-input-1270060344.py\u001b[0m in \u001b[0;36m<cell line: 0>\u001b[0;34m()\u001b[0m\n\u001b[0;32m----> 1\u001b[0;31m \u001b[0mvendas_2022\u001b[0m \u001b[0;34m=\u001b[0m \u001b[0mfloat\u001b[0m\u001b[0;34m(\u001b[0m\u001b[0minput\u001b[0m\u001b[0;34m(\u001b[0m\u001b[0;34m'Informe a quantidade de vendas do ano de 2022: '\u001b[0m\u001b[0;34m)\u001b[0m\u001b[0;34m)\u001b[0m\u001b[0;34m\u001b[0m\u001b[0;34m\u001b[0m\u001b[0m\n\u001b[0m\u001b[1;32m      2\u001b[0m \u001b[0mvendas_2023\u001b[0m \u001b[0;34m=\u001b[0m \u001b[0mfloat\u001b[0m\u001b[0;34m(\u001b[0m\u001b[0minput\u001b[0m\u001b[0;34m(\u001b[0m\u001b[0;34m'Informe a quantidade de vendas do ano de 2023: '\u001b[0m\u001b[0;34m)\u001b[0m\u001b[0;34m)\u001b[0m\u001b[0;34m\u001b[0m\u001b[0;34m\u001b[0m\u001b[0m\n\u001b[1;32m      3\u001b[0m \u001b[0;34m\u001b[0m\u001b[0m\n\u001b[1;32m      4\u001b[0m \u001b[0mvariacao\u001b[0m \u001b[0;34m=\u001b[0m \u001b[0;34m(\u001b[0m\u001b[0mvendas_2023\u001b[0m \u001b[0;34m-\u001b[0m \u001b[0mvendas_2022\u001b[0m\u001b[0;34m)\u001b[0m \u001b[0;34m/\u001b[0m \u001b[0mvendas_2022\u001b[0m  \u001b[0;31m# fração (0.2 = 20%)\u001b[0m\u001b[0;34m\u001b[0m\u001b[0;34m\u001b[0m\u001b[0m\n\u001b[1;32m      5\u001b[0m \u001b[0;34m\u001b[0m\u001b[0m\n",
            "\u001b[0;31mValueError\u001b[0m: could not convert string to float: '1.000.000,50'"
          ]
        }
      ]
    }
  ]
}