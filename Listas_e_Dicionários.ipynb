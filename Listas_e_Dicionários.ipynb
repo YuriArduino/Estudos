{
  "nbformat": 4,
  "nbformat_minor": 0,
  "metadata": {
    "colab": {
      "provenance": [],
      "authorship_tag": "ABX9TyMWRxTA5z9B45dYlri0XaZ2"
    },
    "kernelspec": {
      "name": "python3",
      "display_name": "Python 3"
    },
    "language_info": {
      "name": "python"
    }
  },
  "cells": [
    {
      "cell_type": "code",
      "execution_count": null,
      "metadata": {
        "colab": {
          "base_uri": "https://localhost:8080/"
        },
        "id": "xw3hVridVczm",
        "outputId": "12ca313e-8755-41fc-8413-0e373278d2bc"
      },
      "outputs": [
        {
          "output_type": "execute_result",
          "data": {
            "text/plain": [
              "['Suelen Lima', 9.5, 9.0, 8.0, True]"
            ]
          },
          "metadata": {},
          "execution_count": 13
        }
      ],
      "source": [
        "# Cria uma lista chamada 'lista' com diferentes tipos de dados\n",
        "lista = ['Suelen Lima',9.5,9.0,8.0, True]\n",
        "# Exibe o conteúdo da lista\n",
        "lista"
      ]
    },
    {
      "cell_type": "code",
      "source": [
        "# Acessa e exibe o primeiro elemento da lista (índice 0)\n",
        "lista[0]"
      ],
      "metadata": {
        "colab": {
          "base_uri": "https://localhost:8080/",
          "height": 35
        },
        "id": "ssFg9AUlZgaj",
        "outputId": "aa093365-7c03-4f71-fa45-f0f4fc0e79c9"
      },
      "execution_count": null,
      "outputs": [
        {
          "output_type": "execute_result",
          "data": {
            "text/plain": [
              "'Suelen Lima'"
            ],
            "application/vnd.google.colaboratory.intrinsic+json": {
              "type": "string"
            }
          },
          "metadata": {},
          "execution_count": 14
        }
      ]
    },
    {
      "cell_type": "code",
      "source": [
        "# Acessa e exibe o segundo elemento da lista (índice 1)\n",
        "lista[1]"
      ],
      "metadata": {
        "colab": {
          "base_uri": "https://localhost:8080/"
        },
        "id": "Hzz44r6zZh9I",
        "outputId": "c1e6324a-12bf-4847-c484-fac590fe0a15"
      },
      "execution_count": null,
      "outputs": [
        {
          "output_type": "execute_result",
          "data": {
            "text/plain": [
              "9.5"
            ]
          },
          "metadata": {},
          "execution_count": 15
        }
      ]
    },
    {
      "cell_type": "code",
      "source": [
        "# Acessa e exibe o último elemento da lista usando índice negativo (-1)\n",
        "lista[-1]"
      ],
      "metadata": {
        "colab": {
          "base_uri": "https://localhost:8080/"
        },
        "id": "lpDFLQhFZjR2",
        "outputId": "07537b0f-02e8-4556-d84f-f20d8c47da4b"
      },
      "execution_count": null,
      "outputs": [
        {
          "output_type": "execute_result",
          "data": {
            "text/plain": [
              "True"
            ]
          },
          "metadata": {},
          "execution_count": 16
        }
      ]
    },
    {
      "cell_type": "code",
      "source": [
        "# Itera sobre cada elemento na lista\n",
        "for elemento in lista:\n",
        "  # Imprime o elemento atual\n",
        "  print(elemento)"
      ],
      "metadata": {
        "colab": {
          "base_uri": "https://localhost:8080/"
        },
        "id": "5TDM895eZlQN",
        "outputId": "d0764f73-1fb1-49a8-a4f3-dac84dcf933b"
      },
      "execution_count": null,
      "outputs": [
        {
          "output_type": "stream",
          "name": "stdout",
          "text": [
            "Suelen Lima\n",
            "9.5\n",
            "9.0\n",
            "8.0\n",
            "True\n"
          ]
        }
      ]
    },
    {
      "cell_type": "code",
      "source": [
        "# Modifica o elemento na posição de índice 3 da lista para 10.0\n",
        "lista[3] = 10.0\n",
        "# Exibe a lista modificada\n",
        "lista"
      ],
      "metadata": {
        "colab": {
          "base_uri": "https://localhost:8080/"
        },
        "id": "4RimL0r3ZnFk",
        "outputId": "abdd1a3d-9cd4-47d5-fc2a-2ca2e93446e2"
      },
      "execution_count": null,
      "outputs": [
        {
          "output_type": "execute_result",
          "data": {
            "text/plain": [
              "['Suelen Lima', 9.5, 9.0, 10.0, True]"
            ]
          },
          "metadata": {},
          "execution_count": 18
        }
      ]
    },
    {
      "cell_type": "code",
      "source": [
        "# Calcula a média dos elementos nos índices 1, 2 e 3 da lista\n",
        "media = (lista[1] + lista[2] + lista[3])/3\n",
        "# Exibe o valor da média\n",
        "media"
      ],
      "metadata": {
        "colab": {
          "base_uri": "https://localhost:8080/"
        },
        "id": "ClGzG2CxZpVU",
        "outputId": "29c9767a-5df5-4aaa-90f4-f83530f73613"
      },
      "execution_count": null,
      "outputs": [
        {
          "output_type": "execute_result",
          "data": {
            "text/plain": [
              "9.5"
            ]
          },
          "metadata": {},
          "execution_count": 19
        }
      ]
    },
    {
      "cell_type": "code",
      "source": [
        "# Cria uma string chamada 'linguagem'\n",
        "linguagem = 'Python'\n",
        "# Acessa e imprime caracteres específicos da string usando índices positivos e negativos\n",
        "print(linguagem[0], linguagem[1], linguagem[2], linguagem[-3], linguagem[-2], linguagem[-1])"
      ],
      "metadata": {
        "colab": {
          "base_uri": "https://localhost:8080/"
        },
        "id": "uD6PM7pTZ9OJ",
        "outputId": "df2def04-872f-475b-eeb6-df70834c3966"
      },
      "execution_count": null,
      "outputs": [
        {
          "output_type": "stream",
          "name": "stdout",
          "text": [
            "P y t h o n\n"
          ]
        }
      ]
    },
    {
      "cell_type": "code",
      "source": [
        "# Cria uma string com uma pergunta\n",
        "duvida = 'Quem veio antes? O ovo? Ou foi a serpente?'\n",
        "# Divide a string em uma lista de substrings usando '?' como delimitador\n",
        "lista_palavras = duvida.split('?')\n",
        "# Imprime a lista de substrings resultante\n",
        "print(lista_palavras)"
      ],
      "metadata": {
        "colab": {
          "base_uri": "https://localhost:8080/"
        },
        "id": "jaXVGcwGaHRz",
        "outputId": "467dea46-2ca9-451a-c8e1-0f191412bf1e"
      },
      "execution_count": null,
      "outputs": [
        {
          "output_type": "stream",
          "name": "stdout",
          "text": [
            "['Quem veio antes', ' O ovo', ' Ou foi a serpente', '']\n"
          ]
        }
      ]
    },
    {
      "cell_type": "code",
      "source": [
        "# Cria uma string com uma pergunta\n",
        "duvida = 'Quem veio antes? O ovo? Ou foi a serpente?'\n",
        "# Divide a string em uma lista de palavras usando espaço em branco como delimitador padrão\n",
        "lista_palavras = duvida.split()\n",
        "# Imprime a lista de palavras resultante\n",
        "print(lista_palavras)"
      ],
      "metadata": {
        "colab": {
          "base_uri": "https://localhost:8080/"
        },
        "id": "Zn8mrVJsaMRV",
        "outputId": "f2dec03a-b1b4-4eff-cd21-fef4f6764630"
      },
      "execution_count": null,
      "outputs": [
        {
          "output_type": "stream",
          "name": "stdout",
          "text": [
            "['Quem', 'veio', 'antes?', 'O', 'ovo?', 'Ou', 'foi', 'a', 'serpente?']\n"
          ]
        }
      ]
    },
    {
      "cell_type": "code",
      "source": [
        "# Cria uma lista de strings descrevendo misturas de cores\n",
        "misturas = ['Tintas: vermelho, azul e amarelo',\n",
        "            'Verde: mistura de azul e amarelo',\n",
        "            'Laranja: mistura de vermelho e amarelo',\n",
        "            'Roxo: mistura de vermelho e azul']\n",
        "# Define uma string que será usada como unificador (separador)\n",
        "unificador = '. '\n",
        "# Junta os elementos da lista 'misturas' em uma única string, usando o 'unificador' entre eles\n",
        "string_misturas = unificador.join(misturas)\n",
        "# Imprime a string resultante\n",
        "print(string_misturas)"
      ],
      "metadata": {
        "colab": {
          "base_uri": "https://localhost:8080/"
        },
        "id": "PjiQ1GkEaQv5",
        "outputId": "7b3d2989-ad62-4f90-c617-34bae3f0db22"
      },
      "execution_count": null,
      "outputs": [
        {
          "output_type": "stream",
          "name": "stdout",
          "text": [
            "Tintas: vermelho, azul e amarelo. Verde: mistura de azul e amarelo. Laranja: mistura de vermelho e amarelo. Roxo: mistura de vermelho e azul\n"
          ]
        }
      ]
    },
    {
      "cell_type": "code",
      "source": [
        "# Obtém e exibe o número de elementos na lista\n",
        "len(lista)"
      ],
      "metadata": {
        "colab": {
          "base_uri": "https://localhost:8080/"
        },
        "id": "oIrvUFfUi49D",
        "outputId": "fd3fe641-15c1-4cd0-fced-638eb5262eac"
      },
      "execution_count": null,
      "outputs": [
        {
          "output_type": "execute_result",
          "data": {
            "text/plain": [
              "9"
            ]
          },
          "metadata": {},
          "execution_count": 34
        }
      ]
    },
    {
      "cell_type": "code",
      "source": [
        "# Acessa e exibe um \"slice\" da lista, contendo elementos do índice 1 até o índice 3 (exclusive)\n",
        "lista[1:4]"
      ],
      "metadata": {
        "colab": {
          "base_uri": "https://localhost:8080/"
        },
        "id": "3wdysGoCi7tt",
        "outputId": "76ccce8a-d117-4aef-c610-563332029022"
      },
      "execution_count": null,
      "outputs": [
        {
          "output_type": "execute_result",
          "data": {
            "text/plain": [
              "[9.5, 9.0, 10.0]"
            ]
          },
          "metadata": {},
          "execution_count": 35
        }
      ]
    },
    {
      "cell_type": "code",
      "source": [
        "# Acessa e exibe um \"slice\" da lista, contendo elementos do índice 1 até o índice 2 (exclusive)\n",
        "lista[1:3]"
      ],
      "metadata": {
        "colab": {
          "base_uri": "https://localhost:8080/"
        },
        "id": "WCVfsyfSi9fR",
        "outputId": "5d39bc93-1325-4816-9847-f20615a7f061"
      },
      "execution_count": null,
      "outputs": [
        {
          "output_type": "execute_result",
          "data": {
            "text/plain": [
              "[9.5, 9.0]"
            ]
          },
          "metadata": {},
          "execution_count": 36
        }
      ]
    },
    {
      "cell_type": "code",
      "source": [
        "# Acessa e exibe um \"slice\" da lista, contendo elementos do início até o índice 2 (exclusive)\n",
        "lista[:3]"
      ],
      "metadata": {
        "colab": {
          "base_uri": "https://localhost:8080/"
        },
        "id": "M9V5yi6PjADe",
        "outputId": "9ffc1dd0-d098-423a-a89d-963613bbe9de"
      },
      "execution_count": null,
      "outputs": [
        {
          "output_type": "execute_result",
          "data": {
            "text/plain": [
              "['Suelen Lima', 9.5, 9.0]"
            ]
          },
          "metadata": {},
          "execution_count": 37
        }
      ]
    },
    {
      "cell_type": "code",
      "source": [
        "# Acessa e exibe um \"slice\" da lista, contendo elementos do índice 3 até o final\n",
        "lista[3:]"
      ],
      "metadata": {
        "colab": {
          "base_uri": "https://localhost:8080/"
        },
        "id": "6JB0Wh3EjDgz",
        "outputId": "df88f121-8f1f-446c-9fd6-aa790320f282"
      },
      "execution_count": null,
      "outputs": [
        {
          "output_type": "execute_result",
          "data": {
            "text/plain": [
              "[10.0, True, 9.5, 10.0, 8.0, 9.0]"
            ]
          },
          "metadata": {},
          "execution_count": 38
        }
      ]
    },
    {
      "cell_type": "code",
      "source": [
        "# Acessa e exibe um \"slice\" da lista, contendo todos os elementos (uma cópia da lista)\n",
        "lista[:]"
      ],
      "metadata": {
        "colab": {
          "base_uri": "https://localhost:8080/"
        },
        "id": "D3DfQdChjFOe",
        "outputId": "2372914f-0b8d-4dff-e20d-841d972e6b64"
      },
      "execution_count": null,
      "outputs": [
        {
          "output_type": "execute_result",
          "data": {
            "text/plain": [
              "['Suelen Lima', 9.5, 9.0, 10.0, True, 9.5, 10.0, 8.0, 9.0]"
            ]
          },
          "metadata": {},
          "execution_count": 39
        }
      ]
    },
    {
      "cell_type": "code",
      "source": [
        "# Adiciona o valor da variável 'media' ao final da lista\n",
        "lista.append(media)\n",
        "# Exibe a lista modificada\n",
        "lista"
      ],
      "metadata": {
        "colab": {
          "base_uri": "https://localhost:8080/"
        },
        "id": "7Cmd0jQUjLJ8",
        "outputId": "356aa42e-909b-474d-efa6-db5cfc8c0876"
      },
      "execution_count": null,
      "outputs": [
        {
          "output_type": "execute_result",
          "data": {
            "text/plain": [
              "['Suelen Lima', 9.5, 9.0, 10.0, True, 9.5, 10.0, 8.0, 9.0, 9.5]"
            ]
          },
          "metadata": {},
          "execution_count": 40
        }
      ]
    },
    {
      "cell_type": "code",
      "source": [
        "# Estende a lista adicionando os elementos da lista [10.0, 8.0, 9.0] ao final\n",
        "lista.extend([10.0,8.0,9.0])\n",
        "# Exibe a lista modificada\n",
        "lista"
      ],
      "metadata": {
        "colab": {
          "base_uri": "https://localhost:8080/"
        },
        "id": "Gbexk3lQjQlq",
        "outputId": "04a6d59d-d439-4784-b677-460548684860"
      },
      "execution_count": null,
      "outputs": [
        {
          "output_type": "execute_result",
          "data": {
            "text/plain": [
              "['Suelen Lima', 9.5, 9.0, 10.0, True, 9.5, 10.0, 8.0, 9.0, 9.5, 10.0, 8.0, 9.0]"
            ]
          },
          "metadata": {},
          "execution_count": 41
        }
      ]
    },
    {
      "cell_type": "code",
      "source": [
        "# Adiciona a lista [10.0, 8.0, 9.0] como um único elemento ao final da lista\n",
        "lista.append([10.0,8.0,9.0])\n",
        "# Exibe a lista modificada\n",
        "lista"
      ],
      "metadata": {
        "colab": {
          "base_uri": "https://localhost:8080/"
        },
        "id": "Leo4a6EljTDG",
        "outputId": "b4678ea5-0dbb-48d5-8a74-6dc4839e23ce"
      },
      "execution_count": null,
      "outputs": [
        {
          "output_type": "execute_result",
          "data": {
            "text/plain": [
              "['Suelen Lima',\n",
              " 9.5,\n",
              " 9.0,\n",
              " 10.0,\n",
              " True,\n",
              " 9.5,\n",
              " 10.0,\n",
              " 8.0,\n",
              " 9.0,\n",
              " 9.5,\n",
              " 10.0,\n",
              " 8.0,\n",
              " 9.0,\n",
              " [10.0, 8.0, 9.0],\n",
              " [10.0, 8.0, 9.0],\n",
              " [10.0, 8.0, 9.0]]"
            ]
          },
          "metadata": {},
          "execution_count": 62
        }
      ]
    },
    {
      "cell_type": "code",
      "source": [
        "# Remove a primeira ocorrência do elemento [10.0, 8.0, 9.0] da lista\n",
        "lista.remove([10.0,8.0,9.0])\n",
        "# Exibe a lista modificada\n",
        "lista"
      ],
      "metadata": {
        "colab": {
          "base_uri": "https://localhost:8080/"
        },
        "id": "_5E822n7jVai",
        "outputId": "27444e18-7c15-4064-f56c-27f3b9c48802"
      },
      "execution_count": null,
      "outputs": [
        {
          "output_type": "execute_result",
          "data": {
            "text/plain": [
              "['Suelen Lima',\n",
              " 9.5,\n",
              " 9.0,\n",
              " 10.0,\n",
              " True,\n",
              " 9.5,\n",
              " 10.0,\n",
              " 8.0,\n",
              " 9.0,\n",
              " 9.5,\n",
              " 10.0,\n",
              " 8.0,\n",
              " 9.0,\n",
              " [10.0, 8.0, 9.0],\n",
              " [10.0, 8.0, 9.0]]"
            ]
          },
          "metadata": {},
          "execution_count": 63
        }
      ]
    },
    {
      "cell_type": "code",
      "source": [
        "raca_caes = ['Labrador Retriever',\n",
        "             'Bulldog Francês',\n",
        "             'Pastor Alemão',\n",
        "             'Poodle']"
      ],
      "metadata": {
        "id": "3s3muXqxmZq7"
      },
      "execution_count": null,
      "outputs": []
    },
    {
      "cell_type": "code",
      "source": [
        "raca_caes.insert(1, 'Golden Retriever')\n",
        "raca_caes"
      ],
      "metadata": {
        "colab": {
          "base_uri": "https://localhost:8080/"
        },
        "id": "Byp2CvrsmbDz",
        "outputId": "3d63b9a2-ecc3-4552-bd72-ca8720392ca3"
      },
      "execution_count": null,
      "outputs": [
        {
          "output_type": "execute_result",
          "data": {
            "text/plain": [
              "['Labrador Retriever',\n",
              " 'Golden Retriever',\n",
              " 'Bulldog Francês',\n",
              " 'Pastor Alemão',\n",
              " 'Poodle']"
            ]
          },
          "metadata": {},
          "execution_count": 65
        }
      ]
    },
    {
      "cell_type": "code",
      "source": [
        "raca_caes.pop(1)"
      ],
      "metadata": {
        "colab": {
          "base_uri": "https://localhost:8080/",
          "height": 35
        },
        "id": "eL6IyIRRmhNj",
        "outputId": "73ad1368-9428-4bf3-ede9-636754d9dc0c"
      },
      "execution_count": null,
      "outputs": [
        {
          "output_type": "execute_result",
          "data": {
            "text/plain": [
              "'Golden Retriever'"
            ],
            "application/vnd.google.colaboratory.intrinsic+json": {
              "type": "string"
            }
          },
          "metadata": {},
          "execution_count": 66
        }
      ]
    },
    {
      "cell_type": "code",
      "source": [
        "raca_caes.index('Pastor Alemão')"
      ],
      "metadata": {
        "id": "_rOJBEcemjg8",
        "outputId": "63da3e97-db29-4ab0-c27c-720c030ebab4",
        "colab": {
          "base_uri": "https://localhost:8080/"
        }
      },
      "execution_count": null,
      "outputs": [
        {
          "output_type": "execute_result",
          "data": {
            "text/plain": [
              "2"
            ]
          },
          "metadata": {},
          "execution_count": 67
        }
      ]
    },
    {
      "cell_type": "code",
      "source": [
        "raca_caes.sort()\n",
        "raca_caes"
      ],
      "metadata": {
        "id": "PGMc5Mbwmk4s",
        "outputId": "8f144449-75b7-4166-c310-a1afb8a443d2",
        "colab": {
          "base_uri": "https://localhost:8080/"
        }
      },
      "execution_count": null,
      "outputs": [
        {
          "output_type": "execute_result",
          "data": {
            "text/plain": [
              "['Bulldog Francês', 'Labrador Retriever', 'Pastor Alemão', 'Poodle']"
            ]
          },
          "metadata": {},
          "execution_count": 68
        }
      ]
    },
    {
      "cell_type": "markdown",
      "source": [
        "## **Dicionário**"
      ],
      "metadata": {
        "id": "rAxsEQI05D6e"
      }
    },
    {
      "cell_type": "code",
      "source": [
        "dicionario = {'chave_1:1',\n",
        "              'chave_2:2'}\n",
        "dicionario"
      ],
      "metadata": {
        "colab": {
          "base_uri": "https://localhost:8080/"
        },
        "id": "7tEluBmB5Ii-",
        "outputId": "e0f594c8-cd0b-4585-a306-86cc82680e93"
      },
      "execution_count": 3,
      "outputs": [
        {
          "output_type": "execute_result",
          "data": {
            "text/plain": [
              "{'chave_1:1', 'chave_2:2'}"
            ]
          },
          "metadata": {},
          "execution_count": 3
        }
      ]
    },
    {
      "cell_type": "code",
      "source": [
        "cadastro = {'matricula': 2000168933,\n",
        "            'dia_cadastro': 25,\n",
        "            'mes_cadastro': 10,\n",
        "            'turma': '2E'}\n",
        "cadastro"
      ],
      "metadata": {
        "colab": {
          "base_uri": "https://localhost:8080/"
        },
        "id": "6IjmpYlQ5YH6",
        "outputId": "705d8381-35f9-49da-a688-5e7fda8f9e8a"
      },
      "execution_count": 4,
      "outputs": [
        {
          "output_type": "execute_result",
          "data": {
            "text/plain": [
              "{'matricula': 2000168933,\n",
              " 'dia_cadastro': 25,\n",
              " 'mes_cadastro': 10,\n",
              " 'turma': '2E'}"
            ]
          },
          "metadata": {},
          "execution_count": 4
        }
      ]
    },
    {
      "cell_type": "code",
      "source": [
        "cadastro['matricula']"
      ],
      "metadata": {
        "colab": {
          "base_uri": "https://localhost:8080/"
        },
        "id": "F-wJywgs5u8Y",
        "outputId": "89fd9fed-cb7d-490e-a98b-7ebbb0e7822c"
      },
      "execution_count": 5,
      "outputs": [
        {
          "output_type": "execute_result",
          "data": {
            "text/plain": [
              "2000168933"
            ]
          },
          "metadata": {},
          "execution_count": 5
        }
      ]
    },
    {
      "cell_type": "code",
      "source": [
        "cadastro ['turma']"
      ],
      "metadata": {
        "colab": {
          "base_uri": "https://localhost:8080/",
          "height": 35
        },
        "id": "D6NBBN-P6ab0",
        "outputId": "d5627dc8-9733-48fa-a0ec-5682a1f4059d"
      },
      "execution_count": 6,
      "outputs": [
        {
          "output_type": "execute_result",
          "data": {
            "text/plain": [
              "'2E'"
            ],
            "application/vnd.google.colaboratory.intrinsic+json": {
              "type": "string"
            }
          },
          "metadata": {},
          "execution_count": 6
        }
      ]
    },
    {
      "cell_type": "code",
      "source": [
        "cadastro['turma'] = '2A'\n",
        "cadastro"
      ],
      "metadata": {
        "colab": {
          "base_uri": "https://localhost:8080/"
        },
        "id": "jo6s3P-26e2k",
        "outputId": "9676c08e-c3d8-4b14-ec46-28ce3b0449fb"
      },
      "execution_count": 10,
      "outputs": [
        {
          "output_type": "execute_result",
          "data": {
            "text/plain": [
              "{'matricula': 2000168933,\n",
              " 'dia_cadastro': 25,\n",
              " 'mes_cadastro': 10,\n",
              " 'turma': '2A'}"
            ]
          },
          "metadata": {},
          "execution_count": 10
        }
      ]
    },
    {
      "cell_type": "code",
      "source": [
        "cadastro['modalidade'] = 'EAD'\n",
        "cadastro"
      ],
      "metadata": {
        "colab": {
          "base_uri": "https://localhost:8080/"
        },
        "id": "fnbC3Ni_62Xl",
        "outputId": "642acdd0-d1aa-44c9-fcb2-0310bb0acd83"
      },
      "execution_count": 11,
      "outputs": [
        {
          "output_type": "execute_result",
          "data": {
            "text/plain": [
              "{'matricula': 2000168933,\n",
              " 'dia_cadastro': 25,\n",
              " 'mes_cadastro': 10,\n",
              " 'turma': '2A',\n",
              " 'modalidade': 'EAD'}"
            ]
          },
          "metadata": {},
          "execution_count": 11
        }
      ]
    },
    {
      "cell_type": "code",
      "source": [
        "cadastro['modalidade'] = 'EAD'\n",
        "cadastro"
      ],
      "metadata": {
        "colab": {
          "base_uri": "https://localhost:8080/"
        },
        "id": "uxaT0GYZ7BkZ",
        "outputId": "8fbacbc1-d33c-4c33-afee-8828af8b2264"
      },
      "execution_count": 14,
      "outputs": [
        {
          "output_type": "execute_result",
          "data": {
            "text/plain": [
              "{'matricula': 2000168933,\n",
              " 'dia_cadastro': 25,\n",
              " 'mes_cadastro': 10,\n",
              " 'turma': '2A',\n",
              " 'modalidade': 'EAD'}"
            ]
          },
          "metadata": {},
          "execution_count": 14
        }
      ]
    },
    {
      "cell_type": "code",
      "source": [
        "cadastro.items()"
      ],
      "metadata": {
        "colab": {
          "base_uri": "https://localhost:8080/"
        },
        "id": "E63HWCSw_IpS",
        "outputId": "c70b0b7a-fa0a-4f1f-d003-959592ff0bb6"
      },
      "execution_count": 23,
      "outputs": [
        {
          "output_type": "execute_result",
          "data": {
            "text/plain": [
              "dict_items([('matricula', 2000168933), ('dia_cadastro', 25), ('mes_cadastro', 10), ('modalidade', 'EAD')])"
            ]
          },
          "metadata": {},
          "execution_count": 23
        }
      ]
    },
    {
      "cell_type": "code",
      "source": [
        "cadastro.values()"
      ],
      "metadata": {
        "colab": {
          "base_uri": "https://localhost:8080/"
        },
        "id": "CgYcq6zY_TKA",
        "outputId": "1a7b9ae9-fcdc-4601-f4ef-807c279c2515"
      },
      "execution_count": 25,
      "outputs": [
        {
          "output_type": "execute_result",
          "data": {
            "text/plain": [
              "dict_values([2000168933, 25, 10, 'EAD'])"
            ]
          },
          "metadata": {},
          "execution_count": 25
        }
      ]
    },
    {
      "cell_type": "code",
      "source": [
        "cadastro.keys()"
      ],
      "metadata": {
        "colab": {
          "base_uri": "https://localhost:8080/"
        },
        "id": "gO3bGs_N_RZG",
        "outputId": "5f9e5c02-5724-4c42-93c1-2007650424b2"
      },
      "execution_count": 24,
      "outputs": [
        {
          "output_type": "execute_result",
          "data": {
            "text/plain": [
              "dict_keys(['matricula', 'dia_cadastro', 'mes_cadastro', 'modalidade'])"
            ]
          },
          "metadata": {},
          "execution_count": 24
        }
      ]
    },
    {
      "cell_type": "code",
      "source": [
        "#para printar a saída em ordem alfabetica:\n",
        "\n",
        "for chave, valor in sorted(cadastro.items()):\n",
        "    print(chave, \":\", valor)"
      ],
      "metadata": {
        "colab": {
          "base_uri": "https://localhost:8080/"
        },
        "id": "_RWMXRpU8eyZ",
        "outputId": "a0361476-da02-4788-c30b-d5c70a2e78e0"
      },
      "execution_count": 18,
      "outputs": [
        {
          "output_type": "stream",
          "name": "stdout",
          "text": [
            "dia_cadastro : 25\n",
            "matricula : 2000168933\n",
            "mes_cadastro : 10\n",
            "modalidade : EAD\n",
            "turma : 2A\n"
          ]
        }
      ]
    },
    {
      "cell_type": "markdown",
      "source": [
        "---\n",
        "\n",
        "### 📖 Métodos principais de dicionário\n",
        "\n",
        "| Método      | O que retorna                               | Exemplo prático                                                                            |\n",
        "| ----------- | ------------------------------------------- | ------------------------------------------------------------------------------------------ |\n",
        "| `.keys()`   | Todas as **chaves** do dicionário           | `dict_keys(['matricula', 'dia_cadastro', 'mes_cadastro', 'turma'])`                        |\n",
        "| `.values()` | Todos os **valores** do dicionário          | `dict_values([2000168933, 25, 10, '2E'])`                                                  |\n",
        "| `.items()`  | Todos os pares `(chave, valor)` como tuplas | `[('matricula', 2000168933), ('dia_cadastro', 25), ('mes_cadastro', 10), ('turma', '2E')]` |\n",
        "\n",
        "---\n",
        "\n",
        "### 📌 Exemplos de uso\n",
        "\n",
        "```python\n",
        "cadastro = {\n",
        "    'matricula': 2000168933,\n",
        "    'dia_cadastro': 25,\n",
        "    'mes_cadastro': 10,\n",
        "    'turma': '2E'\n",
        "}\n",
        "\n",
        "# 1. Chaves\n",
        "for k in cadastro.keys():\n",
        "    print(\"Chave:\", k)\n",
        "\n",
        "# 2. Valores\n",
        "for v in cadastro.values():\n",
        "    print(\"Valor:\", v)\n",
        "\n",
        "# 3. Pares chave-valor\n",
        "for k, v in cadastro.items():\n",
        "    print(\"Chave:\", k, \"| Valor:\", v)\n",
        "```\n",
        "\n",
        "---\n",
        "\n",
        "### 🖥️ Saída\n",
        "\n",
        "```\n",
        "Chave: matricula\n",
        "Chave: dia_cadastro\n",
        "Chave: mes_cadastro\n",
        "Chave: turma\n",
        "\n",
        "Valor: 2000168933\n",
        "Valor: 25\n",
        "Valor: 10\n",
        "Valor: 2E\n",
        "\n",
        "Chave: matricula | Valor: 2000168933\n",
        "Chave: dia_cadastro | Valor: 25\n",
        "Chave: mes_cadastro | Valor: 10\n",
        "Chave: turma | Valor: 2E\n",
        "```\n",
        "\n",
        "---\n",
        "\n",
        "Assim fica fácil ver a diferença:\n",
        "\n",
        "* **`keys()`** → só as chaves\n",
        "* **`values()`** → só os valores\n",
        "* **`items()`** → os dois juntos\n",
        "\n",
        "---\n",
        "\n",
        "Quando usamos `sorted(cadastro.items())`, a ordenação padrão é pelas **chaves** (primeiro elemento da tupla).\n",
        "Mas podemos ordenar também pelos **valores** (segundo elemento da tupla) passando o argumento `key=` para o `sorted`.\n",
        "\n",
        "---\n",
        "\n",
        "### 📌 Exemplo: ordenar pelas chaves (padrão)\n",
        "\n",
        "```python\n",
        "cadastro = {\n",
        "    'matricula': 2000168933,\n",
        "    'dia_cadastro': 25,\n",
        "    'mes_cadastro': 10,\n",
        "    'turma': '2E'\n",
        "}\n",
        "\n",
        "# Ordenado por chave (alfabético)\n",
        "for k, v in sorted(cadastro.items()):\n",
        "    print(k, \":\", v)\n",
        "```\n",
        "\n",
        "**Saída:**\n",
        "\n",
        "```\n",
        "dia_cadastro : 25\n",
        "matricula : 2000168933\n",
        "mes_cadastro : 10\n",
        "turma : 2E\n",
        "```\n",
        "\n",
        "---\n",
        "\n",
        "### 📌 Exemplo: ordenar pelos valores\n",
        "\n",
        "```python\n",
        "# Ordenado pelo valor\n",
        "for k, v in sorted(cadastro.items(), key=lambda item: item[1]):\n",
        "    print(k, \":\", v)\n",
        "```\n",
        "\n",
        "**Saída:**\n",
        "\n",
        "```\n",
        "turma : 2E\n",
        "dia_cadastro : 25\n",
        "mes_cadastro : 10\n",
        "matricula : 2000168933\n",
        "```\n",
        "\n",
        "---\n",
        "\n",
        "### 🔎 Explicação\n",
        "\n",
        "* `cadastro.items()` → gera pares `(chave, valor)`.\n",
        "* `lambda item: item[1]` → diz para o `sorted` usar o **segundo elemento da tupla** (o valor) como critério de ordenação.\n",
        "* Se usasse `item[0]`, ordenaria pelas chaves (mesmo resultado do padrão).\n",
        "\n",
        "---\n"
      ],
      "metadata": {
        "id": "ggstcczD9fd9"
      }
    },
    {
      "cell_type": "code",
      "source": [
        "cadastro.pop('turma') #remover o elemento do dict"
      ],
      "metadata": {
        "colab": {
          "base_uri": "https://localhost:8080/",
          "height": 35
        },
        "id": "V2z_ngVp92hU",
        "outputId": "2a575a10-55b5-4e38-c9aa-d8229ed7dbe2"
      },
      "execution_count": 19,
      "outputs": [
        {
          "output_type": "execute_result",
          "data": {
            "text/plain": [
              "'2A'"
            ],
            "application/vnd.google.colaboratory.intrinsic+json": {
              "type": "string"
            }
          },
          "metadata": {},
          "execution_count": 19
        }
      ]
    },
    {
      "cell_type": "code",
      "source": [
        "for valores in cadastro.values():\n",
        "  print(valores)"
      ],
      "metadata": {
        "colab": {
          "base_uri": "https://localhost:8080/"
        },
        "id": "UpiEN-rR_b8X",
        "outputId": "385451b5-e8b9-4829-d9e9-d10a97183d40"
      },
      "execution_count": 27,
      "outputs": [
        {
          "output_type": "stream",
          "name": "stdout",
          "text": [
            "2000168933\n",
            "25\n",
            "10\n",
            "EAD\n"
          ]
        }
      ]
    },
    {
      "cell_type": "code",
      "source": [
        "cadastro.items()"
      ],
      "metadata": {
        "colab": {
          "base_uri": "https://localhost:8080/"
        },
        "id": "MJySMhRL_xTO",
        "outputId": "218fc4d8-1a7b-470d-a7d8-44927e4da4a4"
      },
      "execution_count": 29,
      "outputs": [
        {
          "output_type": "execute_result",
          "data": {
            "text/plain": [
              "dict_items([('matricula', 2000168933), ('dia_cadastro', 25), ('mes_cadastro', 10), ('modalidade', 'EAD')])"
            ]
          },
          "metadata": {},
          "execution_count": 29
        }
      ]
    },
    {
      "cell_type": "code",
      "source": [
        "for chaves, valores in cadastro.items():\n",
        "  print(chaves, valores)\n",
        "\n",
        "# Adiciona um print vazio para uma linha em branco entre as saídas\n",
        "print()\n",
        "\n",
        "for c, v in cadastro.items(): #Exemplo só para mostrar como o valor é absoluto e interdependente\n",
        "  print(c, v)"
      ],
      "metadata": {
        "colab": {
          "base_uri": "https://localhost:8080/"
        },
        "id": "-wGRF5es_s-V",
        "outputId": "73b3a2cb-41bc-4ea9-990a-d607c4b2ac5a"
      },
      "execution_count": 33,
      "outputs": [
        {
          "output_type": "stream",
          "name": "stdout",
          "text": [
            "matricula 2000168933\n",
            "dia_cadastro 25\n",
            "mes_cadastro 10\n",
            "modalidade EAD\n",
            "\n",
            "matricula 2000168933\n",
            "dia_cadastro 25\n",
            "mes_cadastro 10\n",
            "modalidade EAD\n"
          ]
        }
      ]
    },
    {
      "cell_type": "code",
      "source": [
        "loja = {'nomes': ['televisão', 'celular', 'notebook', 'geladeira', 'fogão'],\n",
        "        'precos': [2000, 1500, 3500, 4000, 1500]}"
      ],
      "metadata": {
        "id": "sDxt-de6AZ4Y"
      },
      "execution_count": 34,
      "outputs": []
    },
    {
      "cell_type": "code",
      "source": [
        "for chave, elementos in loja.items():\n",
        "  print(f'Chave: {chave}\\nElementos:')\n",
        "  for dado in elementos:\n",
        "    print(dado)"
      ],
      "metadata": {
        "colab": {
          "base_uri": "https://localhost:8080/"
        },
        "id": "sUTllndoAbhY",
        "outputId": "449a1c1f-2e7d-4fe8-a0b3-4ab051c05033"
      },
      "execution_count": 35,
      "outputs": [
        {
          "output_type": "stream",
          "name": "stdout",
          "text": [
            "Chave: nomes\n",
            "Elementos:\n",
            "televisão\n",
            "celular\n",
            "notebook\n",
            "geladeira\n",
            "fogão\n",
            "Chave: precos\n",
            "Elementos:\n",
            "2000\n",
            "1500\n",
            "3500\n",
            "4000\n",
            "1500\n"
          ]
        }
      ]
    },
    {
      "cell_type": "markdown",
      "source": [
        "Algumas funções built-in que já conhecemos são: print(), input(), len(), int(), str(), float(), range(), chr(), etc. Mas existem outras além dessas que também são muito úteis, como: sum(), help() e dir()"
      ],
      "metadata": {
        "id": "Q4fT03wbAvX7"
      }
    },
    {
      "cell_type": "code",
      "source": [
        "lista = [1,2,3]\n",
        "dir(lista)"
      ],
      "metadata": {
        "colab": {
          "base_uri": "https://localhost:8080/"
        },
        "id": "Ee_kS3HrA06F",
        "outputId": "bb0269c0-db50-4ac9-b82b-4c1e8c806409"
      },
      "execution_count": 36,
      "outputs": [
        {
          "output_type": "execute_result",
          "data": {
            "text/plain": [
              "['__add__',\n",
              " '__class__',\n",
              " '__class_getitem__',\n",
              " '__contains__',\n",
              " '__delattr__',\n",
              " '__delitem__',\n",
              " '__dir__',\n",
              " '__doc__',\n",
              " '__eq__',\n",
              " '__format__',\n",
              " '__ge__',\n",
              " '__getattribute__',\n",
              " '__getitem__',\n",
              " '__getstate__',\n",
              " '__gt__',\n",
              " '__hash__',\n",
              " '__iadd__',\n",
              " '__imul__',\n",
              " '__init__',\n",
              " '__init_subclass__',\n",
              " '__iter__',\n",
              " '__le__',\n",
              " '__len__',\n",
              " '__lt__',\n",
              " '__mul__',\n",
              " '__ne__',\n",
              " '__new__',\n",
              " '__reduce__',\n",
              " '__reduce_ex__',\n",
              " '__repr__',\n",
              " '__reversed__',\n",
              " '__rmul__',\n",
              " '__setattr__',\n",
              " '__setitem__',\n",
              " '__sizeof__',\n",
              " '__str__',\n",
              " '__subclasshook__',\n",
              " 'append',\n",
              " 'clear',\n",
              " 'copy',\n",
              " 'count',\n",
              " 'extend',\n",
              " 'index',\n",
              " 'insert',\n",
              " 'pop',\n",
              " 'remove',\n",
              " 'reverse',\n",
              " 'sort']"
            ]
          },
          "metadata": {},
          "execution_count": 36
        }
      ]
    },
    {
      "cell_type": "markdown",
      "source": [
        "Quando rodamos:\n",
        "\n",
        "```python\n",
        "help(lista.append)\n",
        "```\n",
        "\n",
        "o Python mostrou a **documentação embutida** (docstring) do método `append`.\n",
        "No caso, só diz:\n",
        "\n",
        "```\n",
        "append(object, /) method of builtins.list instance\n",
        "    Append object to the end of the list.\n",
        "```\n",
        "\n",
        "Ou seja:\n",
        "\n",
        "* `append` é um **método nativo de listas**.\n",
        "* Ele recebe um objeto qualquer (`object`) como argumento.\n",
        "* Função: adicionar esse objeto no final da lista.\n",
        "\n",
        "---\n",
        "\n",
        "### 📝 Tabelinha com os métodos mais usados em listas\n",
        "\n",
        "| Método         | O que faz                                              | Exemplo               | Resultado                  |\n",
        "| -------------- | ------------------------------------------------------ | --------------------- | -------------------------- |\n",
        "| `append(x)`    | Adiciona `x` no final da lista                         | `lista.append(5)`     | `[1, 2, 3, 5]`             |\n",
        "| `insert(i, x)` | Insere `x` na posição `i`                              | `lista.insert(1, 99)` | `[1, 99, 2, 3]`            |\n",
        "| `remove(x)`    | Remove a **primeira ocorrência** de `x`                | `lista.remove(2)`     | `[1, 3]`                   |\n",
        "| `pop(i)`       | Remove e retorna o item no índice `i` (padrão: último) | `lista.pop()`         | remove `3`, sobra `[1, 2]` |\n",
        "| `clear()`      | Remove todos os itens                                  | `lista.clear()`       | `[]`                       |\n",
        "| `count(x)`     | Conta quantas vezes `x` aparece                        | `lista.count(2)`      | `1`                        |\n",
        "| `index(x)`     | Retorna o índice da **primeira ocorrência** de `x`     | `lista.index(3)`      | `2`                        |\n",
        "| `sort()`       | Ordena a lista (pode usar `reverse=True`)              | `lista.sort()`        | `[1, 2, 3]`                |\n",
        "| `reverse()`    | Inverte a ordem da lista                               | `lista.reverse()`     | `[3, 2, 1]`                |\n",
        "| `copy()`       | Faz uma cópia rasa da lista                            | `nova = lista.copy()` | `nova` é independente      |\n",
        "\n",
        "---\n",
        "\n",
        "### ⚡ Dica prática\n",
        "\n",
        "Você pode descobrir o que faz cada método assim:\n",
        "\n",
        "```python\n",
        "help(list)           # mostra a doc completa de listas\n",
        "help(lista.sort)     # mostra detalhes só do .sort()\n",
        "help(lista.pop)      # mostra detalhes só do .pop()\n",
        "```\n",
        "\n",
        "---"
      ],
      "metadata": {
        "id": "QSsKYZCLBfK5"
      }
    },
    {
      "cell_type": "markdown",
      "source": [
        "**dunder methods** (de *double underscore*, ex.: `__len__`, `__getitem__`), que aparecem quando usamos `dir(lista)`.\n",
        "\n",
        "Esses métodos não são feitos para serem chamados diretamente. Eles são usados **implicitamente pelo Python** quando se escreve um código “normal”.\n",
        "\n",
        "---\n",
        "\n",
        "## 🔎 Exemplos de dunder methods em listas\n",
        "\n",
        "| Dunder method       | O que faz “por baixo do capô” | Exemplo “normal”  | Equivalente explícito      |\n",
        "| ------------------- | ----------------------------- | ----------------- | -------------------------- |\n",
        "| `__len__()`         | Retorna o tamanho da lista    | `len(lista)`      | `lista.__len__()`          |\n",
        "| `__getitem__(i)`    | Retorna o item no índice `i`  | `lista[0]`        | `lista.__getitem__(0)`     |\n",
        "| `__setitem__(i, x)` | Modifica o item no índice `i` | `lista[1] = 99`   | `lista.__setitem__(1, 99)` |\n",
        "| `__delitem__(i)`    | Remove o item no índice `i`   | `del lista[2]`    | `lista.__delitem__(2)`     |\n",
        "| `__iter__()`        | Retorna um iterador da lista  | `for x in lista:` | `it = lista.__iter__()`    |\n",
        "| `__contains__(x)`   | Verifica se contém `x`        | `2 in lista`      | `lista.__contains__(2)`    |\n",
        "| `__add__(outra)`    | Soma listas                   | `[1,2] + [3]`     | `[1,2].__add__([3])`       |\n",
        "| `__mul__(n)`        | Repete lista                  | `[1,2]*3`         | `[1,2].__mul__(3)`         |\n",
        "\n",
        "---\n",
        "\n",
        "## 📝 Exemplo prático\n",
        "\n",
        "```python\n",
        "lista = [10, 20, 30]\n",
        "\n",
        "print(len(lista))         # 3\n",
        "print(lista.__len__())    # 3  (mesma coisa)\n",
        "\n",
        "print(lista[0])           # 10\n",
        "print(lista.__getitem__(0))  # 10\n",
        "\n",
        "lista[1] = 99\n",
        "lista.__setitem__(2, 77)\n",
        "print(lista)              # [10, 99, 77]\n",
        "\n",
        "del lista[0]\n",
        "lista.__delitem__(0)\n",
        "print(lista)              # [77]\n",
        "```\n",
        "\n",
        "---\n",
        "\n",
        "## ⚡ Por que isso importa?\n",
        "\n",
        "* Quando você usa operadores ou funções embutidas (`+`, `in`, `len`, `[]`, `for`, etc.), o Python **na verdade chama esses métodos especiais**.\n",
        "* Isso explica porque listas, strings, tuplas e até objetos que você cria conseguem se comportar de maneira “mágica”.\n",
        "\n",
        "👉 Exemplo: se você quiser criar uma **classe que se comporte como lista**, basta implementar esses métodos.\n",
        "\n",
        "---\n"
      ],
      "metadata": {
        "id": "IR653INpBsvn"
      }
    }
  ]
}