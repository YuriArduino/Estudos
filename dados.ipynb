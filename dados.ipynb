{
  "nbformat": 4,
  "nbformat_minor": 0,
  "metadata": {
    "colab": {
      "provenance": [],
      "authorship_tag": "ABX9TyPzcHpQFkTQ75H/K1wpoaRD"
    },
    "kernelspec": {
      "name": "python3",
      "display_name": "Python 3"
    },
    "language_info": {
      "name": "python"
    }
  },
  "cells": [
    {
      "cell_type": "code",
      "execution_count": 3,
      "metadata": {
        "colab": {
          "base_uri": "https://localhost:8080/"
        },
        "id": "IyBLELxr6dEz",
        "outputId": "760e05f2-2a0d-4b30-c3af-996f532ffcca"
      },
      "outputs": [
        {
          "output_type": "stream",
          "name": "stdout",
          "text": [
            "<class 'str'> <class 'str'>\n"
          ]
        }
      ],
      "source": [
        "# Define uma string usando aspas simples\n",
        "s1 = 'Alura'\n",
        "# Define outra string usando aspas duplas\n",
        "s2 = \"Alura\"\n",
        "\n",
        "# Imprime o tipo de dado de cada variável para mostrar que ambas são strings\n",
        "print(type(s1),type(s2))"
      ]
    },
    {
      "cell_type": "code",
      "source": [
        "# Define uma string com espaços em branco no início e no final\n",
        "texto =  \"       Maiara Biagiotti \"\n",
        "# Esta variável será usada nos exemplos subsequentes de manipulação de string"
      ],
      "metadata": {
        "id": "EAT-0Itw7aYk"
      },
      "execution_count": 4,
      "outputs": []
    },
    {
      "cell_type": "code",
      "source": [
        "# Aplica o método .upper() à string 'texto'.\n",
        "# Este método retorna uma NOVA string com todos os caracteres convertidos para maiúsculas.\n",
        "# A string original 'texto' NÃO é modificada.\n",
        "texto.upper()"
      ],
      "metadata": {
        "colab": {
          "base_uri": "https://localhost:8080/",
          "height": 35
        },
        "id": "PT5PWPS68WNM",
        "outputId": "ef06f19a-93f6-4205-9789-987b4a4e094f"
      },
      "execution_count": 5,
      "outputs": [
        {
          "output_type": "execute_result",
          "data": {
            "text/plain": [
              "'       MAIARA BIAGIOTTI '"
            ],
            "application/vnd.google.colaboratory.intrinsic+json": {
              "type": "string"
            }
          },
          "metadata": {},
          "execution_count": 5
        }
      ]
    },
    {
      "cell_type": "code",
      "source": [
        "# Aplica o método .lower() à string 'texto'.\n",
        "# Este método retorna uma NOVA string com todos os caracteres convertidos para minúsculas.\n",
        "# A string original 'texto' NÃO é modificada.\n",
        "texto.lower()"
      ],
      "metadata": {
        "colab": {
          "base_uri": "https://localhost:8080/",
          "height": 35
        },
        "id": "jqnwCiFs8XXh",
        "outputId": "3bf986a7-c182-4e00-c89d-2a208d6355e2"
      },
      "execution_count": 6,
      "outputs": [
        {
          "output_type": "execute_result",
          "data": {
            "text/plain": [
              "'       maiara biagiotti '"
            ],
            "application/vnd.google.colaboratory.intrinsic+json": {
              "type": "string"
            }
          },
          "metadata": {},
          "execution_count": 6
        }
      ]
    },
    {
      "cell_type": "code",
      "metadata": {
        "colab": {
          "base_uri": "https://localhost:8080/"
        },
        "id": "b5b90108",
        "outputId": "724c6b09-4260-464e-b70d-62254ee5a52e"
      },
      "source": [
        "# Usa a função print() para exibir o resultado do método .upper().\n",
        "# Usar print() remove as aspas simples que o ambiente do notebook adiciona ao exibir o valor de uma variável ou expressão no final da célula.\n",
        "print(texto.upper())\n",
        "# Usa a função print() para exibir o resultado do método .lower().\n",
        "print(texto.lower())"
      ],
      "execution_count": 7,
      "outputs": [
        {
          "output_type": "stream",
          "name": "stdout",
          "text": [
            "       MAIARA BIAGIOTTI \n",
            "       maiara biagiotti \n"
          ]
        }
      ]
    },
    {
      "cell_type": "code",
      "source": [
        "# Aplica o método .strip() à string 'texto'.\n",
        "# Este método retorna uma NOVA string com os espaços em branco (início e fim) removidos.\n",
        "# A string original 'texto' NÃO é modificada.\n",
        "texto.strip()"
      ],
      "metadata": {
        "colab": {
          "base_uri": "https://localhost:8080/",
          "height": 35
        },
        "id": "P11LMGK386WC",
        "outputId": "03aad135-fe89-40ab-a612-a3030e3b6a71"
      },
      "execution_count": 8,
      "outputs": [
        {
          "output_type": "execute_result",
          "data": {
            "text/plain": [
              "'Maiara Biagiotti'"
            ],
            "application/vnd.google.colaboratory.intrinsic+json": {
              "type": "string"
            }
          },
          "metadata": {},
          "execution_count": 8
        }
      ]
    },
    {
      "cell_type": "code",
      "source": [
        "# Aplica o método .replace() à string 'texto'.\n",
        "# Este método retorna uma NOVA string onde todas as ocorrências do primeiro argumento ('i')\n",
        "# são substituídas pelo segundo argumento ('y').\n",
        "# A string original 'texto' NÃO é modificada.\n",
        "# Neste caso, como a string original contém 'I' maiúsculo, a substituição por 'y' minúsculo não ocorre.\n",
        "texto.replace('i','y')"
      ],
      "metadata": {
        "colab": {
          "base_uri": "https://localhost:8080/",
          "height": 35
        },
        "id": "68jiyjeA9Ae4",
        "outputId": "64af4cc4-6429-4f16-8d79-679d816051c6"
      },
      "execution_count": 9,
      "outputs": [
        {
          "output_type": "execute_result",
          "data": {
            "text/plain": [
              "'       Mayara Byagyotty '"
            ],
            "application/vnd.google.colaboratory.intrinsic+json": {
              "type": "string"
            }
          },
          "metadata": {},
          "execution_count": 9
        }
      ]
    },
    {
      "cell_type": "code",
      "source": [
        "# Imprime o valor atual da variável 'texto'.\n",
        "# Note que as operações anteriores (.upper(), .lower(), .strip(), .replace())\n",
        "# não alteraram a string original 'texto', pois elas retornam novas strings.\n",
        "print(texto)"
      ],
      "metadata": {
        "colab": {
          "base_uri": "https://localhost:8080/"
        },
        "id": "-t2LQH_j9OQS",
        "outputId": "9b3f0a2e-86e7-4bce-c3cf-5216b1109efe"
      },
      "execution_count": 10,
      "outputs": [
        {
          "output_type": "stream",
          "name": "stdout",
          "text": [
            "       Maiara Biagiotti \n"
          ]
        }
      ]
    },
    {
      "cell_type": "code",
      "source": [
        "# Reaplica o método .strip() à string 'texto'.\n",
        "# Confirma que o método retorna a string sem espaços iniciais/finais,\n",
        "# mas a variável 'texto' em si não foi atualizada para armazenar este resultado.\n",
        "texto.strip()"
      ],
      "metadata": {
        "colab": {
          "base_uri": "https://localhost:8080/",
          "height": 35
        },
        "id": "MeOPd7f6-TvJ",
        "outputId": "531addc6-d951-422f-9e50-01c9bac153a7"
      },
      "execution_count": 11,
      "outputs": [
        {
          "output_type": "execute_result",
          "data": {
            "text/plain": [
              "'Maiara Biagiotti'"
            ],
            "application/vnd.google.colaboratory.intrinsic+json": {
              "type": "string"
            }
          },
          "metadata": {},
          "execution_count": 11
        }
      ]
    },
    {
      "cell_type": "code",
      "source": [
        "# Código com erro!\n",
        "# texto.split() retorna uma lista. [0] acessa o primeiro elemento dessa lista.\n",
        "# O erro ocorre porque estamos tentando chamar o método .replace() em uma lista ([0]),\n",
        "# e listas não possuem o método .replace(). O método .replace() é para strings.\n",
        "# texto.split([0].replace('i', 'y')) # Linha original com erro"
      ],
      "metadata": {
        "id": "SFkRzvVhK10r"
      },
      "execution_count": 12,
      "outputs": []
    },
    {
      "cell_type": "code",
      "source": [
        "texto = \"       Maiara Biagiotti \"\n",
        "# Define a string original com espaços em branco no início e no final.\n",
        "\n",
        "# Primeiro, removemos os espaços em branco extras do início e do final.\n",
        "# .strip() retorna uma nova string sem esses espaços.\n",
        "texto_limpo = texto.strip()\n",
        "\n",
        "# Dividimos a string limpa em uma lista de substrings, usando o espaço (' ') como separador.\n",
        "# Isso separa o nome do sobrenome. partes_nome será ['Maiara', 'Biagiotti'].\n",
        "partes_nome = texto_limpo.split(' ')\n",
        "\n",
        "# Acessamos o primeiro elemento da lista (o nome, que é partes_nome[0])\n",
        "# e aplicamos o método .replace() APENAS a ele para substituir 'i' por 'y'.\n",
        "primeiro_nome_modificado = partes_nome[0].replace('i', 'y')\n",
        "\n",
        "# Juntamos o nome modificado com o sobrenome (o segundo elemento da lista, partes_nome[1]).\n",
        "# Adicionamos um espaço (' ') entre eles.\n",
        "texto = primeiro_nome_modificado + ' ' + partes_nome[1]\n",
        "\n",
        "# Opcional: converter a string resultante para maiúsculas se desejar.\n",
        "# Isso sobrescreve o valor atual da variável 'texto'.\n",
        "texto = texto.upper()\n",
        "\n",
        "# A última linha da célula exibe o valor da variável 'texto'.\n",
        "texto"
      ],
      "metadata": {
        "colab": {
          "base_uri": "https://localhost:8080/",
          "height": 35
        },
        "id": "_fstgJl5-X_w",
        "outputId": "1e80cbce-c8c9-4749-cb46-5eed3398b443"
      },
      "execution_count": 13,
      "outputs": [
        {
          "output_type": "execute_result",
          "data": {
            "text/plain": [
              "'MAYARA BIAGIOTTI'"
            ],
            "application/vnd.google.colaboratory.intrinsic+json": {
              "type": "string"
            }
          },
          "metadata": {},
          "execution_count": 13
        }
      ]
    },
    {
      "cell_type": "code",
      "source": [
        "# Define a string com o nome e sobrenome em maiúsculas.\n",
        "texto = \"MAYARA BIAGIOTTI\"\n",
        "\n",
        "# Aplica o método .title() diretamente à string completa.\n",
        "# Este método retorna uma NOVA string onde a primeira letra de cada palavra é maiúscula\n",
        "# e as demais letras são minúsculas.\n",
        "texto_formatado = texto.title()\n",
        "\n",
        "# Imprime a string formatada para visualização.\n",
        "print(texto_formatado)"
      ],
      "metadata": {
        "colab": {
          "base_uri": "https://localhost:8080/"
        },
        "id": "ZOEDhAZt_L0N",
        "outputId": "4bb07c30-96f7-4e7e-b2a2-07a8cea709f4"
      },
      "execution_count": 14,
      "outputs": [
        {
          "output_type": "stream",
          "name": "stdout",
          "text": [
            "Mayara Biagiotti\n"
          ]
        }
      ]
    },
    {
      "cell_type": "code",
      "source": [
        "# Acessa o segundo caractere (índice 1) da string 'texto_limpo'.\n",
        "# texto_limpo era \"Maiara Biagiotti\", então texto_limpo[1] é 'a'.\n",
        "# Tenta aplicar o método .replace('i', 'y') a este caractere 'a'.\n",
        "# Como 'a' não contém 'i', o resultado da substituição é 'a' novamente.\n",
        "texto_limpo[1].replace('i','y')"
      ],
      "metadata": {
        "colab": {
          "base_uri": "https://localhost:8080/",
          "height": 35
        },
        "id": "22WrRBQyKfAW",
        "outputId": "49762941-7b50-449e-8065-45b12133f86b"
      },
      "execution_count": 15,
      "outputs": [
        {
          "output_type": "execute_result",
          "data": {
            "text/plain": [
              "'a'"
            ],
            "application/vnd.google.colaboratory.intrinsic+json": {
              "type": "string"
            }
          },
          "metadata": {},
          "execution_count": 15
        }
      ]
    },
    {
      "cell_type": "code",
      "metadata": {
        "colab": {
          "base_uri": "https://localhost:8080/"
        },
        "id": "cf615201",
        "outputId": "d16b642b-7363-4912-9a1b-86f8b0e7bd65"
      },
      "source": [
        "# Define uma string de exemplo para demonstrar indexação e replace em um único caractere.\n",
        "minha_string = \"exemplo\"\n",
        "\n",
        "# Acessa o primeiro caractere da string usando indexação (índice 0).\n",
        "# minha_string[0] retorna a string \"e\".\n",
        "primeiro_caractere = minha_string[0] # 'e'\n",
        "\n",
        "# Aplica o método replace() a este caractere individual (\"e\").\n",
        "# Se o caractere for 'e', ele será substituído por 'a'.\n",
        "# Se não for 'e', o caractere permanece o mesmo.\n",
        "# \"e\".replace('e', 'a') resulta em \"a\".\n",
        "caractere_modificado = primeiro_caractere.replace('e', 'a')\n",
        "\n",
        "# Imprime o caractere original e o caractere modificado para comparação.\n",
        "print(f\"Primeiro caractere original: {primeiro_caractere}\")\n",
        "print(f\"Primeiro caractere modificado: {caractere_modificado}\")\n",
        "\n",
        "# Exemplo adicional com um caractere que não será substituído ('p').\n",
        "outra_string = \"python\"\n",
        "# Acessa o primeiro caractere ('p').\n",
        "primeiro_caractere_outra = outra_string[0] # 'p'\n",
        "# Tenta substituir 'e' por 'a' em 'p'. Como 'p' não contém 'e', o resultado é 'p'.\n",
        "caractere_modificado_outra = primeiro_caractere_outra.replace('e', 'a') # 'p'\n",
        "\n",
        "# Imprime os resultados para a segunda string.\n",
        "print(f\"\\nPrimeiro caractere original (outra string): {primeiro_caractere_outra}\")\n",
        "print(f\"Primeiro caractere modificado (outra string): {caractere_modificado_outra}\")"
      ],
      "execution_count": 16,
      "outputs": [
        {
          "output_type": "stream",
          "name": "stdout",
          "text": [
            "Primeiro caractere original: e\n",
            "Primeiro caractere modificado: a\n",
            "\n",
            "Primeiro caractere original (outra string): p\n",
            "Primeiro caractere modificado (outra string): p\n"
          ]
        }
      ]
    },
    {
      "cell_type": "code",
      "source": [],
      "metadata": {
        "id": "njelTXFWM2mC"
      },
      "execution_count": 16,
      "outputs": []
    },
    {
      "cell_type": "code",
      "metadata": {
        "colab": {
          "base_uri": "https://localhost:8080/"
        },
        "id": "d7ffede7",
        "outputId": "b0c3cb62-d5b7-4365-eb41-998a5aedb878"
      },
      "source": [
        "# Define uma string de exemplo.\n",
        "minha_string = \"Python\"\n",
        "\n",
        "# Inicia um loop 'for' que irá iterar sobre cada caractere individual da string 'minha_string'.\n",
        "# Em cada iteração, a variável 'letra' receberá o próximo caractere da string.\n",
        "for letra in minha_string:\n",
        "  # Imprime o valor da variável 'letra'.\n",
        "  # Por padrão, a função print() adiciona uma nova linha após cada impressão.\n",
        "  print(letra)"
      ],
      "execution_count": 17,
      "outputs": [
        {
          "output_type": "stream",
          "name": "stdout",
          "text": [
            "P\n",
            "y\n",
            "t\n",
            "h\n",
            "o\n",
            "n\n"
          ]
        }
      ]
    },
    {
      "cell_type": "code",
      "source": [
        "# Define uma string de exemplo (nome).\n",
        "letreiro = \"Yuri\"\n",
        "# Inicia um loop 'for' para iterar sobre cada caractere da string 'letreiro'.\n",
        "# Em cada passo do loop, 'cada_letra' será o caractere atual.\n",
        "for cada_letra in letreiro:\n",
        "  # Imprime o caractere atual, resultando em cada letra em uma nova linha.\n",
        "  print(cada_letra)"
      ],
      "metadata": {
        "colab": {
          "base_uri": "https://localhost:8080/"
        },
        "id": "VSV-INxvNOj7",
        "outputId": "7437f3bc-8566-4925-890e-4a9b52f2f393"
      },
      "execution_count": 18,
      "outputs": [
        {
          "output_type": "stream",
          "name": "stdout",
          "text": [
            "Y\n",
            "u\n",
            "r\n",
            "i\n"
          ]
        }
      ]
    },
    {
      "cell_type": "code",
      "metadata": {
        "colab": {
          "base_uri": "https://localhost:8080/"
        },
        "id": "a3a86c56",
        "outputId": "949e1ed5-134d-472b-eba3-ed84dae40960"
      },
      "source": [
        "# Define uma string de exemplo.\n",
        "minha_string = \"Python\"\n",
        "\n",
        "# Usa range() para gerar uma sequência de índices.\n",
        "# range(0, len(minha_string), 2) começa em 0, vai até (mas não inclui) o comprimento da string, pulando de 2 em 2.\n",
        "# Para \"Python\" (len=6), range gera 0, 2, 4.\n",
        "for i in range(0, len(minha_string), 2):\n",
        "  # Usa fatiamento (slicing) para pegar uma sub-string.\n",
        "  # minha_string[i:i+2] pega os caracteres do índice 'i' até 'i+2' (não incluindo i+2).\n",
        "  # Na 1ª iteração (i=0): minha_string[0:2] -> \"Py\"\n",
        "  # Na 2ª iteração (i=2): minha_string[2:4] -> \"th\"\n",
        "  # Na 3ª iteração (i=4): minha_string[4:6] -> \"on\"\n",
        "  par_letras = minha_string[i:i+2]\n",
        "  # Imprime o par de letras em uma nova linha.\n",
        "  print(par_letras)"
      ],
      "execution_count": 19,
      "outputs": [
        {
          "output_type": "stream",
          "name": "stdout",
          "text": [
            "Py\n",
            "th\n",
            "on\n"
          ]
        }
      ]
    },
    {
      "cell_type": "code",
      "source": [
        "# A função chr() retorna o caractere Unicode cujo ponto de código é o número inteiro especificado.\n",
        "# 64 é o ponto de código para o símbolo '@'.\n",
        "chr(64)"
      ],
      "metadata": {
        "colab": {
          "base_uri": "https://localhost:8080/",
          "height": 35
        },
        "id": "SS8adawPRuJx",
        "outputId": "0737fdec-c987-43d5-c511-b64191eb50cc"
      },
      "execution_count": 20,
      "outputs": [
        {
          "output_type": "execute_result",
          "data": {
            "text/plain": [
              "'@'"
            ],
            "application/vnd.google.colaboratory.intrinsic+json": {
              "type": "string"
            }
          },
          "metadata": {},
          "execution_count": 20
        }
      ]
    },
    {
      "cell_type": "code",
      "source": [
        "# Concatena caracteres obtidos a partir de seus pontos de código Unicode.\n",
        "# chr(79) é 'O'\n",
        "# chr(108) é 'l'\n",
        "# chr(225) é 'á'\n",
        "# A concatenação resulta na string \"Olá\".\n",
        "chr(79) + chr(108) + chr(225)"
      ],
      "metadata": {
        "colab": {
          "base_uri": "https://localhost:8080/",
          "height": 35
        },
        "id": "uNasRJFER2RG",
        "outputId": "42c19e6c-94ad-4344-c1af-9f460c1c72d1"
      },
      "execution_count": 21,
      "outputs": [
        {
          "output_type": "execute_result",
          "data": {
            "text/plain": [
              "'Olá'"
            ],
            "application/vnd.google.colaboratory.intrinsic+json": {
              "type": "string"
            }
          },
          "metadata": {},
          "execution_count": 21
        }
      ]
    },
    {
      "cell_type": "code",
      "metadata": {
        "colab": {
          "base_uri": "https://localhost:8080/"
        },
        "id": "b3fe4536",
        "outputId": "36cccc33-6196-4169-83b3-ea9c10a1b79d"
      },
      "source": [
        "# Exemplos de símbolos Unicode usando chr() e seus respectivos pontos de código (em hexadecimal).\n",
        "\n",
        "# Símbolos matemáticos\n",
        "# 0x2211 é o código hexadecimal para o símbolo de Soma (∑)\n",
        "print(f\"Símbolo de Soma (U+2211): {chr(0x2211)}\")\n",
        "# 0x222B é o código hexadecimal para o símbolo de Integral (∫)\n",
        "print(f\"Símbolo de Integral (U+222B): {chr(0x222B)}\")\n",
        "# 0x221A é o código hexadecimal para o símbolo de Raiz Quadrada (√)\n",
        "print(f\"Símbolo de Raiz Quadrada (U+221A): {chr(0x221A)}\")\n",
        "\n",
        "# Símbolos de moeda\n",
        "# 0x20AC é o código hexadecimal para o símbolo de Euro (€)\n",
        "print(f\"\\nSímbolo de Euro (U+20AC): {chr(0x20AC)}\")\n",
        "# 0x00A3 é o código hexadecimal para o símbolo de Libra (£)\n",
        "print(f\"Símbolo de Libra (U+00A3): {chr(0x00A3)}\")\n",
        "# 0x00A5 é o código hexadecimal para o símbolo de Yen (¥)\n",
        "print(f\"Símbolo de Yen (U+00A5): {chr(0x00A5)}\")\n",
        "\n",
        "# Símbolos de setas\n",
        "# 0x2192 é o código hexadecimal para a Seta para a Direita (→)\n",
        "print(f\"\\nSeta para a Direita (U+2192): {chr(0x2192)}\")\n",
        "# 0x2190 é o código hexadecimal para a Seta para a Esquerda (←)\n",
        "print(f\"Seta para a Esquerda (U+2190): {chr(0x2190)}\")\n",
        "\n",
        "# Outros símbolos comuns\n",
        "# 0x2764 é o código hexadecimal para o Coração (❤)\n",
        "print(f\"\\nCoração (U+2764): {chr(0x2764)}\")\n",
        "# 0x2B50 é o código hexadecimal para a Estrela (⭐)\n",
        "print(f\"Estrela (U+2B50): {chr(0x2B50)}\")\n",
        "# 0x2713 é o código hexadecimal para o Check Mark (✓)\n",
        "print(f\"Check Mark (U+2713): {chr(0x2713)}\")"
      ],
      "execution_count": 22,
      "outputs": [
        {
          "output_type": "stream",
          "name": "stdout",
          "text": [
            "Símbolo de Soma (U+2211): ∑\n",
            "Símbolo de Integral (U+222B): ∫\n",
            "Símbolo de Raiz Quadrada (U+221A): √\n",
            "\n",
            "Símbolo de Euro (U+20AC): €\n",
            "Símbolo de Libra (U+00A3): £\n",
            "Símbolo de Yen (U+00A5): ¥\n",
            "\n",
            "Seta para a Direita (U+2192): →\n",
            "Seta para a Esquerda (U+2190): ←\n",
            "\n",
            "Coração (U+2764): ❤\n",
            "Estrela (U+2B50): ⭐\n",
            "Check Mark (U+2713): ✓\n"
          ]
        }
      ]
    },
    {
      "cell_type": "code",
      "source": [
        "# A função input() exibe um prompt (a string entre parênteses) para o usuário\n",
        "# e espera que o usuário digite algo e pressione Enter.\n",
        "# O valor digitado pelo usuário é retornado como uma string.\n",
        "# Armazenamos a string digitada na variável 'nome'.\n",
        "nome = input ('nome:')"
      ],
      "metadata": {
        "colab": {
          "base_uri": "https://localhost:8080/"
        },
        "id": "4KOmc0ohSfWe",
        "outputId": "55986ab3-535d-46d7-a7dd-619f28b79127"
      },
      "execution_count": 23,
      "outputs": [
        {
          "name": "stdout",
          "output_type": "stream",
          "text": [
            "nome:Yuri\n"
          ]
        }
      ]
    },
    {
      "cell_type": "code",
      "source": [
        "# Exibe o valor atual da variável 'nome'.\n",
        "# O ambiente do notebook mostra o valor da variável no final da célula,\n",
        "# geralmente com aspas simples para indicar que é uma string.\n",
        "nome"
      ],
      "metadata": {
        "colab": {
          "base_uri": "https://localhost:8080/",
          "height": 35
        },
        "id": "rwv5wwDHStPe",
        "outputId": "62cdef0e-9b37-4510-d53e-5f3feea7b2ac"
      },
      "execution_count": 24,
      "outputs": [
        {
          "output_type": "execute_result",
          "data": {
            "text/plain": [
              "'Yuri'"
            ],
            "application/vnd.google.colaboratory.intrinsic+json": {
              "type": "string"
            }
          },
          "metadata": {},
          "execution_count": 24
        }
      ]
    },
    {
      "cell_type": "code",
      "source": [
        "# Usa a função print() para exibir o valor da variável 'nome'.\n",
        "# Usar print() exibe o valor sem as aspas adicionadas pelo ambiente do notebook.\n",
        "print(nome)"
      ],
      "metadata": {
        "colab": {
          "base_uri": "https://localhost:8080/"
        },
        "id": "nOozbxMDS_7Z",
        "outputId": "30cd11bc-b7be-49f2-adc6-13d1ddae3659"
      },
      "execution_count": 25,
      "outputs": [
        {
          "output_type": "stream",
          "name": "stdout",
          "text": [
            "Yuri\n"
          ]
        }
      ]
    },
    {
      "cell_type": "code",
      "source": [
        "# Solicita ao usuário que digite o ano de entrada usando input().\n",
        "# O valor digitado é retornado como uma string e armazenado em 'ano_entrada'.\n",
        "ano_entrada = input('Ano de entrada:')"
      ],
      "metadata": {
        "colab": {
          "base_uri": "https://localhost:8080/"
        },
        "id": "NfNUkKyETLC0",
        "outputId": "f28b2621-fad3-4de7-9972-4f58d45d842c"
      },
      "execution_count": 26,
      "outputs": [
        {
          "name": "stdout",
          "output_type": "stream",
          "text": [
            "Ano de entrada:2025\n"
          ]
        }
      ]
    },
    {
      "cell_type": "code",
      "source": [
        "# Usa a função type() para verificar e imprimir o tipo de dado da variável 'ano_entrada'.\n",
        "# A função input() sempre retorna uma string, então o tipo será <class 'str'>.\n",
        "type(ano_entrada)"
      ],
      "metadata": {
        "colab": {
          "base_uri": "https://localhost:8080/"
        },
        "id": "_kVMUZW7TSJ2",
        "outputId": "e71b53b7-348c-4777-e64c-3aff26e18cbf"
      },
      "execution_count": 27,
      "outputs": [
        {
          "output_type": "execute_result",
          "data": {
            "text/plain": [
              "str"
            ]
          },
          "metadata": {},
          "execution_count": 27
        }
      ]
    },
    {
      "cell_type": "code",
      "source": [
        "# Solicita ao usuário o ano de entrada usando input().\n",
        "# Imediatamente, converte a string retornada por input() para um número inteiro (int())\n",
        "# e armazena o resultado na variável 'ano_entrada'.\n",
        "# Isso é útil quando você espera que o usuário digite um número inteiro.\n",
        "ano_entrada = int(input('Ano de entrada:')) #manipular o tipo de variavel"
      ],
      "metadata": {
        "colab": {
          "base_uri": "https://localhost:8080/"
        },
        "id": "i3Tx3D26TZqC",
        "outputId": "094629c4-653c-46d9-97d4-a8046d1b2a69"
      },
      "execution_count": 28,
      "outputs": [
        {
          "name": "stdout",
          "output_type": "stream",
          "text": [
            "Ano de entrada:2025\n"
          ]
        }
      ]
    },
    {
      "cell_type": "code",
      "source": [
        "# Usa a função type() para verificar e imprimir o tipo de dado da variável 'ano_entrada'\n",
        "# após a conversão para inteiro na célula anterior.\n",
        "# O tipo agora será <class 'int'>.\n",
        "type(ano_entrada)"
      ],
      "metadata": {
        "colab": {
          "base_uri": "https://localhost:8080/"
        },
        "id": "8eWOWf6lToJ8",
        "outputId": "12606a96-90e8-478a-ccf7-095b200f0ecb"
      },
      "execution_count": 29,
      "outputs": [
        {
          "output_type": "execute_result",
          "data": {
            "text/plain": [
              "int"
            ]
          },
          "metadata": {},
          "execution_count": 29
        }
      ]
    },
    {
      "cell_type": "code",
      "source": [
        "# Solicita ao usuário que digite a nota do exame usando input().\n",
        "# Converte a string retornada por input() para um número de ponto flutuante (float())\n",
        "# e armazena o resultado na variável 'nota_entrada'.\n",
        "# Isso é útil para números que podem ter casas decimais.\n",
        "\n",
        "# Pede a entrada do usuário\n",
        "nota_str = input(\"Digite a nota do exame: \")\n",
        "\n",
        "# Substitui a vírgula (,) por um ponto (.) antes de converter para float\n",
        "nota_entrada = float(nota_str.replace(',', '.'))\n",
        "\n",
        "# Opcional: Imprimir o tipo para verificar\n",
        "# print(type(nota_entrada))\n",
        "\n",
        "# Opcional: Imprimir o valor\n",
        "# print(nota_entrada)"
      ],
      "metadata": {
        "colab": {
          "base_uri": "https://localhost:8080/"
        },
        "id": "dTb9ygMTUbcl",
        "outputId": "bafc45ab-971c-4c01-edf4-a80660d46dd4"
      },
      "execution_count": 31,
      "outputs": [
        {
          "name": "stdout",
          "output_type": "stream",
          "text": [
            "Digite a nota do exame: 9,9\n"
          ]
        }
      ]
    },
    {
      "cell_type": "code",
      "source": [
        "# Usa a função type() para verificar e imprimir o tipo de dado da variável 'nota_entrada'\n",
        "# após a conversão para float na célula anterior.\n",
        "# O tipo agora será <class 'float'>.\n",
        "type(nota_entrada)"
      ],
      "metadata": {
        "colab": {
          "base_uri": "https://localhost:8080/"
        },
        "id": "aPV_Z3LdUnMa",
        "outputId": "076a7686-9044-4353-c155-cd78f29f2b3b"
      },
      "execution_count": 32,
      "outputs": [
        {
          "output_type": "execute_result",
          "data": {
            "text/plain": [
              "float"
            ]
          },
          "metadata": {},
          "execution_count": 32
        }
      ]
    },
    {
      "cell_type": "code",
      "source": [
        "# Usa uma f-string para formatar e imprimir o ano de entrada.\n",
        "# A variável 'ano_entrada' é inserida diretamente nas chaves {}.\n",
        "# print() garante que a saída apareça em uma nova linha.\n",
        "print(f\"Ano de entrada: {ano_entrada}\")\n",
        "# Usa outra f-string para formatar e imprimir a nota do exame.\n",
        "# A variável 'nota_entrada' é inserida nas chaves {}.\n",
        "# Este print() também garante que a saída apareça em uma nova linha,\n",
        "# separada da linha anterior.\n",
        "print(f\"Nota do exame do ingresso: {nota_entrada}\")"
      ],
      "metadata": {
        "colab": {
          "base_uri": "https://localhost:8080/"
        },
        "id": "0DvbOFyfU_8r",
        "outputId": "6a950874-c54e-481a-e463-96d53304f553"
      },
      "execution_count": 33,
      "outputs": [
        {
          "output_type": "stream",
          "name": "stdout",
          "text": [
            "Ano de entrada: 2025\n",
            "Nota do exame do ingresso: 9.9\n"
          ]
        }
      ]
    },
    {
      "cell_type": "code",
      "source": [
        "# Define uma lista de strings, onde cada string é o nome de um aluno.\n",
        "# Listas são coleções ordenadas e mutáveis de itens.\n",
        "nome_aluno = ['Fabio','Julia','Aline','Paulo']"
      ],
      "metadata": {
        "id": "bzGDkjVLmA8Y"
      },
      "execution_count": 34,
      "outputs": []
    },
    {
      "cell_type": "code",
      "source": [
        "# Para imprimir o primeiro nome:\n",
        "# nome_aluno[0] acessa o elemento no índice 0 (o primeiro) da lista 'nome_aluno'.\n",
        "print('Primeiro aluno:', nome_aluno[0])\n",
        "\n",
        "# Para imprimir o segundo e terceiro nome:\n",
        "# nome_aluno[1:3] usa fatiamento (slicing) para obter uma sub-lista\n",
        "# começando no índice 1 e indo ATÉ (mas não incluindo) o índice 3.\n",
        "# Isso retorna ['Julia', 'Aline'].\n",
        "print('Segundo e terceiro alunos:', nome_aluno[1:3])\n",
        "\n",
        "# Para imprimir todos os nomes:\n",
        "# Simplesmente imprime a lista completa.\n",
        "print('Todos os alunos:', nome_aluno)"
      ],
      "metadata": {
        "colab": {
          "base_uri": "https://localhost:8080/"
        },
        "id": "M2bIjv6xmPBm",
        "outputId": "850e9205-2435-42c6-8715-811e484d9c39"
      },
      "execution_count": 35,
      "outputs": [
        {
          "output_type": "stream",
          "name": "stdout",
          "text": [
            "Primeiro aluno: Fabio\n",
            "Segundo e terceiro alunos: ['Julia', 'Aline']\n",
            "Todos os alunos: ['Fabio', 'Julia', 'Aline', 'Paulo']\n"
          ]
        }
      ]
    },
    {
      "cell_type": "code",
      "metadata": {
        "colab": {
          "base_uri": "https://localhost:8080/"
        },
        "id": "de4bf50c",
        "outputId": "fe1d8428-ddfd-4739-a9e7-3ad536aab561"
      },
      "source": [
        "# Define um nome em uma variável string.\n",
        "nome = \"Alice\"\n",
        "\n",
        "# Cria uma string usando o método de formatação com o operador %.\n",
        "# %s é um placeholder que será substituído pelo valor da variável 'nome'.\n",
        "# O '%' após a string indica que a formatação será aplicada,\n",
        "# e a variável 'nome' entre parênteses é o valor a ser inserido no %s.\n",
        "mensagem = \"Olá, %s! Bem-vindo(a).\" % nome\n",
        "\n",
        "# Imprime a mensagem formatada.\n",
        "print(mensagem)\n",
        "\n",
        "# Exemplo com outro nome para demonstrar a reutilização da técnica.\n",
        "outro_nome = \"Bob\"\n",
        "outra_mensagem = \"Meu nome é %s.\" % outro_nome\n",
        "print(outra_mensagem)"
      ],
      "execution_count": 36,
      "outputs": [
        {
          "output_type": "stream",
          "name": "stdout",
          "text": [
            "Olá, Alice! Bem-vindo(a).\n",
            "Meu nome é Bob.\n"
          ]
        }
      ]
    },
    {
      "cell_type": "code",
      "metadata": {
        "colab": {
          "base_uri": "https://localhost:8080/"
        },
        "id": "b3ed6524",
        "outputId": "bc3e149c-3a60-4cfb-a1fe-283ff50d087c"
      },
      "source": [
        "# Criamos a lista de nomes para demonstrar o uso do %s com elementos de lista.\n",
        "lista_nomes = ['Alice', 'Bob', 'Charlie']\n",
        "\n",
        "# Acessamos o nome que queremos usar da lista usando indexação.\n",
        "# lista_nomes[1] retorna o elemento no índice 1, que é \"Bob\".\n",
        "nome_desejado = lista_nomes[1] # O índice 1 corresponde ao segundo elemento\n",
        "\n",
        "# Usamos o operador %s com a variável que agora contém o nome acessado da lista.\n",
        "mensagem = \"Olá, %s! Prazer em te conhecer.\" % nome_desejado\n",
        "\n",
        "# Imprimimos a mensagem formatada.\n",
        "print(mensagem)\n",
        "\n",
        "# Exemplo com outro nome da lista (o primeiro nome, Alice) usando indexação.\n",
        "outro_nome_desejado = lista_nomes[0]\n",
        "outra_mensagem = \"Este é %s.\" % outro_nome_desejado\n",
        "print(outra_mensagem)"
      ],
      "execution_count": 37,
      "outputs": [
        {
          "output_type": "stream",
          "name": "stdout",
          "text": [
            "Olá, Bob! Prazer em te conhecer.\n",
            "Este é Alice.\n"
          ]
        }
      ]
    },
    {
      "cell_type": "code",
      "metadata": {
        "colab": {
          "base_uri": "https://localhost:8080/"
        },
        "id": "9d1b9359",
        "outputId": "4f59a187-463f-432c-e7ec-8c2098b51c7b"
      },
      "source": [
        "# Define algumas variáveis de diferentes tipos para demonstrar f-strings.\n",
        "nome = \"Carlos\"\n",
        "idade = 30\n",
        "altura = 1.75\n",
        "\n",
        "# Usando f-string (string formatada literal) para criar uma mensagem formatada.\n",
        "# A string é prefixada com 'f'.\n",
        "# Variáveis e expressões são colocadas diretamente dentro das chaves {}.\n",
        "mensagem_fstring = f\"Olá, meu nome é {nome}, tenho {idade} anos e minha altura é {altura:.2f} metros.\"\n",
        "# O \":.2f\" dentro das chaves formata a variável 'altura' para ter 2 casas decimais após o ponto flutuante.\n",
        "\n",
        "# Imprime a mensagem formatada.\n",
        "print(mensagem_fstring)\n",
        "\n",
        "# Exemplo com uma expressão matemática diretamente dentro da f-string.\n",
        "produto = \"livro\"\n",
        "preco = 45.50\n",
        "quantidade = 2\n",
        "total = preco * quantidade # Calcula o total\n",
        "\n",
        "mensagem_total = f\"Você comprou {quantidade} {produto}(s). O total é R$ {total:.2f}.\"\n",
        "# Aqui, {quantidade}, {produto} e {total:.2f} inserem os valores das variáveis e o resultado da expressão formatado.\n",
        "print(mensagem_total)\n",
        "\n",
        "# Exemplo com acesso a um item de lista diretamente dentro da f-string.\n",
        "frutas = [\"maçã\", \"banana\", \"laranja\"]\n",
        "mensagem_fruta = f\"Minha fruta favorita é {frutas[0]}.\"\n",
        "# {frutas[0]} acessa o primeiro elemento da lista 'frutas' e o insere na string.\n",
        "print(mensagem_fruta)"
      ],
      "execution_count": 38,
      "outputs": [
        {
          "output_type": "stream",
          "name": "stdout",
          "text": [
            "Olá, meu nome é Carlos, tenho 30 anos e minha altura é 1.75 metros.\n",
            "Você comprou 2 livro(s). O total é R$ 91.00.\n",
            "Minha fruta favorita é maçã.\n"
          ]
        }
      ]
    },
    {
      "cell_type": "code",
      "source": [
        "# Define uma lista de nomes.\n",
        "lista_nomes = ['Fabio','Julia','Aline','Paulo']\n",
        "# Demonstra como acessar um elemento da lista (neste caso, o do índice 1, \"Julia\")\n",
        "# diretamente dentro das chaves {} de uma f-string. Não é necessário criar uma variável intermediária.\n",
        "mensagem_com_lista = f\"O aluno selecionado é: {lista_nomes[1]}\"\n",
        "print(mensagem_com_lista)"
      ],
      "metadata": {
        "colab": {
          "base_uri": "https://localhost:8080/"
        },
        "id": "5XB3FmCro94r",
        "outputId": "de9f901b-6037-4460-dbf1-6ca562b3a81c"
      },
      "execution_count": 39,
      "outputs": [
        {
          "output_type": "stream",
          "name": "stdout",
          "text": [
            "O aluno selecionado é: Julia\n"
          ]
        }
      ]
    },
    {
      "cell_type": "code",
      "metadata": {
        "colab": {
          "base_uri": "https://localhost:8080/"
        },
        "id": "a221336d",
        "outputId": "d36d8f54-2240-4814-fad5-0afbc174c8c9"
      },
      "source": [
        "# Comando para instalar a biblioteca Pydantic usando o gerenciador de pacotes pip.\n",
        "# O '!' no início indica que é um comando de shell/terminal a ser executado.\n",
        "# 'pip install pydantic' baixa e instala a biblioteca Pydantic e suas dependências.\n",
        "!pip install pydantic"
      ],
      "execution_count": 41,
      "outputs": [
        {
          "output_type": "stream",
          "name": "stdout",
          "text": [
            "Requirement already satisfied: pydantic in /usr/local/lib/python3.11/dist-packages (2.11.7)\n",
            "Requirement already satisfied: annotated-types>=0.6.0 in /usr/local/lib/python3.11/dist-packages (from pydantic) (0.7.0)\n",
            "Requirement already satisfied: pydantic-core==2.33.2 in /usr/local/lib/python3.11/dist-packages (from pydantic) (2.33.2)\n",
            "Requirement already satisfied: typing-extensions>=4.12.2 in /usr/local/lib/python3.11/dist-packages (from pydantic) (4.14.1)\n",
            "Requirement already satisfied: typing-inspection>=0.4.0 in /usr/local/lib/python3.11/dist-packages (from pydantic) (0.4.1)\n"
          ]
        }
      ]
    },
    {
      "cell_type": "code",
      "metadata": {
        "colab": {
          "base_uri": "https://localhost:8080/"
        },
        "id": "e8de937f",
        "outputId": "3151254f-8e82-42fd-c714-c2e1397010c2"
      },
      "source": [
        "# Importa a classe BaseModel da biblioteca pydantic.\n",
        "# BaseModel é a classe base para criar modelos de dados com validação.\n",
        "from pydantic import BaseModel\n",
        "\n",
        "# Define um modelo de dados chamado Aluno que herda de BaseModel.\n",
        "# Isso cria uma estrutura esperada para dados de alunos.\n",
        "class Aluno(BaseModel):\n",
        "    # Define os atributos (campos) que um objeto Aluno deve ter e seus tipos de dados esperados.\n",
        "    nome: str   # O nome deve ser uma string.\n",
        "    idade: int  # A idade deve ser um número inteiro.\n",
        "    curso: str  # O curso deve ser uma string.\n",
        "\n",
        "# Cria uma instância (um objeto) do modelo Aluno.\n",
        "# Passamos os valores para os atributos definidos no modelo.\n",
        "aluno1 = Aluno(nome=\"Ana Clara\", idade=22, curso=\"Engenharia\")\n",
        "\n",
        "# Usa uma f-string para formatar e imprimir as informações do objeto aluno1.\n",
        "# Acessamos os atributos do objeto usando a notação de ponto (aluno1.nome, aluno1.idade, aluno1.curso)\n",
        "# diretamente dentro das chaves {} da f-string.\n",
        "mensagem_aluno = f\"Informações do Aluno: Nome: {aluno1.nome}, Idade: {aluno1.idade}, Curso: {aluno1.curso}\"\n",
        "\n",
        "# Imprime a mensagem formatada.\n",
        "print(mensagem_aluno)\n",
        "\n",
        "# Cria outra instância do modelo Aluno e imprime suas informações usando a mesma técnica.\n",
        "aluno2 = Aluno(nome=\"Bruno\", idade=25, curso=\"Ciência da Computação\")\n",
        "mensagem_aluno2 = f\"Informações do Aluno: Nome: {aluno2.nome}, Idade: {aluno2.idade}, Curso: {aluno2.curso}\"\n",
        "print(mensagem_aluno2)"
      ],
      "execution_count": 42,
      "outputs": [
        {
          "output_type": "stream",
          "name": "stdout",
          "text": [
            "Informações do Aluno: Nome: Ana Clara, Idade: 22, Curso: Engenharia\n",
            "Informações do Aluno: Nome: Bruno, Idade: 25, Curso: Ciência da Computação\n"
          ]
        }
      ]
    },
    {
      "cell_type": "markdown",
      "metadata": {
        "id": "b1ba226e"
      },
      "source": [
        "### Exemplo 1: Usando um Modelo Pydantic\n",
        "Esta abordagem é ideal para quando você tem dados com uma estrutura bem definida e quer validação de tipos."
      ]
    },
    {
      "cell_type": "code",
      "metadata": {
        "colab": {
          "base_uri": "https://localhost:8080/"
        },
        "id": "d3693ef4",
        "outputId": "798844e6-1dce-48da-f81c-60f50b861f13"
      },
      "source": [
        "# Reutiliza a importação e definição da classe PessoaPydantic se as células anteriores foram executadas.\n",
        "from pydantic import BaseModel\n",
        "\n",
        "# Define o modelo de dados PessoaPydantic.\n",
        "class PessoaPydantic(BaseModel):\n",
        "    nome: str\n",
        "    idade: int\n",
        "    cidade: str\n",
        "\n",
        "# Cria uma instância (objeto) do modelo PessoaPydantic.\n",
        "pessoa_pydantic = PessoaPydantic(nome=\"Carlos\", idade=30, cidade=\"São Paulo\")\n",
        "\n",
        "# Imprime as informações usando f-string e acessando os atributos do objeto com a notação de ponto.\n",
        "print(f\"Pydantic: Nome: {pessoa_pydantic.nome}, Idade: {pessoa_pydantic.idade}, Cidade: {pessoa_pydantic.cidade}\")\n",
        "\n",
        "# Exemplo de como acessar um atributo individualmente.\n",
        "# print(pessoa_pydantic.nome)"
      ],
      "execution_count": 43,
      "outputs": [
        {
          "output_type": "stream",
          "name": "stdout",
          "text": [
            "Pydantic: Nome: Carlos, Idade: 30, Cidade: São Paulo\n"
          ]
        }
      ]
    },
    {
      "cell_type": "markdown",
      "metadata": {
        "id": "fe3b07f1"
      },
      "source": [
        "### Exemplo 2: Usando um Dicionário Python\n",
        "Dicionários são flexíveis e úteis para dados semi-estruturados ou quando a validação formal não é necessária."
      ]
    },
    {
      "cell_type": "code",
      "metadata": {
        "colab": {
          "base_uri": "https://localhost:8080/"
        },
        "id": "574b8a9f",
        "outputId": "243ee532-0a7d-43e5-d156-c2efdc259a60"
      },
      "source": [
        "# Cria um dicionário Python para armazenar informações de uma pessoa.\n",
        "# Dicionários são coleções de pares chave-valor, não ordenadas e mutáveis.\n",
        "pessoa_dict = {\n",
        "    \"nome\": \"Carlos\",\n",
        "    \"idade\": 30,\n",
        "    \"cidade\": \"São Paulo\"\n",
        "}\n",
        "\n",
        "# Imprime as informações usando f-string e acessando os valores do dicionário\n",
        "# usando as chaves entre colchetes ([]).\n",
        "print(f\"Dicionário: Nome: {pessoa_dict['nome']}, Idade: {pessoa_dict['idade']}, Cidade: {pessoa_dict['cidade']}\")\n",
        "\n",
        "# Exemplo de como acessar um valor individualmente usando a chave.\n",
        "# print(pessoa_dict['nome'])"
      ],
      "execution_count": 44,
      "outputs": [
        {
          "output_type": "stream",
          "name": "stdout",
          "text": [
            "Dicionário: Nome: Carlos, Idade: 30, Cidade: São Paulo\n"
          ]
        }
      ]
    },
    {
      "cell_type": "markdown",
      "metadata": {
        "id": "07bcbcf0"
      },
      "source": [
        "### Exemplo 3: Usando Variáveis Individuais\n",
        "A abordagem mais simples, usada quando você tem apenas alguns dados soltos sem uma estrutura complexa."
      ]
    },
    {
      "cell_type": "code",
      "metadata": {
        "colab": {
          "base_uri": "https://localhost:8080/"
        },
        "id": "6796c33b",
        "outputId": "540f2f6d-0f2e-448f-a96b-e22502b0ffc2"
      },
      "source": [
        "# Define variáveis individuais para armazenar informações de uma pessoa.\n",
        "nome_var = \"Carlos\"\n",
        "idade_var = 30\n",
        "cidade_var = \"São Paulo\"\n",
        "\n",
        "# Imprime as informações usando f-string e referenciando as variáveis diretamente\n",
        "# dentro das chaves {}.\n",
        "print(f\"Variáveis Individuais: Nome: {nome_var}, Idade: {idade_var}, Cidade: {cidade_var}\")"
      ],
      "execution_count": 45,
      "outputs": [
        {
          "output_type": "stream",
          "name": "stdout",
          "text": [
            "Variáveis Individuais: Nome: Carlos, Idade: 30, Cidade: São Paulo\n"
          ]
        }
      ]
    },
    {
      "cell_type": "markdown",
      "metadata": {
        "id": "b8e7c175"
      },
      "source": [
        "### Exemplo de Classe e Objeto\n",
        "\n",
        "Aqui definimos uma classe `Cachorro` e criamos alguns objetos (instâncias) dessa classe."
      ]
    },
    {
      "cell_type": "code",
      "metadata": {
        "colab": {
          "base_uri": "https://localhost:8080/"
        },
        "id": "214a5bf7",
        "outputId": "050f98ec-b07e-4404-9559-19c95b624dad"
      },
      "source": [
        "# Definição da Classe Cachorro\n",
        "# Uma classe é um molde ou blueprint para criar objetos (instâncias).\n",
        "class Cachorro:\n",
        "    # O método especial __init__ é o construtor da classe.\n",
        "    # Ele é chamado automaticamente quando um novo objeto Cachorro é criado.\n",
        "    # 'self' refere-se à instância do objeto que está sendo inicializada.\n",
        "    # 'nome' e 'idade' são parâmetros que você passa ao criar o objeto.\n",
        "    def __init__(self, nome, idade):\n",
        "        # Atributos: variáveis que pertencem a cada objeto individual criado a partir desta classe.\n",
        "        # self.nome e self.idade armazenam os valores específicos de nome e idade para esta instância.\n",
        "        self.nome = nome\n",
        "        self.idade = idade\n",
        "\n",
        "    # Método: uma função que pertence à classe e pode ser chamada em objetos dela.\n",
        "    # 'self' permite que o método acesse os atributos específicos do objeto que o chamou.\n",
        "    def latir(self):\n",
        "        # Retorna uma string formatada usando f-string, acessando o atributo 'nome' do objeto.\n",
        "        return f\"{self.nome} diz Au Au!\"\n",
        "\n",
        "    # Outro método para descrever o cachorro.\n",
        "    def descrever(self):\n",
        "        # Retorna uma string formatada acessando os atributos 'nome' e 'idade' do objeto.\n",
        "        return f\"Eu sou {self.nome} e tenho {self.idade} anos.\"\n",
        "\n",
        "# Criação de Objetos (Instâncias da Classe Cachorro)\n",
        "# Chamamos o nome da classe como uma função, passando os argumentos para o construtor __init__.\n",
        "# cachorrinho1 e cachorrinho2 são agora objetos distintos da classe Cachorro.\n",
        "cachorrinho1 = Cachorro(\"Buddy\", 3)\n",
        "cachorrinho2 = Cachorro(\"Lucy\", 5)\n",
        "\n",
        "# Acessando atributos dos objetos usando a notação de ponto (objeto.atributo).\n",
        "print(f\"Nome do cachorrinho 1: {cachorrinho1.nome}\")\n",
        "print(f\"Idade do cachorrinho 2: {cachorrinho2.idade}\")\n",
        "\n",
        "# Chamando métodos dos objetos usando a notação de ponto (objeto.metodo()).\n",
        "print(cachorrinho1.latir())\n",
        "print(cachorrinho2.descrever())"
      ],
      "execution_count": 46,
      "outputs": [
        {
          "output_type": "stream",
          "name": "stdout",
          "text": [
            "Nome do cachorrinho 1: Buddy\n",
            "Idade do cachorrinho 2: 5\n",
            "Buddy diz Au Au!\n",
            "Eu sou Lucy e tenho 5 anos.\n"
          ]
        }
      ]
    },
    {
      "cell_type": "markdown",
      "metadata": {
        "id": "f2d7675b"
      },
      "source": [
        "### Exemplo com a Classe `PessoaPydantic` que usamos antes\n",
        "\n",
        "A classe `PessoaPydantic` que você viu é um exemplo de classe (baseada no `BaseModel` do Pydantic). As instâncias que criamos dela são objetos."
      ]
    },
    {
      "cell_type": "code",
      "metadata": {
        "colab": {
          "base_uri": "https://localhost:8080/"
        },
        "id": "122e13bb",
        "outputId": "2cb3ee50-d5cc-4f4b-ace8-9d928434bfee"
      },
      "source": [
        "# Reutilizando a definição da classe PessoaPydantic da célula anterior (se já executada).\n",
        "# Se estiver rodando esta célula isoladamente, descomente as linhas abaixo:\n",
        "# from pydantic import BaseModel\n",
        "# class PessoaPydantic(BaseModel):\n",
        "#     nome: str\n",
        "#     idade: int\n",
        "#     cidade: str\n",
        "\n",
        "# Criando objetos (instâncias) da classe PessoaPydantic.\n",
        "# Cada chamada cria um novo objeto com seus próprios valores para nome, idade e cidade.\n",
        "pessoa1 = PessoaPydantic(nome=\"Alice\", idade=25, cidade=\"Rio de Janeiro\")\n",
        "pessoa2 = PessoaPydantic(nome=\"Bruno\", idade=40, cidade=\"Belo Horizonte\")\n",
        "\n",
        "# Acessando atributos dos objetos usando a notação de ponto (objeto.atributo)\n",
        "# diretamente dentro das f-strings para impressão.\n",
        "print(f\"Nome da pessoa 1: {pessoa1.nome}\")\n",
        "print(f\"Cidade da pessoa 2: {pessoa2.cidade}\")\n",
        "\n",
        "# Embora PessoaPydantic não tenha métodos definidos explicitamente aqui,\n",
        "# objetos criados a partir dela herdam métodos úteis do BaseModel do Pydantic,\n",
        "# como .model_dump() (para obter um dicionário dos dados) ou .model_json() (para obter JSON).\n",
        "# print(pessoa1.model_dump())"
      ],
      "execution_count": 47,
      "outputs": [
        {
          "output_type": "stream",
          "name": "stdout",
          "text": [
            "Nome da pessoa 1: Alice\n",
            "Cidade da pessoa 2: Belo Horizonte\n"
          ]
        }
      ]
    },
    {
      "cell_type": "markdown",
      "metadata": {
        "id": "4b7bc207"
      },
      "source": [
        "### Usos Comuns de {}, [] e . em Python\n",
        "\n",
        "Estes símbolos são fundamentais para trabalhar com diferentes tipos de dados e estruturas em Python.\n",
        "\n",
        "#### {} (Chaves)\n",
        "\n",
        "*   **Dicionários:** Usadas para definir dicionários ou acessar/modificar valores usando chaves."
      ]
    },
    {
      "cell_type": "code",
      "metadata": {
        "colab": {
          "base_uri": "https://localhost:8080/"
        },
        "id": "26586dba",
        "outputId": "127ae08f-d1bf-40fb-f1fb-0e9269e6d55c"
      },
      "source": [
        "    # Define um conjunto. Note que elementos duplicados são automaticamente removidos.\n",
        "    meu_conjunto = {1, 2, 3, 3, 4}\n",
        "    # Imprime o conjunto resultante\n",
        "    print(meu_conjunto) # Saída esperada: {1, 2, 3, 4}"
      ],
      "execution_count": 48,
      "outputs": [
        {
          "output_type": "stream",
          "name": "stdout",
          "text": [
            "{1, 2, 3, 4}\n"
          ]
        }
      ]
    },
    {
      "cell_type": "code",
      "metadata": {
        "colab": {
          "base_uri": "https://localhost:8080/"
        },
        "id": "d21007fa",
        "outputId": "64bf223f-148b-4a90-9df5-e8b32fa7d03b"
      },
      "source": [
        "    # Define variáveis para demonstração\n",
        "    nome = \"Ana\"\n",
        "    idade = 30\n",
        "    # Usa f-string para formatar a string, inserindo variáveis diretamente nas chaves {}\n",
        "    print(f\"Olá, {nome}! Você tem {idade} anos.\") # Exemplo de f-string\n",
        "    # Usa o método .format() para formatar a string, usando chaves {} como placeholders\n",
        "    print(\"Olá, {}! Você tem {} anos.\".format(nome, idade)) # Exemplo de .format()"
      ],
      "execution_count": 49,
      "outputs": [
        {
          "output_type": "stream",
          "name": "stdout",
          "text": [
            "Olá, Ana! Você tem 30 anos.\n",
            "Olá, Ana! Você tem 30 anos.\n"
          ]
        }
      ]
    },
    {
      "cell_type": "code",
      "metadata": {
        "colab": {
          "base_uri": "https://localhost:8080/"
        },
        "id": "836cc845",
        "outputId": "a5dc6b94-8a76-4e9f-f633-eddff7514519"
      },
      "source": [
        "    # Define uma lista\n",
        "    minha_lista = [10, 20, 30]\n",
        "    # Acessa e imprime o elemento no índice 0 (o primeiro elemento) usando colchetes []\n",
        "    print(minha_lista[0]) # Saída esperada: 10\n",
        "    # Modifica o elemento no índice 1 (o segundo elemento) usando colchetes []\n",
        "    minha_lista[1] = 25 # Agora a lista é [10, 25, 30]\n",
        "    # Imprime a lista modificada\n",
        "    print(minha_lista) # Saída esperada: [10, 25, 30]"
      ],
      "execution_count": 51,
      "outputs": [
        {
          "output_type": "stream",
          "name": "stdout",
          "text": [
            "10\n",
            "[10, 25, 30]\n"
          ]
        }
      ]
    },
    {
      "cell_type": "code",
      "metadata": {
        "colab": {
          "base_uri": "https://localhost:8080/"
        },
        "id": "f77f7172",
        "outputId": "8d750a7d-cb23-4956-e9a7-7bd172a0efad"
      },
      "source": [
        "    # Define uma tupla (similar a uma lista, mas imutável)\n",
        "    minha_tupla = (1, 2, 3)\n",
        "    # Acessa e imprime o elemento no índice 1 (o segundo elemento) usando colchetes []\n",
        "    print(minha_tupla[1]) # Saída esperada: 2\n",
        "    # Nota: Não podemos modificar elementos de uma tupla após sua criação\n",
        "    # minha_tupla[0] = 5 # Isso causaria um erro (TypeError)"
      ],
      "execution_count": 52,
      "outputs": [
        {
          "output_type": "stream",
          "name": "stdout",
          "text": [
            "2\n"
          ]
        }
      ]
    },
    {
      "cell_type": "code",
      "metadata": {
        "colab": {
          "base_uri": "https://localhost:8080/"
        },
        "id": "c1a0c796",
        "outputId": "565387a1-c51f-4779-d730-390dd6b67293"
      },
      "source": [
        "    # Define uma string\n",
        "    minha_string = \"Python\"\n",
        "    # Acessa e imprime o caractere no índice 0 (o primeiro caractere) usando colchetes []\n",
        "    print(minha_string[0]) # Saída esperada: 'P'\n",
        "    # Acessa e imprime uma sub-string (fatia) do índice 1 ao 4 (não incluindo 4) usando colchetes []\n",
        "    print(minha_string[1:4]) # Saída esperada: 'yth'"
      ],
      "execution_count": 53,
      "outputs": [
        {
          "output_type": "stream",
          "name": "stdout",
          "text": [
            "P\n",
            "yth\n"
          ]
        }
      ]
    },
    {
      "cell_type": "code",
      "metadata": {
        "colab": {
          "base_uri": "https://localhost:8080/"
        },
        "id": "b289d1e9",
        "outputId": "99610fad-f2e3-4b8e-e7b7-c73eee45839f"
      },
      "source": [
        "    # Define um dicionário\n",
        "    pessoa = {\"nome\": \"Maria\", \"idade\": 28}\n",
        "    # Acessa e imprime o valor associado à chave 'nome' usando colchetes [] e a chave\n",
        "    print(pessoa[\"nome\"]) # Saída esperada: 'Maria'\n",
        "    # Nota: Também é possível modificar valores em um dicionário usando colchetes [] e a chave\n",
        "    # pessoa[\"idade\"] = 29 # Agora a idade é 29\n",
        "    # print(pessoa) # Saída esperada: {'nome': 'Maria', 'idade': 29}"
      ],
      "execution_count": 54,
      "outputs": [
        {
          "output_type": "stream",
          "name": "stdout",
          "text": [
            "Maria\n"
          ]
        }
      ]
    },
    {
      "cell_type": "code",
      "metadata": {
        "colab": {
          "base_uri": "https://localhost:8080/"
        },
        "id": "6dfc32e8",
        "outputId": "38a85414-662d-4c50-d4d9-e7a81cc6c0eb"
      },
      "source": [
        "    # Define uma classe simples\n",
        "    class Exemplo:\n",
        "        # O construtor __init__ inicializa os atributos do objeto\n",
        "        def __init__(self, valor):\n",
        "            self.atributo = valor # Define um atributo 'atributo' usando a notação de ponto '.'\n",
        "\n",
        "        # Define um método para a classe\n",
        "        def metodo(self):\n",
        "            # Acessa o atributo 'atributo' do próprio objeto usando self.atributo\n",
        "            return f\"O valor do atributo é: {self.atributo}\"\n",
        "\n",
        "    # Cria uma instância (objeto) da classe Exemplo\n",
        "    objeto_exemplo = Exemplo(100)\n",
        "    # Acessa e imprime o valor do atributo 'atributo' do objeto usando a notação de ponto '.'\n",
        "    print(objeto_exemplo.atributo) # Saída esperada: 100\n",
        "    # Chama o método 'metodo' do objeto usando a notação de ponto '.' e parênteses ()\n",
        "    print(objeto_exemplo.metodo()) # Saída esperada: 'O valor do atributo é: 100'"
      ],
      "execution_count": 55,
      "outputs": [
        {
          "output_type": "stream",
          "name": "stdout",
          "text": [
            "100\n",
            "O valor do atributo é: 100\n"
          ]
        }
      ]
    },
    {
      "cell_type": "code",
      "metadata": {
        "colab": {
          "base_uri": "https://localhost:8080/"
        },
        "id": "6d1bf5bf",
        "outputId": "e70e584f-5296-49f0-e3b3-78d9b5a8939f"
      },
      "source": [
        "    # Importa o módulo math\n",
        "    import math\n",
        "    # Acessa e imprime o valor da constante pi do módulo math usando a notação de ponto '.'\n",
        "    print(math.pi) # Saída esperada: 3.14159...\n",
        "    # Chama a função sqrt (raiz quadrada) do módulo math usando a notação de ponto '.' e parênteses ()\n",
        "    print(math.sqrt(16)) # Saída esperada: 4.0"
      ],
      "execution_count": 56,
      "outputs": [
        {
          "output_type": "stream",
          "name": "stdout",
          "text": [
            "3.141592653589793\n",
            "4.0\n"
          ]
        }
      ]
    },
    {
      "cell_type": "code",
      "source": [
        "print(\"Estudar é um esforço constante,\\nÉ como cultivar uma planta,\\nPrecisamos de dedicação e paciência,\\nPara ver o fruto amadurecer.\")"
      ],
      "metadata": {
        "colab": {
          "base_uri": "https://localhost:8080/"
        },
        "id": "fLvflJOTwcrs",
        "outputId": "c86d7da5-9c98-4255-e4f6-c84cbb9ba2e9"
      },
      "execution_count": 57,
      "outputs": [
        {
          "output_type": "stream",
          "name": "stdout",
          "text": [
            "Estudar é um esforço constante,\n",
            "É como cultivar uma planta,\n",
            "Precisamos de dedicação e paciência,\n",
            "Para ver o fruto amadurecer.\n"
          ]
        }
      ]
    },
    {
      "cell_type": "code",
      "source": [
        "print('Quantidade\\tQualidade\\n5 amostras\\tAlta\\n3 amostras\\tBaixa')"
      ],
      "metadata": {
        "colab": {
          "base_uri": "https://localhost:8080/"
        },
        "id": "zJ_vhT16wf6-",
        "outputId": "bbbc98ea-d133-4b14-d407-7f45b2e11657"
      },
      "execution_count": 58,
      "outputs": [
        {
          "output_type": "stream",
          "name": "stdout",
          "text": [
            "Quantidade\tQualidade\n",
            "5 amostras\tAlta\n",
            "3 amostras\tBaixa\n"
          ]
        }
      ]
    },
    {
      "cell_type": "code",
      "source": [
        "print(\"Ouvi uma vez \\\"Os frutos do conhecimento são os mais doces e duradouros de todos.\\\"\")"
      ],
      "metadata": {
        "colab": {
          "base_uri": "https://localhost:8080/"
        },
        "id": "VmcXiLjLwo1m",
        "outputId": "42a8224a-86d5-4eac-e45c-5b862a13b50a"
      },
      "execution_count": 59,
      "outputs": [
        {
          "output_type": "stream",
          "name": "stdout",
          "text": [
            "Ouvi uma vez \"Os frutos do conhecimento são os mais doces e duradouros de todos.\"\n"
          ]
        }
      ]
    },
    {
      "cell_type": "code",
      "source": [
        "print('Minha professora uma vez disse \\'Estudar é a chave do sucesso.\\' ')"
      ],
      "metadata": {
        "colab": {
          "base_uri": "https://localhost:8080/"
        },
        "id": "6izmD0P6wuwv",
        "outputId": "bb8267da-bece-44f8-e69d-d088afdcee5f"
      },
      "execution_count": 60,
      "outputs": [
        {
          "output_type": "stream",
          "name": "stdout",
          "text": [
            "Minha professora uma vez disse 'Estudar é a chave do sucesso.' \n"
          ]
        }
      ]
    }
  ]
}